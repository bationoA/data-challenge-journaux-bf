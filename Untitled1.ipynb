{
 "cells": [
  {
   "cell_type": "code",
   "execution_count": 6,
   "id": "43ce7197-19b9-4eed-a905-a57c9a253fdf",
   "metadata": {},
   "outputs": [
    {
     "name": "stdout",
     "output_type": "stream",
     "text": [
      "Collecting en-core-web-sm==3.7.1\n",
      "  Downloading https://github.com/explosion/spacy-models/releases/download/en_core_web_sm-3.7.1/en_core_web_sm-3.7.1-py3-none-any.whl (12.8 MB)\n",
      "\u001b[2K     \u001b[90m━━━━━━━━━━━━━━━━━━━━━━━━━━━━━━━━━━━━━━━━\u001b[0m \u001b[32m12.8/12.8 MB\u001b[0m \u001b[31m1.2 MB/s\u001b[0m eta \u001b[36m0:00:00\u001b[0m00:01\u001b[0m00:01\u001b[0mm\n",
      "\u001b[?25hRequirement already satisfied: spacy<3.8.0,>=3.7.2 in /home/bationo/.virtualenvs/jobs-scraper/lib/python3.10/site-packages (from en-core-web-sm==3.7.1) (3.7.4)\n",
      "Requirement already satisfied: spacy-legacy<3.1.0,>=3.0.11 in /home/bationo/.virtualenvs/jobs-scraper/lib/python3.10/site-packages (from spacy<3.8.0,>=3.7.2->en-core-web-sm==3.7.1) (3.0.12)\n",
      "Requirement already satisfied: spacy-loggers<2.0.0,>=1.0.0 in /home/bationo/.virtualenvs/jobs-scraper/lib/python3.10/site-packages (from spacy<3.8.0,>=3.7.2->en-core-web-sm==3.7.1) (1.0.5)\n",
      "Requirement already satisfied: murmurhash<1.1.0,>=0.28.0 in /home/bationo/.virtualenvs/jobs-scraper/lib/python3.10/site-packages (from spacy<3.8.0,>=3.7.2->en-core-web-sm==3.7.1) (1.0.10)\n",
      "Requirement already satisfied: cymem<2.1.0,>=2.0.2 in /home/bationo/.virtualenvs/jobs-scraper/lib/python3.10/site-packages (from spacy<3.8.0,>=3.7.2->en-core-web-sm==3.7.1) (2.0.8)\n",
      "Requirement already satisfied: preshed<3.1.0,>=3.0.2 in /home/bationo/.virtualenvs/jobs-scraper/lib/python3.10/site-packages (from spacy<3.8.0,>=3.7.2->en-core-web-sm==3.7.1) (3.0.9)\n",
      "Requirement already satisfied: thinc<8.3.0,>=8.2.2 in /home/bationo/.virtualenvs/jobs-scraper/lib/python3.10/site-packages (from spacy<3.8.0,>=3.7.2->en-core-web-sm==3.7.1) (8.2.3)\n",
      "Requirement already satisfied: wasabi<1.2.0,>=0.9.1 in /home/bationo/.virtualenvs/jobs-scraper/lib/python3.10/site-packages (from spacy<3.8.0,>=3.7.2->en-core-web-sm==3.7.1) (1.1.2)\n",
      "Requirement already satisfied: srsly<3.0.0,>=2.4.3 in /home/bationo/.virtualenvs/jobs-scraper/lib/python3.10/site-packages (from spacy<3.8.0,>=3.7.2->en-core-web-sm==3.7.1) (2.4.8)\n",
      "Requirement already satisfied: catalogue<2.1.0,>=2.0.6 in /home/bationo/.virtualenvs/jobs-scraper/lib/python3.10/site-packages (from spacy<3.8.0,>=3.7.2->en-core-web-sm==3.7.1) (2.0.10)\n",
      "Requirement already satisfied: weasel<0.4.0,>=0.1.0 in /home/bationo/.virtualenvs/jobs-scraper/lib/python3.10/site-packages (from spacy<3.8.0,>=3.7.2->en-core-web-sm==3.7.1) (0.3.4)\n",
      "Requirement already satisfied: typer<0.10.0,>=0.3.0 in /home/bationo/.virtualenvs/jobs-scraper/lib/python3.10/site-packages (from spacy<3.8.0,>=3.7.2->en-core-web-sm==3.7.1) (0.9.4)\n",
      "Requirement already satisfied: smart-open<7.0.0,>=5.2.1 in /home/bationo/.virtualenvs/jobs-scraper/lib/python3.10/site-packages (from spacy<3.8.0,>=3.7.2->en-core-web-sm==3.7.1) (6.4.0)\n",
      "Requirement already satisfied: tqdm<5.0.0,>=4.38.0 in /home/bationo/.virtualenvs/jobs-scraper/lib/python3.10/site-packages (from spacy<3.8.0,>=3.7.2->en-core-web-sm==3.7.1) (4.66.2)\n",
      "Requirement already satisfied: requests<3.0.0,>=2.13.0 in /home/bationo/.virtualenvs/jobs-scraper/lib/python3.10/site-packages (from spacy<3.8.0,>=3.7.2->en-core-web-sm==3.7.1) (2.31.0)\n",
      "Requirement already satisfied: pydantic!=1.8,!=1.8.1,<3.0.0,>=1.7.4 in /home/bationo/.virtualenvs/jobs-scraper/lib/python3.10/site-packages (from spacy<3.8.0,>=3.7.2->en-core-web-sm==3.7.1) (2.4.2)\n",
      "Requirement already satisfied: jinja2 in /home/bationo/.virtualenvs/jobs-scraper/lib/python3.10/site-packages (from spacy<3.8.0,>=3.7.2->en-core-web-sm==3.7.1) (3.1.3)\n",
      "Requirement already satisfied: setuptools in /home/bationo/.virtualenvs/jobs-scraper/lib/python3.10/site-packages (from spacy<3.8.0,>=3.7.2->en-core-web-sm==3.7.1) (68.1.2)\n",
      "Requirement already satisfied: packaging>=20.0 in /home/bationo/.virtualenvs/jobs-scraper/lib/python3.10/site-packages (from spacy<3.8.0,>=3.7.2->en-core-web-sm==3.7.1) (24.0)\n",
      "Requirement already satisfied: langcodes<4.0.0,>=3.2.0 in /home/bationo/.virtualenvs/jobs-scraper/lib/python3.10/site-packages (from spacy<3.8.0,>=3.7.2->en-core-web-sm==3.7.1) (3.3.0)\n",
      "Requirement already satisfied: numpy>=1.19.0 in /home/bationo/.virtualenvs/jobs-scraper/lib/python3.10/site-packages (from spacy<3.8.0,>=3.7.2->en-core-web-sm==3.7.1) (1.26.4)\n",
      "Requirement already satisfied: annotated-types>=0.4.0 in /home/bationo/.virtualenvs/jobs-scraper/lib/python3.10/site-packages (from pydantic!=1.8,!=1.8.1,<3.0.0,>=1.7.4->spacy<3.8.0,>=3.7.2->en-core-web-sm==3.7.1) (0.6.0)\n",
      "Requirement already satisfied: pydantic-core==2.10.1 in /home/bationo/.virtualenvs/jobs-scraper/lib/python3.10/site-packages (from pydantic!=1.8,!=1.8.1,<3.0.0,>=1.7.4->spacy<3.8.0,>=3.7.2->en-core-web-sm==3.7.1) (2.10.1)\n",
      "Requirement already satisfied: typing-extensions>=4.6.1 in /home/bationo/.virtualenvs/jobs-scraper/lib/python3.10/site-packages (from pydantic!=1.8,!=1.8.1,<3.0.0,>=1.7.4->spacy<3.8.0,>=3.7.2->en-core-web-sm==3.7.1) (4.8.0)\n",
      "Requirement already satisfied: charset-normalizer<4,>=2 in /home/bationo/.virtualenvs/jobs-scraper/lib/python3.10/site-packages (from requests<3.0.0,>=2.13.0->spacy<3.8.0,>=3.7.2->en-core-web-sm==3.7.1) (3.3.2)\n",
      "Requirement already satisfied: idna<4,>=2.5 in /home/bationo/.virtualenvs/jobs-scraper/lib/python3.10/site-packages (from requests<3.0.0,>=2.13.0->spacy<3.8.0,>=3.7.2->en-core-web-sm==3.7.1) (3.4)\n",
      "Requirement already satisfied: urllib3<3,>=1.21.1 in /home/bationo/.virtualenvs/jobs-scraper/lib/python3.10/site-packages (from requests<3.0.0,>=2.13.0->spacy<3.8.0,>=3.7.2->en-core-web-sm==3.7.1) (2.2.1)\n",
      "Requirement already satisfied: certifi>=2017.4.17 in /home/bationo/.virtualenvs/jobs-scraper/lib/python3.10/site-packages (from requests<3.0.0,>=2.13.0->spacy<3.8.0,>=3.7.2->en-core-web-sm==3.7.1) (2024.2.2)\n",
      "Requirement already satisfied: blis<0.8.0,>=0.7.8 in /home/bationo/.virtualenvs/jobs-scraper/lib/python3.10/site-packages (from thinc<8.3.0,>=8.2.2->spacy<3.8.0,>=3.7.2->en-core-web-sm==3.7.1) (0.7.11)\n",
      "Requirement already satisfied: confection<1.0.0,>=0.0.1 in /home/bationo/.virtualenvs/jobs-scraper/lib/python3.10/site-packages (from thinc<8.3.0,>=8.2.2->spacy<3.8.0,>=3.7.2->en-core-web-sm==3.7.1) (0.1.4)\n",
      "Requirement already satisfied: click<9.0.0,>=7.1.1 in /home/bationo/.virtualenvs/jobs-scraper/lib/python3.10/site-packages (from typer<0.10.0,>=0.3.0->spacy<3.8.0,>=3.7.2->en-core-web-sm==3.7.1) (8.1.7)\n",
      "Requirement already satisfied: cloudpathlib<0.17.0,>=0.7.0 in /home/bationo/.virtualenvs/jobs-scraper/lib/python3.10/site-packages (from weasel<0.4.0,>=0.1.0->spacy<3.8.0,>=3.7.2->en-core-web-sm==3.7.1) (0.16.0)\n",
      "Requirement already satisfied: MarkupSafe>=2.0 in /home/bationo/.virtualenvs/jobs-scraper/lib/python3.10/site-packages (from jinja2->spacy<3.8.0,>=3.7.2->en-core-web-sm==3.7.1) (2.1.5)\n",
      "Installing collected packages: en-core-web-sm\n",
      "Successfully installed en-core-web-sm-3.7.1\n",
      "\u001b[38;5;2m✔ Download and installation successful\u001b[0m\n",
      "You can now load the package via spacy.load('en_core_web_sm')\n"
     ]
    }
   ],
   "source": [
    "# !pip install spacy\n",
    "# !pip install translate\n",
    "# !pip install selenium\n",
    "!python -m spacy download en_core_web_sm"
   ]
  },
  {
   "cell_type": "code",
   "execution_count": 23,
   "id": "392ede05-f63e-47f4-8d70-66e35b1d28fb",
   "metadata": {},
   "outputs": [
    {
     "name": "stdout",
     "output_type": "stream",
     "text": [
      "Extracted Skills:\n",
      "- python (TECHNICAL_SKILL)\n",
      "- communication skills (SOFT_SKILL)\n"
     ]
    }
   ],
   "source": [
    "import spacy\n",
    "\n",
    "# Load the spaCy English language model with NER\n",
    "nlp = spacy.load(\"en_core_web_sm\")\n",
    "\n",
    "# Define some skill patterns (adapt and expand this list as needed)\n",
    "skills_pattern = [\n",
    "    {\"label\": \"TECHNICAL_SKILL\", \"pattern\": r\"(Java|Python|C++) developer\"},\n",
    "    {\"label\": \"TECHNICAL_SKILL\", \"pattern\": r\"html\"},\n",
    "    {\"label\": \"TECHNICAL_SKILL\", \"pattern\": r\"python\"},\n",
    "    {\"label\": \"SOFT_SKILL\", \"pattern\": r\"communication skills\"},\n",
    "]\n",
    "\n",
    "# Add the patterns to the spaCy entity ruler\n",
    "ruler = nlp.add_pipe(\"entity_ruler\")\n",
    "ruler.add_patterns(skills_pattern)\n",
    "\n",
    "def identify_skills(text):\n",
    "  \"\"\"\n",
    "  This function takes a job description (text) and identifies skills using spaCy.\n",
    "  \"\"\"\n",
    "  doc = nlp(text)\n",
    "  skills = []\n",
    "  for ent in doc.ents:\n",
    "    skills.append((ent.text, ent.label_))\n",
    "  return skills\n",
    "\n",
    "# Example usage\n",
    "# job_description = \"We are looking for a html developer .\"\n",
    "job_description = \"We are looking for a Python developer with excellent communication skills.\"\n",
    "extracted_skills = identify_skills(job_description.lower())\n",
    "\n",
    "if extracted_skills:\n",
    "  print(\"Extracted Skills:\")\n",
    "  for skill, label in extracted_skills:\n",
    "    print(f\"- {skill} ({label})\")\n",
    "else:\n",
    "  print(\"No skills found in the job description.\")\n"
   ]
  },
  {
   "cell_type": "code",
   "execution_count": 17,
   "id": "eca1f33d-f100-41be-87b9-f2be93a96bdd",
   "metadata": {},
   "outputs": [
    {
     "data": {
      "text/plain": [
       "[('communication skills', 'SOFT_SKILL')]"
      ]
     },
     "execution_count": 17,
     "metadata": {},
     "output_type": "execute_result"
    }
   ],
   "source": [
    "extracted_skills"
   ]
  },
  {
   "cell_type": "code",
   "execution_count": 3,
   "id": "6699f50c-19fd-4451-905f-f78a3250afa1",
   "metadata": {},
   "outputs": [],
   "source": [
    "from translate import Translator"
   ]
  },
  {
   "cell_type": "code",
   "execution_count": 2,
   "id": "61f324b0-e2b3-4a2f-ad74-b54ce38f1958",
   "metadata": {},
   "outputs": [],
   "source": [
    "languages = ['en', 'fr', 'it']"
   ]
  },
  {
   "cell_type": "code",
   "execution_count": 4,
   "id": "811c8201-6a9b-4fc8-ba8b-cee79766571f",
   "metadata": {},
   "outputs": [],
   "source": [
    "translator_en_fr = Translator(provider='libre', from_lang='en', to_lang='fr')"
   ]
  },
  {
   "cell_type": "code",
   "execution_count": 5,
   "id": "6e4e621b-0c9c-4224-9947-f9a9ab7ac711",
   "metadata": {},
   "outputs": [
    {
     "ename": "TranslationError",
     "evalue": "<urlopen error [Errno -2] Name or service not known>",
     "output_type": "error",
     "traceback": [
      "\u001b[0;31m---------------------------------------------------------------------------\u001b[0m",
      "\u001b[0;31mgaierror\u001b[0m                                  Traceback (most recent call last)",
      "File \u001b[0;32m/usr/lib/python3.10/urllib/request.py:1348\u001b[0m, in \u001b[0;36mAbstractHTTPHandler.do_open\u001b[0;34m(self, http_class, req, **http_conn_args)\u001b[0m\n\u001b[1;32m   1347\u001b[0m \u001b[38;5;28;01mtry\u001b[39;00m:\n\u001b[0;32m-> 1348\u001b[0m     \u001b[43mh\u001b[49m\u001b[38;5;241;43m.\u001b[39;49m\u001b[43mrequest\u001b[49m\u001b[43m(\u001b[49m\u001b[43mreq\u001b[49m\u001b[38;5;241;43m.\u001b[39;49m\u001b[43mget_method\u001b[49m\u001b[43m(\u001b[49m\u001b[43m)\u001b[49m\u001b[43m,\u001b[49m\u001b[43m \u001b[49m\u001b[43mreq\u001b[49m\u001b[38;5;241;43m.\u001b[39;49m\u001b[43mselector\u001b[49m\u001b[43m,\u001b[49m\u001b[43m \u001b[49m\u001b[43mreq\u001b[49m\u001b[38;5;241;43m.\u001b[39;49m\u001b[43mdata\u001b[49m\u001b[43m,\u001b[49m\u001b[43m \u001b[49m\u001b[43mheaders\u001b[49m\u001b[43m,\u001b[49m\n\u001b[1;32m   1349\u001b[0m \u001b[43m              \u001b[49m\u001b[43mencode_chunked\u001b[49m\u001b[38;5;241;43m=\u001b[39;49m\u001b[43mreq\u001b[49m\u001b[38;5;241;43m.\u001b[39;49m\u001b[43mhas_header\u001b[49m\u001b[43m(\u001b[49m\u001b[38;5;124;43m'\u001b[39;49m\u001b[38;5;124;43mTransfer-encoding\u001b[39;49m\u001b[38;5;124;43m'\u001b[39;49m\u001b[43m)\u001b[49m\u001b[43m)\u001b[49m\n\u001b[1;32m   1350\u001b[0m \u001b[38;5;28;01mexcept\u001b[39;00m \u001b[38;5;167;01mOSError\u001b[39;00m \u001b[38;5;28;01mas\u001b[39;00m err: \u001b[38;5;66;03m# timeout error\u001b[39;00m\n",
      "File \u001b[0;32m/usr/lib/python3.10/http/client.py:1283\u001b[0m, in \u001b[0;36mHTTPConnection.request\u001b[0;34m(self, method, url, body, headers, encode_chunked)\u001b[0m\n\u001b[1;32m   1282\u001b[0m \u001b[38;5;250m\u001b[39m\u001b[38;5;124;03m\"\"\"Send a complete request to the server.\"\"\"\u001b[39;00m\n\u001b[0;32m-> 1283\u001b[0m \u001b[38;5;28;43mself\u001b[39;49m\u001b[38;5;241;43m.\u001b[39;49m\u001b[43m_send_request\u001b[49m\u001b[43m(\u001b[49m\u001b[43mmethod\u001b[49m\u001b[43m,\u001b[49m\u001b[43m \u001b[49m\u001b[43murl\u001b[49m\u001b[43m,\u001b[49m\u001b[43m \u001b[49m\u001b[43mbody\u001b[49m\u001b[43m,\u001b[49m\u001b[43m \u001b[49m\u001b[43mheaders\u001b[49m\u001b[43m,\u001b[49m\u001b[43m \u001b[49m\u001b[43mencode_chunked\u001b[49m\u001b[43m)\u001b[49m\n",
      "File \u001b[0;32m/usr/lib/python3.10/http/client.py:1329\u001b[0m, in \u001b[0;36mHTTPConnection._send_request\u001b[0;34m(self, method, url, body, headers, encode_chunked)\u001b[0m\n\u001b[1;32m   1328\u001b[0m     body \u001b[38;5;241m=\u001b[39m _encode(body, \u001b[38;5;124m'\u001b[39m\u001b[38;5;124mbody\u001b[39m\u001b[38;5;124m'\u001b[39m)\n\u001b[0;32m-> 1329\u001b[0m \u001b[38;5;28;43mself\u001b[39;49m\u001b[38;5;241;43m.\u001b[39;49m\u001b[43mendheaders\u001b[49m\u001b[43m(\u001b[49m\u001b[43mbody\u001b[49m\u001b[43m,\u001b[49m\u001b[43m \u001b[49m\u001b[43mencode_chunked\u001b[49m\u001b[38;5;241;43m=\u001b[39;49m\u001b[43mencode_chunked\u001b[49m\u001b[43m)\u001b[49m\n",
      "File \u001b[0;32m/usr/lib/python3.10/http/client.py:1278\u001b[0m, in \u001b[0;36mHTTPConnection.endheaders\u001b[0;34m(self, message_body, encode_chunked)\u001b[0m\n\u001b[1;32m   1277\u001b[0m     \u001b[38;5;28;01mraise\u001b[39;00m CannotSendHeader()\n\u001b[0;32m-> 1278\u001b[0m \u001b[38;5;28;43mself\u001b[39;49m\u001b[38;5;241;43m.\u001b[39;49m\u001b[43m_send_output\u001b[49m\u001b[43m(\u001b[49m\u001b[43mmessage_body\u001b[49m\u001b[43m,\u001b[49m\u001b[43m \u001b[49m\u001b[43mencode_chunked\u001b[49m\u001b[38;5;241;43m=\u001b[39;49m\u001b[43mencode_chunked\u001b[49m\u001b[43m)\u001b[49m\n",
      "File \u001b[0;32m/usr/lib/python3.10/http/client.py:1038\u001b[0m, in \u001b[0;36mHTTPConnection._send_output\u001b[0;34m(self, message_body, encode_chunked)\u001b[0m\n\u001b[1;32m   1037\u001b[0m \u001b[38;5;28;01mdel\u001b[39;00m \u001b[38;5;28mself\u001b[39m\u001b[38;5;241m.\u001b[39m_buffer[:]\n\u001b[0;32m-> 1038\u001b[0m \u001b[38;5;28;43mself\u001b[39;49m\u001b[38;5;241;43m.\u001b[39;49m\u001b[43msend\u001b[49m\u001b[43m(\u001b[49m\u001b[43mmsg\u001b[49m\u001b[43m)\u001b[49m\n\u001b[1;32m   1040\u001b[0m \u001b[38;5;28;01mif\u001b[39;00m message_body \u001b[38;5;129;01mis\u001b[39;00m \u001b[38;5;129;01mnot\u001b[39;00m \u001b[38;5;28;01mNone\u001b[39;00m:\n\u001b[1;32m   1041\u001b[0m \n\u001b[1;32m   1042\u001b[0m     \u001b[38;5;66;03m# create a consistent interface to message_body\u001b[39;00m\n",
      "File \u001b[0;32m/usr/lib/python3.10/http/client.py:976\u001b[0m, in \u001b[0;36mHTTPConnection.send\u001b[0;34m(self, data)\u001b[0m\n\u001b[1;32m    975\u001b[0m \u001b[38;5;28;01mif\u001b[39;00m \u001b[38;5;28mself\u001b[39m\u001b[38;5;241m.\u001b[39mauto_open:\n\u001b[0;32m--> 976\u001b[0m     \u001b[38;5;28;43mself\u001b[39;49m\u001b[38;5;241;43m.\u001b[39;49m\u001b[43mconnect\u001b[49m\u001b[43m(\u001b[49m\u001b[43m)\u001b[49m\n\u001b[1;32m    977\u001b[0m \u001b[38;5;28;01melse\u001b[39;00m:\n",
      "File \u001b[0;32m/usr/lib/python3.10/http/client.py:1448\u001b[0m, in \u001b[0;36mHTTPSConnection.connect\u001b[0;34m(self)\u001b[0m\n\u001b[1;32m   1446\u001b[0m \u001b[38;5;124m\"\u001b[39m\u001b[38;5;124mConnect to a host on a given (SSL) port.\u001b[39m\u001b[38;5;124m\"\u001b[39m\n\u001b[0;32m-> 1448\u001b[0m \u001b[38;5;28;43msuper\u001b[39;49m\u001b[43m(\u001b[49m\u001b[43m)\u001b[49m\u001b[38;5;241;43m.\u001b[39;49m\u001b[43mconnect\u001b[49m\u001b[43m(\u001b[49m\u001b[43m)\u001b[49m\n\u001b[1;32m   1450\u001b[0m \u001b[38;5;28;01mif\u001b[39;00m \u001b[38;5;28mself\u001b[39m\u001b[38;5;241m.\u001b[39m_tunnel_host:\n",
      "File \u001b[0;32m/usr/lib/python3.10/http/client.py:942\u001b[0m, in \u001b[0;36mHTTPConnection.connect\u001b[0;34m(self)\u001b[0m\n\u001b[1;32m    941\u001b[0m sys\u001b[38;5;241m.\u001b[39maudit(\u001b[38;5;124m\"\u001b[39m\u001b[38;5;124mhttp.client.connect\u001b[39m\u001b[38;5;124m\"\u001b[39m, \u001b[38;5;28mself\u001b[39m, \u001b[38;5;28mself\u001b[39m\u001b[38;5;241m.\u001b[39mhost, \u001b[38;5;28mself\u001b[39m\u001b[38;5;241m.\u001b[39mport)\n\u001b[0;32m--> 942\u001b[0m \u001b[38;5;28mself\u001b[39m\u001b[38;5;241m.\u001b[39msock \u001b[38;5;241m=\u001b[39m \u001b[38;5;28;43mself\u001b[39;49m\u001b[38;5;241;43m.\u001b[39;49m\u001b[43m_create_connection\u001b[49m\u001b[43m(\u001b[49m\n\u001b[1;32m    943\u001b[0m \u001b[43m    \u001b[49m\u001b[43m(\u001b[49m\u001b[38;5;28;43mself\u001b[39;49m\u001b[38;5;241;43m.\u001b[39;49m\u001b[43mhost\u001b[49m\u001b[43m,\u001b[49m\u001b[38;5;28;43mself\u001b[39;49m\u001b[38;5;241;43m.\u001b[39;49m\u001b[43mport\u001b[49m\u001b[43m)\u001b[49m\u001b[43m,\u001b[49m\u001b[43m \u001b[49m\u001b[38;5;28;43mself\u001b[39;49m\u001b[38;5;241;43m.\u001b[39;49m\u001b[43mtimeout\u001b[49m\u001b[43m,\u001b[49m\u001b[43m \u001b[49m\u001b[38;5;28;43mself\u001b[39;49m\u001b[38;5;241;43m.\u001b[39;49m\u001b[43msource_address\u001b[49m\u001b[43m)\u001b[49m\n\u001b[1;32m    944\u001b[0m \u001b[38;5;66;03m# Might fail in OSs that don't implement TCP_NODELAY\u001b[39;00m\n",
      "File \u001b[0;32m/usr/lib/python3.10/socket.py:824\u001b[0m, in \u001b[0;36mcreate_connection\u001b[0;34m(address, timeout, source_address)\u001b[0m\n\u001b[1;32m    823\u001b[0m err \u001b[38;5;241m=\u001b[39m \u001b[38;5;28;01mNone\u001b[39;00m\n\u001b[0;32m--> 824\u001b[0m \u001b[38;5;28;01mfor\u001b[39;00m res \u001b[38;5;129;01min\u001b[39;00m \u001b[43mgetaddrinfo\u001b[49m\u001b[43m(\u001b[49m\u001b[43mhost\u001b[49m\u001b[43m,\u001b[49m\u001b[43m \u001b[49m\u001b[43mport\u001b[49m\u001b[43m,\u001b[49m\u001b[43m \u001b[49m\u001b[38;5;241;43m0\u001b[39;49m\u001b[43m,\u001b[49m\u001b[43m \u001b[49m\u001b[43mSOCK_STREAM\u001b[49m\u001b[43m)\u001b[49m:\n\u001b[1;32m    825\u001b[0m     af, socktype, proto, canonname, sa \u001b[38;5;241m=\u001b[39m res\n",
      "File \u001b[0;32m/usr/lib/python3.10/socket.py:955\u001b[0m, in \u001b[0;36mgetaddrinfo\u001b[0;34m(host, port, family, type, proto, flags)\u001b[0m\n\u001b[1;32m    954\u001b[0m addrlist \u001b[38;5;241m=\u001b[39m []\n\u001b[0;32m--> 955\u001b[0m \u001b[38;5;28;01mfor\u001b[39;00m res \u001b[38;5;129;01min\u001b[39;00m \u001b[43m_socket\u001b[49m\u001b[38;5;241;43m.\u001b[39;49m\u001b[43mgetaddrinfo\u001b[49m\u001b[43m(\u001b[49m\u001b[43mhost\u001b[49m\u001b[43m,\u001b[49m\u001b[43m \u001b[49m\u001b[43mport\u001b[49m\u001b[43m,\u001b[49m\u001b[43m \u001b[49m\u001b[43mfamily\u001b[49m\u001b[43m,\u001b[49m\u001b[43m \u001b[49m\u001b[38;5;28;43mtype\u001b[39;49m\u001b[43m,\u001b[49m\u001b[43m \u001b[49m\u001b[43mproto\u001b[49m\u001b[43m,\u001b[49m\u001b[43m \u001b[49m\u001b[43mflags\u001b[49m\u001b[43m)\u001b[49m:\n\u001b[1;32m    956\u001b[0m     af, socktype, proto, canonname, sa \u001b[38;5;241m=\u001b[39m res\n",
      "\u001b[0;31mgaierror\u001b[0m: [Errno -2] Name or service not known",
      "\nDuring handling of the above exception, another exception occurred:\n",
      "\u001b[0;31mURLError\u001b[0m                                  Traceback (most recent call last)",
      "File \u001b[0;32m~/.virtualenvs/jobs-scraper/lib/python3.10/site-packages/translate/providers/libre.py:32\u001b[0m, in \u001b[0;36mLibreProvider.get_translation\u001b[0;34m(self, text)\u001b[0m\n\u001b[1;32m     31\u001b[0m \u001b[38;5;28;01mtry\u001b[39;00m:\n\u001b[0;32m---> 32\u001b[0m     \u001b[38;5;28;01mreturn\u001b[39;00m \u001b[38;5;28;43mself\u001b[39;49m\u001b[38;5;241;43m.\u001b[39;49m\u001b[43mapi\u001b[49m\u001b[38;5;241;43m.\u001b[39;49m\u001b[43mtranslate\u001b[49m\u001b[43m(\u001b[49m\u001b[43mtext\u001b[49m\u001b[43m,\u001b[49m\u001b[43m \u001b[49m\u001b[43mfrom_lang\u001b[49m\u001b[43m,\u001b[49m\u001b[43m \u001b[49m\u001b[38;5;28;43mself\u001b[39;49m\u001b[38;5;241;43m.\u001b[39;49m\u001b[43mto_lang\u001b[49m\u001b[43m)\u001b[49m\n\u001b[1;32m     33\u001b[0m \u001b[38;5;28;01mexcept\u001b[39;00m \u001b[38;5;167;01mException\u001b[39;00m \u001b[38;5;28;01mas\u001b[39;00m e:\n",
      "File \u001b[0;32m~/.virtualenvs/jobs-scraper/lib/python3.10/site-packages/libretranslatepy/api.py:56\u001b[0m, in \u001b[0;36mLibreTranslateAPI.translate\u001b[0;34m(self, q, source, target)\u001b[0m\n\u001b[1;32m     54\u001b[0m req \u001b[38;5;241m=\u001b[39m request\u001b[38;5;241m.\u001b[39mRequest(url, data\u001b[38;5;241m=\u001b[39murl_params\u001b[38;5;241m.\u001b[39mencode())\n\u001b[0;32m---> 56\u001b[0m response \u001b[38;5;241m=\u001b[39m \u001b[43mrequest\u001b[49m\u001b[38;5;241;43m.\u001b[39;49m\u001b[43murlopen\u001b[49m\u001b[43m(\u001b[49m\u001b[43mreq\u001b[49m\u001b[43m)\u001b[49m\n\u001b[1;32m     58\u001b[0m response_str \u001b[38;5;241m=\u001b[39m response\u001b[38;5;241m.\u001b[39mread()\u001b[38;5;241m.\u001b[39mdecode()\n",
      "File \u001b[0;32m/usr/lib/python3.10/urllib/request.py:216\u001b[0m, in \u001b[0;36murlopen\u001b[0;34m(url, data, timeout, cafile, capath, cadefault, context)\u001b[0m\n\u001b[1;32m    215\u001b[0m     opener \u001b[38;5;241m=\u001b[39m _opener\n\u001b[0;32m--> 216\u001b[0m \u001b[38;5;28;01mreturn\u001b[39;00m \u001b[43mopener\u001b[49m\u001b[38;5;241;43m.\u001b[39;49m\u001b[43mopen\u001b[49m\u001b[43m(\u001b[49m\u001b[43murl\u001b[49m\u001b[43m,\u001b[49m\u001b[43m \u001b[49m\u001b[43mdata\u001b[49m\u001b[43m,\u001b[49m\u001b[43m \u001b[49m\u001b[43mtimeout\u001b[49m\u001b[43m)\u001b[49m\n",
      "File \u001b[0;32m/usr/lib/python3.10/urllib/request.py:519\u001b[0m, in \u001b[0;36mOpenerDirector.open\u001b[0;34m(self, fullurl, data, timeout)\u001b[0m\n\u001b[1;32m    518\u001b[0m sys\u001b[38;5;241m.\u001b[39maudit(\u001b[38;5;124m'\u001b[39m\u001b[38;5;124murllib.Request\u001b[39m\u001b[38;5;124m'\u001b[39m, req\u001b[38;5;241m.\u001b[39mfull_url, req\u001b[38;5;241m.\u001b[39mdata, req\u001b[38;5;241m.\u001b[39mheaders, req\u001b[38;5;241m.\u001b[39mget_method())\n\u001b[0;32m--> 519\u001b[0m response \u001b[38;5;241m=\u001b[39m \u001b[38;5;28;43mself\u001b[39;49m\u001b[38;5;241;43m.\u001b[39;49m\u001b[43m_open\u001b[49m\u001b[43m(\u001b[49m\u001b[43mreq\u001b[49m\u001b[43m,\u001b[49m\u001b[43m \u001b[49m\u001b[43mdata\u001b[49m\u001b[43m)\u001b[49m\n\u001b[1;32m    521\u001b[0m \u001b[38;5;66;03m# post-process response\u001b[39;00m\n",
      "File \u001b[0;32m/usr/lib/python3.10/urllib/request.py:536\u001b[0m, in \u001b[0;36mOpenerDirector._open\u001b[0;34m(self, req, data)\u001b[0m\n\u001b[1;32m    535\u001b[0m protocol \u001b[38;5;241m=\u001b[39m req\u001b[38;5;241m.\u001b[39mtype\n\u001b[0;32m--> 536\u001b[0m result \u001b[38;5;241m=\u001b[39m \u001b[38;5;28;43mself\u001b[39;49m\u001b[38;5;241;43m.\u001b[39;49m\u001b[43m_call_chain\u001b[49m\u001b[43m(\u001b[49m\u001b[38;5;28;43mself\u001b[39;49m\u001b[38;5;241;43m.\u001b[39;49m\u001b[43mhandle_open\u001b[49m\u001b[43m,\u001b[49m\u001b[43m \u001b[49m\u001b[43mprotocol\u001b[49m\u001b[43m,\u001b[49m\u001b[43m \u001b[49m\u001b[43mprotocol\u001b[49m\u001b[43m \u001b[49m\u001b[38;5;241;43m+\u001b[39;49m\n\u001b[1;32m    537\u001b[0m \u001b[43m                          \u001b[49m\u001b[38;5;124;43m'\u001b[39;49m\u001b[38;5;124;43m_open\u001b[39;49m\u001b[38;5;124;43m'\u001b[39;49m\u001b[43m,\u001b[49m\u001b[43m \u001b[49m\u001b[43mreq\u001b[49m\u001b[43m)\u001b[49m\n\u001b[1;32m    538\u001b[0m \u001b[38;5;28;01mif\u001b[39;00m result:\n",
      "File \u001b[0;32m/usr/lib/python3.10/urllib/request.py:496\u001b[0m, in \u001b[0;36mOpenerDirector._call_chain\u001b[0;34m(self, chain, kind, meth_name, *args)\u001b[0m\n\u001b[1;32m    495\u001b[0m func \u001b[38;5;241m=\u001b[39m \u001b[38;5;28mgetattr\u001b[39m(handler, meth_name)\n\u001b[0;32m--> 496\u001b[0m result \u001b[38;5;241m=\u001b[39m \u001b[43mfunc\u001b[49m\u001b[43m(\u001b[49m\u001b[38;5;241;43m*\u001b[39;49m\u001b[43margs\u001b[49m\u001b[43m)\u001b[49m\n\u001b[1;32m    497\u001b[0m \u001b[38;5;28;01mif\u001b[39;00m result \u001b[38;5;129;01mis\u001b[39;00m \u001b[38;5;129;01mnot\u001b[39;00m \u001b[38;5;28;01mNone\u001b[39;00m:\n",
      "File \u001b[0;32m/usr/lib/python3.10/urllib/request.py:1391\u001b[0m, in \u001b[0;36mHTTPSHandler.https_open\u001b[0;34m(self, req)\u001b[0m\n\u001b[1;32m   1390\u001b[0m \u001b[38;5;28;01mdef\u001b[39;00m \u001b[38;5;21mhttps_open\u001b[39m(\u001b[38;5;28mself\u001b[39m, req):\n\u001b[0;32m-> 1391\u001b[0m     \u001b[38;5;28;01mreturn\u001b[39;00m \u001b[38;5;28;43mself\u001b[39;49m\u001b[38;5;241;43m.\u001b[39;49m\u001b[43mdo_open\u001b[49m\u001b[43m(\u001b[49m\u001b[43mhttp\u001b[49m\u001b[38;5;241;43m.\u001b[39;49m\u001b[43mclient\u001b[49m\u001b[38;5;241;43m.\u001b[39;49m\u001b[43mHTTPSConnection\u001b[49m\u001b[43m,\u001b[49m\u001b[43m \u001b[49m\u001b[43mreq\u001b[49m\u001b[43m,\u001b[49m\n\u001b[1;32m   1392\u001b[0m \u001b[43m        \u001b[49m\u001b[43mcontext\u001b[49m\u001b[38;5;241;43m=\u001b[39;49m\u001b[38;5;28;43mself\u001b[39;49m\u001b[38;5;241;43m.\u001b[39;49m\u001b[43m_context\u001b[49m\u001b[43m,\u001b[49m\u001b[43m \u001b[49m\u001b[43mcheck_hostname\u001b[49m\u001b[38;5;241;43m=\u001b[39;49m\u001b[38;5;28;43mself\u001b[39;49m\u001b[38;5;241;43m.\u001b[39;49m\u001b[43m_check_hostname\u001b[49m\u001b[43m)\u001b[49m\n",
      "File \u001b[0;32m/usr/lib/python3.10/urllib/request.py:1351\u001b[0m, in \u001b[0;36mAbstractHTTPHandler.do_open\u001b[0;34m(self, http_class, req, **http_conn_args)\u001b[0m\n\u001b[1;32m   1350\u001b[0m \u001b[38;5;28;01mexcept\u001b[39;00m \u001b[38;5;167;01mOSError\u001b[39;00m \u001b[38;5;28;01mas\u001b[39;00m err: \u001b[38;5;66;03m# timeout error\u001b[39;00m\n\u001b[0;32m-> 1351\u001b[0m     \u001b[38;5;28;01mraise\u001b[39;00m URLError(err)\n\u001b[1;32m   1352\u001b[0m r \u001b[38;5;241m=\u001b[39m h\u001b[38;5;241m.\u001b[39mgetresponse()\n",
      "\u001b[0;31mURLError\u001b[0m: <urlopen error [Errno -2] Name or service not known>",
      "\nDuring handling of the above exception, another exception occurred:\n",
      "\u001b[0;31mTranslationError\u001b[0m                          Traceback (most recent call last)",
      "Cell \u001b[0;32mIn[5], line 1\u001b[0m\n\u001b[0;32m----> 1\u001b[0m \u001b[43mtranslator_en_fr\u001b[49m\u001b[38;5;241;43m.\u001b[39;49m\u001b[43mtranslate\u001b[49m\u001b[43m(\u001b[49m\u001b[38;5;124;43m\"\u001b[39;49m\u001b[38;5;124;43mHow are you?\u001b[39;49m\u001b[38;5;124;43m\"\u001b[39;49m\u001b[43m)\u001b[49m\n",
      "File \u001b[0;32m~/.virtualenvs/jobs-scraper/lib/python3.10/site-packages/translate/translate.py:45\u001b[0m, in \u001b[0;36mTranslator.translate\u001b[0;34m(self, text)\u001b[0m\n\u001b[1;32m     42\u001b[0m     \u001b[38;5;28;01mreturn\u001b[39;00m text\n\u001b[1;32m     44\u001b[0m text_list \u001b[38;5;241m=\u001b[39m wrap(text, TRANSLATION_API_MAX_LENGHT, replace_whitespace\u001b[38;5;241m=\u001b[39m\u001b[38;5;28;01mFalse\u001b[39;00m)\n\u001b[0;32m---> 45\u001b[0m \u001b[38;5;28;01mreturn\u001b[39;00m \u001b[38;5;124;43m'\u001b[39;49m\u001b[38;5;124;43m \u001b[39;49m\u001b[38;5;124;43m'\u001b[39;49m\u001b[38;5;241;43m.\u001b[39;49m\u001b[43mjoin\u001b[49m\u001b[43m(\u001b[49m\u001b[38;5;28;43mself\u001b[39;49m\u001b[38;5;241;43m.\u001b[39;49m\u001b[43mprovider\u001b[49m\u001b[38;5;241;43m.\u001b[39;49m\u001b[43mget_translation\u001b[49m\u001b[43m(\u001b[49m\u001b[43mtext_wraped\u001b[49m\u001b[43m)\u001b[49m\u001b[43m \u001b[49m\u001b[38;5;28;43;01mfor\u001b[39;49;00m\u001b[43m \u001b[49m\u001b[43mtext_wraped\u001b[49m\u001b[43m \u001b[49m\u001b[38;5;129;43;01min\u001b[39;49;00m\u001b[43m \u001b[49m\u001b[43mtext_list\u001b[49m\u001b[43m)\u001b[49m\n",
      "File \u001b[0;32m~/.virtualenvs/jobs-scraper/lib/python3.10/site-packages/translate/translate.py:45\u001b[0m, in \u001b[0;36m<genexpr>\u001b[0;34m(.0)\u001b[0m\n\u001b[1;32m     42\u001b[0m     \u001b[38;5;28;01mreturn\u001b[39;00m text\n\u001b[1;32m     44\u001b[0m text_list \u001b[38;5;241m=\u001b[39m wrap(text, TRANSLATION_API_MAX_LENGHT, replace_whitespace\u001b[38;5;241m=\u001b[39m\u001b[38;5;28;01mFalse\u001b[39;00m)\n\u001b[0;32m---> 45\u001b[0m \u001b[38;5;28;01mreturn\u001b[39;00m \u001b[38;5;124m'\u001b[39m\u001b[38;5;124m \u001b[39m\u001b[38;5;124m'\u001b[39m\u001b[38;5;241m.\u001b[39mjoin(\u001b[38;5;28;43mself\u001b[39;49m\u001b[38;5;241;43m.\u001b[39;49m\u001b[43mprovider\u001b[49m\u001b[38;5;241;43m.\u001b[39;49m\u001b[43mget_translation\u001b[49m\u001b[43m(\u001b[49m\u001b[43mtext_wraped\u001b[49m\u001b[43m)\u001b[49m \u001b[38;5;28;01mfor\u001b[39;00m text_wraped \u001b[38;5;129;01min\u001b[39;00m text_list)\n",
      "File \u001b[0;32m~/.virtualenvs/jobs-scraper/lib/python3.10/site-packages/translate/providers/libre.py:34\u001b[0m, in \u001b[0;36mLibreProvider.get_translation\u001b[0;34m(self, text)\u001b[0m\n\u001b[1;32m     32\u001b[0m     \u001b[38;5;28;01mreturn\u001b[39;00m \u001b[38;5;28mself\u001b[39m\u001b[38;5;241m.\u001b[39mapi\u001b[38;5;241m.\u001b[39mtranslate(text, from_lang, \u001b[38;5;28mself\u001b[39m\u001b[38;5;241m.\u001b[39mto_lang)\n\u001b[1;32m     33\u001b[0m \u001b[38;5;28;01mexcept\u001b[39;00m \u001b[38;5;167;01mException\u001b[39;00m \u001b[38;5;28;01mas\u001b[39;00m e:\n\u001b[0;32m---> 34\u001b[0m     \u001b[38;5;28;01mraise\u001b[39;00m TranslationError(e)\n",
      "\u001b[0;31mTranslationError\u001b[0m: <urlopen error [Errno -2] Name or service not known>"
     ]
    }
   ],
   "source": [
    "translator_en_fr.translate(\"How are you?\")"
   ]
  },
  {
   "cell_type": "markdown",
   "id": "4f1d8e40-9c80-4b6f-858d-9a2e6baf1217",
   "metadata": {},
   "source": [
    "## Use  stanford-corenlp"
   ]
  },
  {
   "cell_type": "code",
   "execution_count": 15,
   "id": "721857d5-f655-4a71-bb45-b6d4ab5c808a",
   "metadata": {},
   "outputs": [
    {
     "name": "stdout",
     "output_type": "stream",
     "text": [
      "Collecting stanford-corenlp\n",
      "  Downloading stanford_corenlp-3.9.2-py2.py3-none-any.whl.metadata (9.1 kB)\n",
      "Collecting corenlp-protobuf>=3.8.0 (from stanford-corenlp)\n",
      "  Downloading corenlp_protobuf-3.8.0-py2.py3-none-any.whl.metadata (2.1 kB)\n",
      "Requirement already satisfied: requests>=2.10.0 in /home/bationo/.virtualenvs/jobs-scraper/lib/python3.10/site-packages (from stanford-corenlp) (2.31.0)\n",
      "Requirement already satisfied: six>=1.9 in /home/bationo/.virtualenvs/jobs-scraper/lib/python3.10/site-packages (from stanford-corenlp) (1.16.0)\n",
      "Collecting protobuf (from corenlp-protobuf>=3.8.0->stanford-corenlp)\n",
      "  Downloading protobuf-5.26.1-cp37-abi3-manylinux2014_x86_64.whl.metadata (592 bytes)\n",
      "Requirement already satisfied: charset-normalizer<4,>=2 in /home/bationo/.virtualenvs/jobs-scraper/lib/python3.10/site-packages (from requests>=2.10.0->stanford-corenlp) (3.3.2)\n",
      "Requirement already satisfied: idna<4,>=2.5 in /home/bationo/.virtualenvs/jobs-scraper/lib/python3.10/site-packages (from requests>=2.10.0->stanford-corenlp) (3.4)\n",
      "Requirement already satisfied: urllib3<3,>=1.21.1 in /home/bationo/.virtualenvs/jobs-scraper/lib/python3.10/site-packages (from requests>=2.10.0->stanford-corenlp) (2.2.1)\n",
      "Requirement already satisfied: certifi>=2017.4.17 in /home/bationo/.virtualenvs/jobs-scraper/lib/python3.10/site-packages (from requests>=2.10.0->stanford-corenlp) (2024.2.2)\n",
      "Downloading stanford_corenlp-3.9.2-py2.py3-none-any.whl (11 kB)\n",
      "Downloading corenlp_protobuf-3.8.0-py2.py3-none-any.whl (15 kB)\n",
      "Downloading protobuf-5.26.1-cp37-abi3-manylinux2014_x86_64.whl (302 kB)\n",
      "\u001b[2K   \u001b[90m━━━━━━━━━━━━━━━━━━━━━━━━━━━━━━━━━━━━━━━━\u001b[0m \u001b[32m302.8/302.8 kB\u001b[0m \u001b[31m1.5 MB/s\u001b[0m eta \u001b[36m0:00:00\u001b[0m00:01\u001b[0m00:01\u001b[0mm\n",
      "\u001b[?25hInstalling collected packages: protobuf, corenlp-protobuf, stanford-corenlp\n",
      "Successfully installed corenlp-protobuf-3.8.0 protobuf-5.26.1 stanford-corenlp-3.9.2\n"
     ]
    }
   ],
   "source": [
    "!pip install stanford-corenlp"
   ]
  },
  {
   "cell_type": "code",
   "execution_count": 20,
   "id": "121cbb37-95a2-4069-9c3b-2d83e9aed44b",
   "metadata": {},
   "outputs": [
    {
     "name": "stdout",
     "output_type": "stream",
     "text": [
      "Imported!\n"
     ]
    }
   ],
   "source": [
    "from selenium import webdriver  # for simulating user action such as a click on a button\n",
    "from selenium.webdriver.chrome.options import Options  # Options while setting up the webdriver with chrome\n",
    "from selenium.webdriver.common.by import By\n",
    "from selenium.webdriver.support.ui import WebDriverWait\n",
    "from selenium.webdriver.support import expected_conditions as EC\n",
    "print(\"Imported!\")"
   ]
  },
  {
   "cell_type": "code",
   "execution_count": 84,
   "id": "3ab760e9-b8b1-469e-96b2-14a54176480e",
   "metadata": {},
   "outputs": [],
   "source": [
    "# Set up Chrome options\n",
    "chrome_options = Options()\n",
    "# chrome_options.add_argument(\n",
    "#     \"--headless\")  # Run Chrome in headless mode: Without opening the Chrome browser in a visible window\n",
    "\n",
    "# Set up web driver with Chrome options\n",
    "# driver = webdriver.Chrome()  # show browser\n",
    "driver = webdriver.Chrome(options=chrome_options)  # Hide browser\n",
    "url_1 = \"https://www.loc.gov/resource/llflg.87648643_20210923_01/?st=gallery\"\n",
    "# Navigate to the website\n",
    "driver.get(url_1)"
   ]
  },
  {
   "cell_type": "code",
   "execution_count": 2,
   "id": "bfdf52c2-f033-4615-a009-ddedc71ee7c8",
   "metadata": {},
   "outputs": [
    {
     "ename": "NameError",
     "evalue": "name 'driver' is not defined",
     "output_type": "error",
     "traceback": [
      "\u001b[0;31m---------------------------------------------------------------------------\u001b[0m",
      "\u001b[0;31mNameError\u001b[0m                                 Traceback (most recent call last)",
      "Cell \u001b[0;32mIn[2], line 3\u001b[0m\n\u001b[1;32m      1\u001b[0m \u001b[38;5;66;03m# ul = driver.find_element(By.XPATH, \"//li[@class='item']\")\u001b[39;00m\n\u001b[1;32m      2\u001b[0m \u001b[38;5;66;03m# ul\u001b[39;00m\n\u001b[0;32m----> 3\u001b[0m item_pages \u001b[38;5;241m=\u001b[39m \u001b[43mdriver\u001b[49m\u001b[38;5;241m.\u001b[39mfind_elements(By\u001b[38;5;241m.\u001b[39mCLASS_NAME, \u001b[38;5;124m'\u001b[39m\u001b[38;5;124mitem\u001b[39m\u001b[38;5;124m'\u001b[39m)\n\u001b[1;32m      4\u001b[0m \u001b[38;5;28mprint\u001b[39m(\u001b[38;5;28mlen\u001b[39m(item_pages))\n",
      "\u001b[0;31mNameError\u001b[0m: name 'driver' is not defined"
     ]
    }
   ],
   "source": [
    "# ul = driver.find_element(By.XPATH, \"//li[@class='item']\")\n",
    "# ul\n",
    "item_pages = driver.find_elements(By.CLASS_NAME, 'item')\n",
    "print(len(item_pages))"
   ]
  },
  {
   "cell_type": "code",
   "execution_count": 23,
   "id": "435ab0aa-ed08-4db0-b9d6-1d7f884f6aef",
   "metadata": {},
   "outputs": [
    {
     "data": {
      "text/plain": [
       "<selenium.webdriver.remote.webelement.WebElement (session=\"61de913178547e289d719b209118a3d0\", element=\"f.58208D6E102877F543E101001A6DAF20.d.ED26563548946DA387E78EFC7CA6A297.e.53\")>"
      ]
     },
     "execution_count": 23,
     "metadata": {},
     "output_type": "execute_result"
    }
   ],
   "source": [
    "item_pages[0]."
   ]
  },
  {
   "cell_type": "code",
   "execution_count": 94,
   "id": "0ce657c0-8c89-4799-827b-58cdbc9ef234",
   "metadata": {},
   "outputs": [
    {
     "data": {
      "text/plain": [
       "3"
      ]
     },
     "execution_count": 94,
     "metadata": {},
     "output_type": "execute_result"
    }
   ],
   "source": [
    "div_result = driver.find_elements(By.ID, \"results\")[0]\n",
    "# len(div_result)\n",
    "ul = div_result.find_elements(By.XPATH, \"//ul[contains(@class, 'search-results gallery-view no-facets')]\")\n",
    "len(ul)"
   ]
  },
  {
   "cell_type": "code",
   "execution_count": 95,
   "id": "9ca3b3a6-d14c-4b55-be18-fb9584f4cf09",
   "metadata": {},
   "outputs": [
    {
     "data": {
      "text/plain": [
       "('Image 1 of Official Gazette of Burkina Faso; Année 60, No. 38',\n",
       " 'PERIODICAL',\n",
       " 'BOOK/PRINTED MATERIAL')"
      ]
     },
     "execution_count": 95,
     "metadata": {},
     "output_type": "execute_result"
    }
   ],
   "source": [
    "ul[0].find_element(By.TAG_NAME, \"span\").text, ul[1].find_element(By.TAG_NAME, \"span\").text, ul[2].find_element(By.TAG_NAME, \"span\").text"
   ]
  },
  {
   "cell_type": "code",
   "execution_count": 96,
   "id": "ac7e85b6-7cf8-4298-ac4e-bc94848b5be8",
   "metadata": {},
   "outputs": [
    {
     "data": {
      "text/plain": [
       "50"
      ]
     },
     "execution_count": 96,
     "metadata": {},
     "output_type": "execute_result"
    }
   ],
   "source": [
    "item_pages = ul[0].find_elements(By.XPATH, \"//li[contains(@class, 'item')]\")\n",
    "len(item_pages)"
   ]
  },
  {
   "cell_type": "code",
   "execution_count": null,
   "id": "795856f2-6530-4df7-b190-aecb3dbd2792",
   "metadata": {},
   "outputs": [],
   "source": []
  },
  {
   "cell_type": "code",
   "execution_count": 97,
   "id": "03a67568-2627-4cc6-a385-ddba25b7ef6f",
   "metadata": {},
   "outputs": [
    {
     "name": "stdout",
     "output_type": "stream",
     "text": [
      "0: SOIXANTIÈME ANNÉE N 38 BURKINA FASO Unité Progrès Justice 23 Septembre 2021 Journal Officiel DU BURKINA FASO Paraissant le jeudi de chaque semaine ABONNEMENTS BURKINA FASO ET AFRIQUE Toute voie 6 mois...\n",
      "1: 3094 JOURNAL OFFICIEL DU BURKINA FASO N 38 23 Septembre 2021 10 sept Décret n 20210908PRESPM MAECIABEMINEFID portant nomination dun Consul honoraire du Burkina Faso en République de GuinéeBissau MINISTERE DE LENERGIE...\n",
      "2: 23 Septembre 2021 JOURNAL OFFICIEL DU BURKINA FASO N 38 3095 1 PRESIDENCE DU FASO ICAM BURKINA FASO DECRET N 2021 Q9Q6 PRES portant délégation de pouvoir Unité Progrès Justice LE PRESIDENT...\n",
      "3: 3096 JOURNAL OFFICIEL DU BURKINA FASO N 38 23 Septembre 2021 Article 2 Le présent décret qui prend effet pour compter de sa date de signature sera publié au Journal officiel du...\n",
      "4: 23 Septembre 2021 JOURNAL OFFICIEL DU BURKINA FASO N 38 3097 LE PRESIDENT DU FASO PRESIDENT DU CONSEIL DES MINISTRES GRAND MAITRE DES ORDRES BURKINABE Vu la Constitution Vu le Décret n20210001...\n",
      "5: 3098 JOURNAL OFFICIEL DU BURKINA FASO N 38 23 Septembre 2021 Vu la Constitution Vu le Décret n20210001 PRES du 05 janvier 2021 portant nomination du Premier Ministre Vu le Décret n2021...\n",
      "6: 23 Septembre 2021 JOURNAL OFFICIEL DU BURKINA FASO N 38 3099 Le reste Sans changement DECRETE Article 2 Le présent décret sera publié au Journal Of ficiel du Faso Ouagadougou le 07...\n",
      "7: 3100 JOURNAL OFFICIEL DU BURKINA FASO N 38 23 Septembre 2021 africaine et des Burkinabè de lextérieur Vu le décret n20210855PRESPMMAECIABE MINEFID du 11 août 2021 portant ouverture dun Consulat honoraire du...\n",
      "8: 23 Septembre 2021 JOURNAL OFFICIEL DU BURKINA FASO N 38 3101 NEL Monsieur Tuembé DOYE Mie 32 607 U Inspecteur de lenseignement primaire et de léducation non formelle ADMINISTRATEUR REPRESENTANT LES ELEVES...\n",
      "9: 3102 JOURNAL OFFICIEL DU BURKINA FASO N 38 23 Septembre 2021 Vu la Constitution Vu le décret n 2021 0001 PRES du 05 janvier 2021 portant nomination du Premier Ministre Vu le...\n",
      "10: 23 Septembre 2021 JOURNAL OFFICIEL DU BURKINA FASO N 38 3103 FID du 29 juin 2018 portant approbation des statuts de lUniversité de Fada NGourma Vu le décret n20190435PRESPMMESRSI MFPTPSM1NEF1DMS du 09...\n",
      "11: 3104 JOURNAL OFFICIEL DU BURKINA FASO N 38 23 Septembre 2021 MINISTERE DE LA COMMUNICATION ET DES RELATIONS AVEC LE PARLEMENT LE PRESIDENT DU FASO PRESIDENT DU CONSEIL DES MINISTRES DECRET N...\n",
      "12: 23 Septembre 2021 JOURNAL OFFICIEL DU BURKINA FASO N 38 3105 Gouvernement Vu la loi n0362015CNT du 26 juin 2015 portant code minier du Burkina Faso Vu le décret n20170027PRESPMMMCMNE FIDMEEVCC du...\n",
      "13: 3106 JOURNAL OFFICIEL DU BURKINA FASO N 38 23 Septembre 2021 Vu le décret n 2021 0001 PRES du 05 janvier 2021 portant nomination du Premier Ministre Vu le 4écret n 20210002PRESPM...\n",
      "14: 23 Septembre 2021 JOURNAL OFFICIEL DU BURKINA FASO N 38 3107 s la transformation et lécoulement des produits locaux et agroalimentaires Principales dirigeantes et le bienêtre social des populations à travers sur...\n",
      "15: 3108 JOURNAL OFFICIEL DU BURKINA FASO N 38 23 Septembre 2021 Domaine dintervention Promotion du droit au logement Objectif principal Promouvoir le droit au logement pour tous et contribuer à accompagner lEtat...\n",
      "16: 23 Septembre 2021 JOURNAL OFFICIEL DU BURKINA FASO N 38 3109 Siège social Commune de Ouahigouya Province du Yatenga Région du Nord Objectif principal Contribuer à lamélioration des conditions sanitaires des populations...\n",
      "17: 3110 JOURNAL OFFICIEL DU BURKINA FASO N 38 23 Septembre 2021 Objet principal Promotion le bienêtre social et économique de ses membres Adresse Tél 78 24 56 28 66 27 38 73...\n",
      "18: 23 Septembre 2021 JOURNAL OFFICIEL DU BURKINA FASO N 38 3111 Secrétaire général DALA Laobien Jean Appolinaire Secrétaire aux finances NIKIEMA Wendso S M Magloire Récépissé de déclaration dassociation n 2021 00001140501...\n",
      "19: 3112 JOURNAL OFFICIEL DU BURKINA FASO N 38 23 Septembre 2021 Récépissé de déclaration dassociation n 2021 0000990801 du 26 juillet 2021 Le Ministre de lAdministration Territoriale et de la Décentralisation donne...\n",
      "20: 23 Septembre 2021 JOURNAL OFFICIEL DU BURKINA FASO N 38 3113 Récépissé de déclaration dassociation n 2021 00001050201 du 06 mai 2021 Le Ministre de lAdministration Territoriale et de la Décentralisation donne...\n",
      "21: 3114 JOURNAL OFFICIEL DU BURKINA FASO N 38 23 Septembre 2021 Dénomination Association Yan Kahdi en abrégé AYK qui signifie en français il fait bon vivre dans le plateau central Siège Ziniaré...\n",
      "22: 23 Septembre 2021 JOURNAL OFFICIEL DU BURKINA FASO N 38 3115 Siège Ouagadougou Adresse Tél 70 21 70 02 Domaine dintervention Promotion dagent général Objectif principal Améliorer les conditions de travail des...\n",
      "23: 3116 JOURNAL OFFICIEL DU BURKINA FASO N 38 23 Septembre 2021 Objectif principal Contribuer à lamélioration des conditions de vie de manière durable de la population du Burkina Faso et surtout celle...\n",
      "24: 23 Septembre 2021 JOURNAL OFFICIEL DU BURKINA FASO N 38 3117 Objectif principal Contribuer à lamélioration des conditions de vie des populations notament les groupes vulnérables Principaux dirigeants Présidente OUEDRAOGO Celine Pingdwende...\n",
      "25: 3118 JOURNAL OFFICIEL DU BURKINA FASO N 38 23 Septembre 2021 solidarité lexpertise et lentraide financière dans le secteur céréalier Principaux dirigeants Président KABORE Inoussa Secrétaire général BIKIENGA Mahamed Sadate Anour Trésorière...\n",
      "26: 23 Septembre 2021 JOURNAL OFFICIEL DU BURKINA FASO N 38 3119 Principaux dirigeants Président AKABI Daouda Secrétaire général NEBIE Babou Clement Trésorier SANOU Zezouma Philippe Récépissé de déclaration dassociation n 2021 00001114601...\n",
      "27: 3120 JOURNAL OFFICIEL DU BURKINA FASO N 38 23 Septembre 2021 Récépissé de déclaration dassociation n 2021 001159701 du 14 juillet 2021 Le Ministre de lAdministration Territoriale et de la Décentralisation donne...\n",
      "28: 23 Septembre 2021 JOURNAL OFFICIEL DU BURKINA FASO N 38 3121 déclaration dexistence pour lassociation régie par la loi n 0642015CNT du 20 octobre 2015 portant liberté dassociation Dénomination Association Life Impact...\n",
      "29: 3122 JOURNAL OFFICIEL DU BURKINA FASO N 38 23 Septembre 2021 Principaux dirigeants Président OUEDRAOGO Emmanuel Tél 78 72 75 37 Secrétaire général TRAORE Ahmed Tél 73 08 82 78 Trésorier général...\n",
      "30: 23 Septembre 2021 JOURNAL OFFICIEL DU BURKINA FASO N 38 3123 Principaux dirigeants Principaux dirigeants Président TYAHO Yiropoba Tél 76 66 26 56 Secrétaire général KAMBOU Difite K Mickaël Tél 70 07...\n",
      "31: 3124 JOURNAL OFFICIEL DU BURKINA FASO N 38 23 Septembre 2021 Secrétaire général SAWADOGO Boureima Tél 76 78 36 86 Trésorier général COULIBALY Tahirou Tél 76 24 74 68 Récépissé de déclaration...\n",
      "32: 23 Septembre 2021 JOURNAL OFFICIEL DU BURKINA FASO N 38 3125 Secrétaire général MALO Ardjuman Trésorier général SOMA Sonatia Victor Récépissé de déclaration dassociation n 20210148 PUDL du 29 juin 2021 Le...\n",
      "33: 3126 JOURNAL OFFICIEL DU BURKINA FASO N 38 23 Septembre 2021 Récépissé de déclaration dassociation n 20210109 RSUOPIB du 08 juillet 2021 Le Hautcommissaire de la province du loba donne aux personnes...\n",
      "34: 23 Septembre 2021 JOURNAL OFFICIEL DU BURKINA FASO N 38 3127 Tél 70 86 21 17 Trésorier général KABORE Ambroise Tél 76 44 87 96 Récépissé de déclaration dassociation n 20210191 PKAD...\n",
      "35: 0 Page I sur 2 3128 JOURNAL OFFICIEL DU BURKINA FASO N 38 2010 1 2 3 4 5 6 7 8 9 10 11 12 13 14 23 Septembre 2021 SC...\n",
      "36: 23 Septembre 2021 JOURNAL OFFICIEL DU BURKINA FASO N 38 3129 2 fll SCoop I 15 RENSEIGNEMENTS RELATIFS AUX MEMBRES DE LGRANE DE CONTROLE NOM PRENOM DATE ET LIEU DE NAISSANCE NATIONALITE...\n",
      "37: 3130 JOURNAL OFFICIEL DU BURKINA FASO N 38 23 Septembre 2021 Page 1 sur 2 SCoop I FORMULAIRE DE DECLARATION RSC 2010SCOOP 1 EIDE CONSTITUTION DUNE SOCIETE COOPERATIVE OU DOUVERTURE DUN ETABLISSEMENT...\n",
      "38: 23 Septembre 2021 JOURNAL OFFICIEL DU BURKINA FASO N 38 3131 2010 SCoop RENSEIGNEMENTS RELATIFS AUX MEMBRES DE LORGANE DE CONTROLE NOM PRENOM DATE ET LIEU DE NAISSANCE NATIONALITE ADRESSE FONCTION KIMA...\n",
      "39: 3132 JOURNAL OFFICIEL DU BURKINA FASO N 38 23 Septembre 2021 2010 SCoop 1 RENSEIGNEMENTS RELATIFS A LACTIVITE ET AUX ETABLISSEMENTS 6 ACTIVITE PRINCIPALE Lélevage de la volaille 7 DATE DE DEBUT...\n",
      "45: Title devised, in English, by Library staff. Jurisdiction covered: Spain. Also available in digital form on the Library of Congress Web site. Also available on microfilm (Law Library Microfilm 84/10004). Document in...\n",
      "46: Title devised, in English, by Library staff. Jurisdiction covered: Spain. Also available in digital form on the Library of Congress Web site. Also available on microfilm (Law Library Microfilm 84/10004). Document in...\n",
      "47: Report on the implementation, complicance, and enforcement of civil rights programs in selected federal agencies from the 1990s through 2002. Includes recommendations from the Commission.\n",
      "48: Title devised, in English, by Library staff. Jurisdiction covered: Spain. Also available in digital form on the Library of Congress Web site. Also available on microfilm (Law Library Microfilm 84/10004). Document in...\n",
      "49: Title devised, in English, by Library staff. Jurisdiction covered: Spain. Also available in digital form on the Library of Congress Web site. Also available on microfilm (Law Library Microfilm 84/10004). Document in...\n"
     ]
    }
   ],
   "source": [
    "for i, item in enumerate(item_pages):\n",
    "    try:\n",
    "        print(f\"{i}: \"+item.find_element(By.XPATH, \"div\").find_element(By.XPATH, \"div\").find_element(By.XPATH, \"span[@class='item-description-abstract']\").text)\n",
    "    except:\n",
    "        pass"
   ]
  },
  {
   "cell_type": "code",
   "execution_count": null,
   "id": "d0e27b33-06ab-482b-b984-c22b4cea0482",
   "metadata": {},
   "outputs": [],
   "source": []
  }
 ],
 "metadata": {
  "kernelspec": {
   "display_name": "Python 3 (ipykernel)",
   "language": "python",
   "name": "python3"
  },
  "language_info": {
   "codemirror_mode": {
    "name": "ipython",
    "version": 3
   },
   "file_extension": ".py",
   "mimetype": "text/x-python",
   "name": "python",
   "nbconvert_exporter": "python",
   "pygments_lexer": "ipython3",
   "version": "3.10.12"
  }
 },
 "nbformat": 4,
 "nbformat_minor": 5
}
