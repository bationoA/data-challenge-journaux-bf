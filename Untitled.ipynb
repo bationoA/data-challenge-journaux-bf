{
 "cells": [
  {
   "cell_type": "code",
   "execution_count": 105,
   "id": "e69ebd50-44ce-48ce-b477-6450947068e3",
   "metadata": {},
   "outputs": [],
   "source": [
    "# !pip install spacy\n",
    "# !pip install transformers\n",
    "# !python -m spacy download fr_core_news_sm\n",
    "# !pip install torch"
   ]
  },
  {
   "cell_type": "code",
   "execution_count": 1,
   "id": "a9269ede-d579-4ce8-a081-25e280e82269",
   "metadata": {},
   "outputs": [
    {
     "name": "stdout",
     "output_type": "stream",
     "text": [
      "Imported!\n"
     ]
    }
   ],
   "source": [
    "from selenium import webdriver  # for simulating user action such as a click on a button\n",
    "from selenium.webdriver.chrome.options import Options  # Options while setting up the webdriver with chrome\n",
    "from selenium.webdriver.common.by import By\n",
    "from selenium.webdriver.support.ui import WebDriverWait\n",
    "from selenium.webdriver.support import expected_conditions as EC\n",
    "print(\"Imported!\")"
   ]
  },
  {
   "cell_type": "code",
   "execution_count": 20,
   "id": "42f2a5cf-cf7e-4de8-9fb7-29e1d476e83c",
   "metadata": {},
   "outputs": [],
   "source": [
    "# Set up Chrome options\n",
    "chrome_options = Options()\n",
    "# chrome_options.add_argument(\n",
    "#     \"--headless\")  # Run Chrome in headless mode: Without opening the Chrome browser in a visible window\n",
    "\n",
    "# Set up web driver with Chrome options\n",
    "# driver = webdriver.Chrome()  # show browser\n",
    "driver = webdriver.Chrome(options=chrome_options)  # Hide browser\n",
    "url_1 = \"https://www.loc.gov/resource/llflg.87648643_20210923_01/?st=gallery\"\n",
    "url_1 = \"https://www.loc.gov/search/?fa=partof:burkina+faso+legal+gazettes&sp=19\"\n",
    "# Navigate to the website\n",
    "driver.get(url_1)"
   ]
  },
  {
   "cell_type": "code",
   "execution_count": 22,
   "id": "f62f2a5a-e5ce-439c-a314-322833a41568",
   "metadata": {},
   "outputs": [
    {
     "data": {
      "text/plain": [
       "False"
      ]
     },
     "execution_count": 22,
     "metadata": {},
     "output_type": "execute_result"
    }
   ],
   "source": [
    "driver.find_elements(By.XPATH, \"//a[@class='next']\") "
   ]
  },
  {
   "cell_type": "code",
   "execution_count": 5,
   "id": "63e0b939-4e32-4da6-a56e-cdcddf250198",
   "metadata": {},
   "outputs": [
    {
     "data": {
      "text/plain": [
       "<selenium.webdriver.remote.webelement.WebElement (session=\"baa3a2f8368ee382cfd7ae7a02c7a736\", element=\"f.51BB441491837FDF40161A1679AA8CA6.d.0D90EABB697F322A96F6716085B4288B.e.222\")>"
      ]
     },
     "execution_count": 5,
     "metadata": {},
     "output_type": "execute_result"
    }
   ],
   "source": [
    "div_content = driver.find_element(By.CLASS_NAME, \"content\")\n",
    "div_content"
   ]
  },
  {
   "cell_type": "code",
   "execution_count": 19,
   "id": "e17595d4-dfcc-498d-b4dc-172ed4efd674",
   "metadata": {},
   "outputs": [
    {
     "data": {
      "text/plain": [
       "<selenium.webdriver.remote.webelement.WebElement (session=\"baa3a2f8368ee382cfd7ae7a02c7a736\", element=\"f.51BB441491837FDF40161A1679AA8CA6.d.0D90EABB697F322A96F6716085B4288B.e.12\")>"
      ]
     },
     "execution_count": 19,
     "metadata": {},
     "output_type": "execute_result"
    }
   ],
   "source": [
    "div_main = div_content.find_element(By.ID, \"main\")\n",
    "div_main"
   ]
  },
  {
   "cell_type": "code",
   "execution_count": null,
   "id": "a5ba0176-d6ca-4fc9-aa52-42ac1a2ba39c",
   "metadata": {},
   "outputs": [],
   "source": [
    "# find_elements(By.XPATH, \"ul[@class='search-results list-view']\")"
   ]
  },
  {
   "cell_type": "code",
   "execution_count": 33,
   "id": "56de391b-eac6-4b82-8051-5fb4ce62c3d7",
   "metadata": {},
   "outputs": [
    {
     "data": {
      "text/plain": [
       "25"
      ]
     },
     "execution_count": 33,
     "metadata": {},
     "output_type": "execute_result"
    }
   ],
   "source": [
    "lis = div_main.find_elements(By.XPATH, \"//li[contains(@class, 'item')]\")#.get_attribute(\"outerHTML\")\n",
    "len(lis)"
   ]
  },
  {
   "cell_type": "code",
   "execution_count": 36,
   "id": "e883d959-ee8c-4dbe-8469-def7d58aa082",
   "metadata": {},
   "outputs": [
    {
     "data": {
      "text/plain": [
       "<selenium.webdriver.remote.webelement.WebElement (session=\"baa3a2f8368ee382cfd7ae7a02c7a736\", element=\"f.51BB441491837FDF40161A1679AA8CA6.d.0D90EABB697F322A96F6716085B4288B.e.722\")>"
      ]
     },
     "execution_count": 36,
     "metadata": {},
     "output_type": "execute_result"
    }
   ],
   "source": [
    "lis[0].find_elements(By.TAG_NAME, \"a\")[0]"
   ]
  },
  {
   "cell_type": "code",
   "execution_count": 3,
   "id": "456499e3-33cb-4155-9136-9d39a30fee55",
   "metadata": {},
   "outputs": [
    {
     "ename": "NoSuchElementException",
     "evalue": "Message: no such element: Unable to locate element: {\"method\":\"css selector\",\"selector\":\"[id=\"multi-image-viewer-container\"]\"}\n  (Session info: chrome=123.0.6312.86); For documentation on this error, please visit: https://www.selenium.dev/documentation/webdriver/troubleshooting/errors#no-such-element-exception\nStacktrace:\n#0 0x55e79adfa8a3 <unknown>\n#1 0x55e79aaf08c6 <unknown>\n#2 0x55e79ab3b618 <unknown>\n#3 0x55e79ab3b6d1 <unknown>\n#4 0x55e79ab7e744 <unknown>\n#5 0x55e79ab5d5cd <unknown>\n#6 0x55e79ab7bc19 <unknown>\n#7 0x55e79ab5d343 <unknown>\n#8 0x55e79ab2e593 <unknown>\n#9 0x55e79ab2ef5e <unknown>\n#10 0x55e79adbe88b <unknown>\n#11 0x55e79adc27e5 <unknown>\n#12 0x55e79adac5b1 <unknown>\n#13 0x55e79adc3372 <unknown>\n#14 0x55e79ad918bf <unknown>\n#15 0x55e79ade9768 <unknown>\n#16 0x55e79ade993b <unknown>\n#17 0x55e79adf99f4 <unknown>\n#18 0x7f930067dac3 <unknown>\n",
     "output_type": "error",
     "traceback": [
      "\u001b[0;31m---------------------------------------------------------------------------\u001b[0m",
      "\u001b[0;31mNoSuchElementException\u001b[0m                    Traceback (most recent call last)",
      "Cell \u001b[0;32mIn[3], line 1\u001b[0m\n\u001b[0;32m----> 1\u001b[0m div_container \u001b[38;5;241m=\u001b[39m \u001b[43mdriver\u001b[49m\u001b[38;5;241;43m.\u001b[39;49m\u001b[43mfind_element\u001b[49m\u001b[43m(\u001b[49m\u001b[43mBy\u001b[49m\u001b[38;5;241;43m.\u001b[39;49m\u001b[43mID\u001b[49m\u001b[43m,\u001b[49m\u001b[43m \u001b[49m\u001b[38;5;124;43m'\u001b[39;49m\u001b[38;5;124;43mmulti-image-viewer-container\u001b[39;49m\u001b[38;5;124;43m'\u001b[39;49m\u001b[43m)\u001b[49m\n\u001b[1;32m      2\u001b[0m div_container\n",
      "File \u001b[0;32m~/.virtualenvs/data-challenge-journaux-bf/lib/python3.10/site-packages/selenium/webdriver/remote/webdriver.py:741\u001b[0m, in \u001b[0;36mWebDriver.find_element\u001b[0;34m(self, by, value)\u001b[0m\n\u001b[1;32m    738\u001b[0m     by \u001b[38;5;241m=\u001b[39m By\u001b[38;5;241m.\u001b[39mCSS_SELECTOR\n\u001b[1;32m    739\u001b[0m     value \u001b[38;5;241m=\u001b[39m \u001b[38;5;124mf\u001b[39m\u001b[38;5;124m'\u001b[39m\u001b[38;5;124m[name=\u001b[39m\u001b[38;5;124m\"\u001b[39m\u001b[38;5;132;01m{\u001b[39;00mvalue\u001b[38;5;132;01m}\u001b[39;00m\u001b[38;5;124m\"\u001b[39m\u001b[38;5;124m]\u001b[39m\u001b[38;5;124m'\u001b[39m\n\u001b[0;32m--> 741\u001b[0m \u001b[38;5;28;01mreturn\u001b[39;00m \u001b[38;5;28;43mself\u001b[39;49m\u001b[38;5;241;43m.\u001b[39;49m\u001b[43mexecute\u001b[49m\u001b[43m(\u001b[49m\u001b[43mCommand\u001b[49m\u001b[38;5;241;43m.\u001b[39;49m\u001b[43mFIND_ELEMENT\u001b[49m\u001b[43m,\u001b[49m\u001b[43m \u001b[49m\u001b[43m{\u001b[49m\u001b[38;5;124;43m\"\u001b[39;49m\u001b[38;5;124;43musing\u001b[39;49m\u001b[38;5;124;43m\"\u001b[39;49m\u001b[43m:\u001b[49m\u001b[43m \u001b[49m\u001b[43mby\u001b[49m\u001b[43m,\u001b[49m\u001b[43m \u001b[49m\u001b[38;5;124;43m\"\u001b[39;49m\u001b[38;5;124;43mvalue\u001b[39;49m\u001b[38;5;124;43m\"\u001b[39;49m\u001b[43m:\u001b[49m\u001b[43m \u001b[49m\u001b[43mvalue\u001b[49m\u001b[43m}\u001b[49m\u001b[43m)\u001b[49m[\u001b[38;5;124m\"\u001b[39m\u001b[38;5;124mvalue\u001b[39m\u001b[38;5;124m\"\u001b[39m]\n",
      "File \u001b[0;32m~/.virtualenvs/data-challenge-journaux-bf/lib/python3.10/site-packages/selenium/webdriver/remote/webdriver.py:347\u001b[0m, in \u001b[0;36mWebDriver.execute\u001b[0;34m(self, driver_command, params)\u001b[0m\n\u001b[1;32m    345\u001b[0m response \u001b[38;5;241m=\u001b[39m \u001b[38;5;28mself\u001b[39m\u001b[38;5;241m.\u001b[39mcommand_executor\u001b[38;5;241m.\u001b[39mexecute(driver_command, params)\n\u001b[1;32m    346\u001b[0m \u001b[38;5;28;01mif\u001b[39;00m response:\n\u001b[0;32m--> 347\u001b[0m     \u001b[38;5;28;43mself\u001b[39;49m\u001b[38;5;241;43m.\u001b[39;49m\u001b[43merror_handler\u001b[49m\u001b[38;5;241;43m.\u001b[39;49m\u001b[43mcheck_response\u001b[49m\u001b[43m(\u001b[49m\u001b[43mresponse\u001b[49m\u001b[43m)\u001b[49m\n\u001b[1;32m    348\u001b[0m     response[\u001b[38;5;124m\"\u001b[39m\u001b[38;5;124mvalue\u001b[39m\u001b[38;5;124m\"\u001b[39m] \u001b[38;5;241m=\u001b[39m \u001b[38;5;28mself\u001b[39m\u001b[38;5;241m.\u001b[39m_unwrap_value(response\u001b[38;5;241m.\u001b[39mget(\u001b[38;5;124m\"\u001b[39m\u001b[38;5;124mvalue\u001b[39m\u001b[38;5;124m\"\u001b[39m, \u001b[38;5;28;01mNone\u001b[39;00m))\n\u001b[1;32m    349\u001b[0m     \u001b[38;5;28;01mreturn\u001b[39;00m response\n",
      "File \u001b[0;32m~/.virtualenvs/data-challenge-journaux-bf/lib/python3.10/site-packages/selenium/webdriver/remote/errorhandler.py:229\u001b[0m, in \u001b[0;36mErrorHandler.check_response\u001b[0;34m(self, response)\u001b[0m\n\u001b[1;32m    227\u001b[0m         alert_text \u001b[38;5;241m=\u001b[39m value[\u001b[38;5;124m\"\u001b[39m\u001b[38;5;124malert\u001b[39m\u001b[38;5;124m\"\u001b[39m]\u001b[38;5;241m.\u001b[39mget(\u001b[38;5;124m\"\u001b[39m\u001b[38;5;124mtext\u001b[39m\u001b[38;5;124m\"\u001b[39m)\n\u001b[1;32m    228\u001b[0m     \u001b[38;5;28;01mraise\u001b[39;00m exception_class(message, screen, stacktrace, alert_text)  \u001b[38;5;66;03m# type: ignore[call-arg]  # mypy is not smart enough here\u001b[39;00m\n\u001b[0;32m--> 229\u001b[0m \u001b[38;5;28;01mraise\u001b[39;00m exception_class(message, screen, stacktrace)\n",
      "\u001b[0;31mNoSuchElementException\u001b[0m: Message: no such element: Unable to locate element: {\"method\":\"css selector\",\"selector\":\"[id=\"multi-image-viewer-container\"]\"}\n  (Session info: chrome=123.0.6312.86); For documentation on this error, please visit: https://www.selenium.dev/documentation/webdriver/troubleshooting/errors#no-such-element-exception\nStacktrace:\n#0 0x55e79adfa8a3 <unknown>\n#1 0x55e79aaf08c6 <unknown>\n#2 0x55e79ab3b618 <unknown>\n#3 0x55e79ab3b6d1 <unknown>\n#4 0x55e79ab7e744 <unknown>\n#5 0x55e79ab5d5cd <unknown>\n#6 0x55e79ab7bc19 <unknown>\n#7 0x55e79ab5d343 <unknown>\n#8 0x55e79ab2e593 <unknown>\n#9 0x55e79ab2ef5e <unknown>\n#10 0x55e79adbe88b <unknown>\n#11 0x55e79adc27e5 <unknown>\n#12 0x55e79adac5b1 <unknown>\n#13 0x55e79adc3372 <unknown>\n#14 0x55e79ad918bf <unknown>\n#15 0x55e79ade9768 <unknown>\n#16 0x55e79ade993b <unknown>\n#17 0x55e79adf99f4 <unknown>\n#18 0x7f930067dac3 <unknown>\n"
     ]
    }
   ],
   "source": [
    "div_container = driver.find_element(By.ID, 'multi-image-viewer-container')\n",
    "div_container"
   ]
  },
  {
   "cell_type": "code",
   "execution_count": 41,
   "id": "0c10ec03-59d8-41b4-9af7-ce0a08f5edb0",
   "metadata": {},
   "outputs": [
    {
     "data": {
      "text/plain": [
       "40"
      ]
     },
     "execution_count": 41,
     "metadata": {},
     "output_type": "execute_result"
    }
   ],
   "source": [
    "item_pages = div_container.find_element(By.XPATH, \"div\").find_element(By.XPATH, \"div\").find_element(By.XPATH, \"div\").find_element(By.XPATH, \"div\").find_element(By.XPATH, \"div\").find_element(By.XPATH, \"ul\").find_elements(By.XPATH, \"li\")#.get_attribute(\"outerHTML\")\n",
    "len(item_pages)"
   ]
  },
  {
   "cell_type": "code",
   "execution_count": 20,
   "id": "53fb86ba-c6d1-47aa-b493-9db5dcda9694",
   "metadata": {},
   "outputs": [
    {
     "name": "stdout",
     "output_type": "stream",
     "text": [
      "5\n"
     ]
    }
   ],
   "source": [
    "ul = div_result.find_element(By.TAG_NAME, \"ul\")\n",
    "# ul\n",
    "item_pages = ul.find_elements(By.XPATH, \"li\")\n",
    "# item_pages = ul.find_elements(By.XPATH, \"li[contains(@class, 'item')]\")\n",
    "print(len(item_pages))"
   ]
  },
  {
   "cell_type": "code",
   "execution_count": 4,
   "id": "d3498f77-c5d7-4baa-ad41-8794bc05b9ee",
   "metadata": {},
   "outputs": [
    {
     "data": {
      "text/plain": [
       "50"
      ]
     },
     "execution_count": 4,
     "metadata": {},
     "output_type": "execute_result"
    }
   ],
   "source": [
    "len(driver.find_elements(By.CLASS_NAME, 'item-description-title'))"
   ]
  },
  {
   "cell_type": "code",
   "execution_count": 42,
   "id": "1fca1096-5eaa-43ac-89fa-d0d56990b80c",
   "metadata": {},
   "outputs": [
    {
     "name": "stdout",
     "output_type": "stream",
     "text": [
      "0: SOIXANTIÈME ANNÉE N 38 BURKINA FASO Unité Progrès Justice 23 Septembre 2021 Journal Officiel DU BURKINA FASO Paraissant le jeudi de chaque semaine ABONNEMENTS BURKINA FASO ET AFRIQUE Toute voie 6 mois...\n",
      "1: 3094 JOURNAL OFFICIEL DU BURKINA FASO N 38 23 Septembre 2021 10 sept Décret n 20210908PRESPM MAECIABEMINEFID portant nomination dun Consul honoraire du Burkina Faso en République de GuinéeBissau MINISTERE DE LENERGIE...\n",
      "2: 23 Septembre 2021 JOURNAL OFFICIEL DU BURKINA FASO N 38 3095 1 PRESIDENCE DU FASO ICAM BURKINA FASO DECRET N 2021 Q9Q6 PRES portant délégation de pouvoir Unité Progrès Justice LE PRESIDENT...\n",
      "3: 3096 JOURNAL OFFICIEL DU BURKINA FASO N 38 23 Septembre 2021 Article 2 Le présent décret qui prend effet pour compter de sa date de signature sera publié au Journal officiel du...\n",
      "4: 23 Septembre 2021 JOURNAL OFFICIEL DU BURKINA FASO N 38 3097 LE PRESIDENT DU FASO PRESIDENT DU CONSEIL DES MINISTRES GRAND MAITRE DES ORDRES BURKINABE Vu la Constitution Vu le Décret n20210001...\n",
      "5: 3098 JOURNAL OFFICIEL DU BURKINA FASO N 38 23 Septembre 2021 Vu la Constitution Vu le Décret n20210001 PRES du 05 janvier 2021 portant nomination du Premier Ministre Vu le Décret n2021...\n",
      "6: 23 Septembre 2021 JOURNAL OFFICIEL DU BURKINA FASO N 38 3099 Le reste Sans changement DECRETE Article 2 Le présent décret sera publié au Journal Of ficiel du Faso Ouagadougou le 07...\n",
      "7: 3100 JOURNAL OFFICIEL DU BURKINA FASO N 38 23 Septembre 2021 africaine et des Burkinabè de lextérieur Vu le décret n20210855PRESPMMAECIABE MINEFID du 11 août 2021 portant ouverture dun Consulat honoraire du...\n",
      "8: 23 Septembre 2021 JOURNAL OFFICIEL DU BURKINA FASO N 38 3101 NEL Monsieur Tuembé DOYE Mie 32 607 U Inspecteur de lenseignement primaire et de léducation non formelle ADMINISTRATEUR REPRESENTANT LES ELEVES...\n",
      "9: 3102 JOURNAL OFFICIEL DU BURKINA FASO N 38 23 Septembre 2021 Vu la Constitution Vu le décret n 2021 0001 PRES du 05 janvier 2021 portant nomination du Premier Ministre Vu le...\n",
      "10: 23 Septembre 2021 JOURNAL OFFICIEL DU BURKINA FASO N 38 3103 FID du 29 juin 2018 portant approbation des statuts de lUniversité de Fada NGourma Vu le décret n20190435PRESPMMESRSI MFPTPSM1NEF1DMS du 09...\n",
      "11: 3104 JOURNAL OFFICIEL DU BURKINA FASO N 38 23 Septembre 2021 MINISTERE DE LA COMMUNICATION ET DES RELATIONS AVEC LE PARLEMENT LE PRESIDENT DU FASO PRESIDENT DU CONSEIL DES MINISTRES DECRET N...\n",
      "12: 23 Septembre 2021 JOURNAL OFFICIEL DU BURKINA FASO N 38 3105 Gouvernement Vu la loi n0362015CNT du 26 juin 2015 portant code minier du Burkina Faso Vu le décret n20170027PRESPMMMCMNE FIDMEEVCC du...\n",
      "13: 3106 JOURNAL OFFICIEL DU BURKINA FASO N 38 23 Septembre 2021 Vu le décret n 2021 0001 PRES du 05 janvier 2021 portant nomination du Premier Ministre Vu le 4écret n 20210002PRESPM...\n",
      "14: 23 Septembre 2021 JOURNAL OFFICIEL DU BURKINA FASO N 38 3107 s la transformation et lécoulement des produits locaux et agroalimentaires Principales dirigeantes et le bienêtre social des populations à travers sur...\n",
      "15: 3108 JOURNAL OFFICIEL DU BURKINA FASO N 38 23 Septembre 2021 Domaine dintervention Promotion du droit au logement Objectif principal Promouvoir le droit au logement pour tous et contribuer à accompagner lEtat...\n",
      "16: 23 Septembre 2021 JOURNAL OFFICIEL DU BURKINA FASO N 38 3109 Siège social Commune de Ouahigouya Province du Yatenga Région du Nord Objectif principal Contribuer à lamélioration des conditions sanitaires des populations...\n",
      "17: 3110 JOURNAL OFFICIEL DU BURKINA FASO N 38 23 Septembre 2021 Objet principal Promotion le bienêtre social et économique de ses membres Adresse Tél 78 24 56 28 66 27 38 73...\n",
      "18: 23 Septembre 2021 JOURNAL OFFICIEL DU BURKINA FASO N 38 3111 Secrétaire général DALA Laobien Jean Appolinaire Secrétaire aux finances NIKIEMA Wendso S M Magloire Récépissé de déclaration dassociation n 2021 00001140501...\n",
      "19: 3112 JOURNAL OFFICIEL DU BURKINA FASO N 38 23 Septembre 2021 Récépissé de déclaration dassociation n 2021 0000990801 du 26 juillet 2021 Le Ministre de lAdministration Territoriale et de la Décentralisation donne...\n",
      "20: 23 Septembre 2021 JOURNAL OFFICIEL DU BURKINA FASO N 38 3113 Récépissé de déclaration dassociation n 2021 00001050201 du 06 mai 2021 Le Ministre de lAdministration Territoriale et de la Décentralisation donne...\n",
      "21: 3114 JOURNAL OFFICIEL DU BURKINA FASO N 38 23 Septembre 2021 Dénomination Association Yan Kahdi en abrégé AYK qui signifie en français il fait bon vivre dans le plateau central Siège Ziniaré...\n",
      "22: 23 Septembre 2021 JOURNAL OFFICIEL DU BURKINA FASO N 38 3115 Siège Ouagadougou Adresse Tél 70 21 70 02 Domaine dintervention Promotion dagent général Objectif principal Améliorer les conditions de travail des...\n",
      "23: 3116 JOURNAL OFFICIEL DU BURKINA FASO N 38 23 Septembre 2021 Objectif principal Contribuer à lamélioration des conditions de vie de manière durable de la population du Burkina Faso et surtout celle...\n",
      "24: 23 Septembre 2021 JOURNAL OFFICIEL DU BURKINA FASO N 38 3117 Objectif principal Contribuer à lamélioration des conditions de vie des populations notament les groupes vulnérables Principaux dirigeants Présidente OUEDRAOGO Celine Pingdwende...\n",
      "25: 3118 JOURNAL OFFICIEL DU BURKINA FASO N 38 23 Septembre 2021 solidarité lexpertise et lentraide financière dans le secteur céréalier Principaux dirigeants Président KABORE Inoussa Secrétaire général BIKIENGA Mahamed Sadate Anour Trésorière...\n",
      "26: 23 Septembre 2021 JOURNAL OFFICIEL DU BURKINA FASO N 38 3119 Principaux dirigeants Président AKABI Daouda Secrétaire général NEBIE Babou Clement Trésorier SANOU Zezouma Philippe Récépissé de déclaration dassociation n 2021 00001114601...\n",
      "27: 3120 JOURNAL OFFICIEL DU BURKINA FASO N 38 23 Septembre 2021 Récépissé de déclaration dassociation n 2021 001159701 du 14 juillet 2021 Le Ministre de lAdministration Territoriale et de la Décentralisation donne...\n",
      "28: 23 Septembre 2021 JOURNAL OFFICIEL DU BURKINA FASO N 38 3121 déclaration dexistence pour lassociation régie par la loi n 0642015CNT du 20 octobre 2015 portant liberté dassociation Dénomination Association Life Impact...\n",
      "29: 3122 JOURNAL OFFICIEL DU BURKINA FASO N 38 23 Septembre 2021 Principaux dirigeants Président OUEDRAOGO Emmanuel Tél 78 72 75 37 Secrétaire général TRAORE Ahmed Tél 73 08 82 78 Trésorier général...\n",
      "30: 23 Septembre 2021 JOURNAL OFFICIEL DU BURKINA FASO N 38 3123 Principaux dirigeants Principaux dirigeants Président TYAHO Yiropoba Tél 76 66 26 56 Secrétaire général KAMBOU Difite K Mickaël Tél 70 07...\n",
      "31: 3124 JOURNAL OFFICIEL DU BURKINA FASO N 38 23 Septembre 2021 Secrétaire général SAWADOGO Boureima Tél 76 78 36 86 Trésorier général COULIBALY Tahirou Tél 76 24 74 68 Récépissé de déclaration...\n",
      "32: 23 Septembre 2021 JOURNAL OFFICIEL DU BURKINA FASO N 38 3125 Secrétaire général MALO Ardjuman Trésorier général SOMA Sonatia Victor Récépissé de déclaration dassociation n 20210148 PUDL du 29 juin 2021 Le...\n",
      "33: 3126 JOURNAL OFFICIEL DU BURKINA FASO N 38 23 Septembre 2021 Récépissé de déclaration dassociation n 20210109 RSUOPIB du 08 juillet 2021 Le Hautcommissaire de la province du loba donne aux personnes...\n",
      "34: 23 Septembre 2021 JOURNAL OFFICIEL DU BURKINA FASO N 38 3127 Tél 70 86 21 17 Trésorier général KABORE Ambroise Tél 76 44 87 96 Récépissé de déclaration dassociation n 20210191 PKAD...\n",
      "35: 0 Page I sur 2 3128 JOURNAL OFFICIEL DU BURKINA FASO N 38 2010 1 2 3 4 5 6 7 8 9 10 11 12 13 14 23 Septembre 2021 SC...\n",
      "36: 23 Septembre 2021 JOURNAL OFFICIEL DU BURKINA FASO N 38 3129 2 fll SCoop I 15 RENSEIGNEMENTS RELATIFS AUX MEMBRES DE LGRANE DE CONTROLE NOM PRENOM DATE ET LIEU DE NAISSANCE NATIONALITE...\n",
      "37: 3130 JOURNAL OFFICIEL DU BURKINA FASO N 38 23 Septembre 2021 Page 1 sur 2 SCoop I FORMULAIRE DE DECLARATION RSC 2010SCOOP 1 EIDE CONSTITUTION DUNE SOCIETE COOPERATIVE OU DOUVERTURE DUN ETABLISSEMENT...\n",
      "38: 23 Septembre 2021 JOURNAL OFFICIEL DU BURKINA FASO N 38 3131 2010 SCoop RENSEIGNEMENTS RELATIFS AUX MEMBRES DE LORGANE DE CONTROLE NOM PRENOM DATE ET LIEU DE NAISSANCE NATIONALITE ADRESSE FONCTION KIMA...\n",
      "39: 3132 JOURNAL OFFICIEL DU BURKINA FASO N 38 23 Septembre 2021 2010 SCoop 1 RENSEIGNEMENTS RELATIFS A LACTIVITE ET AUX ETABLISSEMENTS 6 ACTIVITE PRINCIPALE Lélevage de la volaille 7 DATE DE DEBUT...\n"
     ]
    }
   ],
   "source": [
    "for i, item in enumerate(item_pages):\n",
    "    try:\n",
    "        print(f\"{i}: \"+item.find_element(By.XPATH, \"div\").find_element(By.XPATH, \"div\").find_element(By.XPATH, \"span[@class='item-description-abstract']\").text)\n",
    "    except:\n",
    "        pass"
   ]
  },
  {
   "cell_type": "code",
   "execution_count": 61,
   "id": "09e226e5-a56b-4fca-8604-18ba346cca2a",
   "metadata": {},
   "outputs": [],
   "source": [
    "import re\n",
    "import os\n",
    "\n",
    "def extract_association_info(text):\n",
    "    pattern = r\"(déclaration\\s*d’existence\\s*n°|Dénomination|abrégé|Siège\\s*social|Objectifs)\\s*(.*?)(?=(déclaration\\s*d’existence\\s*n°|Dénomination|abrégé|Siège\\s*social|Objectifs)|\\Z)\"\n",
    "    associations = []\n",
    "    current_association = {}\n",
    "    matches = re.finditer(pattern, text, re.IGNORECASE | re.DOTALL | re.MULTILINE)\n",
    "    for match in matches:\n",
    "        key = match.group(1).strip()\n",
    "        value = match.group(2).strip()\n",
    "        if key == \"déclaration d’existence n°\":\n",
    "            current_association = {}\n",
    "            associations.append(current_association)\n",
    "        current_association[key] = value\n",
    "    return associations\n",
    "\n",
    "def extract_association_info(text):\n",
    "    pattern = r\"(déclaration\\s*d’existence\\s*n°|Dénomination|abrégé|Siège\\s*social|Objectifs)\\s*(.*?)(?=(déclaration\\s*d’existence\\s*n°|Dénomination|abrégé|Siège\\s*social|Objectifs)|\\Z)\"\n",
    "    associations = []\n",
    "    current_association = {}\n",
    "    matches = re.finditer(pattern, text, re.IGNORECASE | re.DOTALL | re.MULTILINE)\n",
    "    for match in matches:\n",
    "        key = match.group(1).strip()\n",
    "        value = match.group(2).strip()\n",
    "        if key == \"déclaration d’existence n°\":\n",
    "            if current_association:\n",
    "                associations.append(current_association)\n",
    "            current_association = {}\n",
    "        current_association[key] = value\n",
    "    if current_association:\n",
    "        associations.append(current_association)\n",
    "    return associations"
   ]
  },
  {
   "cell_type": "code",
   "execution_count": 62,
   "id": "b3ca2b7a-911c-4bd8-96b1-841d364ad04c",
   "metadata": {},
   "outputs": [
    {
     "name": "stdout",
     "output_type": "stream",
     "text": [
      "Read complete!\n"
     ]
    }
   ],
   "source": [
    "with open(os.path.join(\"data\", \"journaux\", \"file_llflg.87648643_20051222_01.txt\"), \"r\") as f:\n",
    "    text = f.read()\n",
    "print(\"Read complete!\")"
   ]
  },
  {
   "cell_type": "code",
   "execution_count": 63,
   "id": "5e64154a-e59e-479e-86ed-00180fac15b2",
   "metadata": {},
   "outputs": [],
   "source": [
    "# text = \"\"\"\n",
    "# Récépissé de déclaration d’existence n° 2000-\n",
    "# 337/MATS/SG/DGAT/DLPAP du 23 août 2000 Le Ministre\n",
    "# de l’administration territoriale et de la Sécurité, donne aux\n",
    "# personnes ci-après désignées récépissé de déclaration pour\n",
    "# l’Association régie par la loi n° 10/92/ADP du 15 décembre\n",
    "# 1992.\n",
    "# Dénomination ASSOCIATION INITIATIVES COM-\n",
    "# MUNAUTAIRES POUR LE DEVELOPPEMENT en\n",
    "# abrégé (I.CO.DEV.)\n",
    "# SIEGE SOCIAL Bogandé, Province de la Gnagna\n",
    "# Objectifs L’Association Initiatives Comrmfiautaires pour le\n",
    "# Développement (I.CODEV.) a pour objectifs de contribuer à\n",
    "# l’amélioration des conditions de vie socio-économiques des\n",
    "# communautés pour un développement humain durable à tra-\n",
    "# vers\n",
    "# Le renforcement des capacités organisationnelles, techniques,\n",
    "# financières et institutionnelles des structures communautaires;\n",
    "# L’implication et la participation de ces structures à tous les\n",
    "# niveaux d’orientation, de décision et d’action.\n",
    "# Les axes de réalisation sont\n",
    "# L’esprit d’apport mutuel\n",
    "# L’auto promotion en vue d’une réelle autonomie.\n",
    "# \"\"\""
   ]
  },
  {
   "cell_type": "code",
   "execution_count": 64,
   "id": "4721cfff-13d1-4485-a0ef-bf39a2c91d0f",
   "metadata": {},
   "outputs": [],
   "source": [
    "associations = extract_associations(text)"
   ]
  },
  {
   "cell_type": "code",
   "execution_count": 65,
   "id": "f0cb88f9-ec40-4b7e-bf24-eea881dddcb0",
   "metadata": {},
   "outputs": [
    {
     "name": "stdout",
     "output_type": "stream",
     "text": [
      "N0: 0\n",
      "ASSOCIATION INITIATIVES COM-\n",
      "MUNAUTAIRES POUR LE DEVELOPPEMENT en\n",
      "abrégé (I.CO.DEV.)\n",
      "SIEGE SOCIAL Bogandé, Province de la Gnagna\n",
      "Objectifs L’Association Initiatives Comrmfiautaires pour le\n",
      "Développement (I.CODEV.) a pour objectifs de contribuer à\n",
      "l’amélioration des conditions de vie socio-économiques des\n",
      "communautés pour un développement humain durable à tra-\n",
      "vers\n",
      "Le renforcement des capacités organisationnelles, techniques,\n",
      "financières et institutionnelles des structures communautaires;\n",
      "L’implication et la participation de ces structures à tous les\n",
      "niveaux d’orientation, de décision et d’action.\n",
      "Les axes de réalisation sont\n",
      "L’esprit d’apport mutuel\n",
      "L’auto promotion en vue d’une réelle autonomie.\n",
      "Le Bureau Exécutif de l’association se compose comme sui-\n",
      "vant\n",
      "Président THIOMBIANO Adama, Attaché de Santé\n",
      "SESSIO BP 2309 Bogandé ASI/BF\n",
      "Vice-président SOGLI Tienyaba, Cultivateur à Liptougou,\n",
      "département de Liptougou, Province de la Gnagna\n",
      "Trésorier LANKOANDE Ousmane, Agent de\n",
      "Développement, BP 2309, Bogandé ASI/BF\n",
      "Trésorier adjoint BOURGOU Paul, Cultivateur à Manni,\n",
      "département de Manni, Province de la Gnagna\n",
      "Secrétaire général KONE Félix, Ingénieur du\n",
      "Développement Rural, option élevage, BP 2309 Bogandé\n",
      "ASI/BF\n",
      "Secrétaire adjoint NADIAGOU Djagnoagou, Cultivateur à\n",
      "Diabatou, Département de Piela, Province de la Gnagna\n",
      "Chargé des Relations Publiques TABOUDOU Alassane,\n",
      "Agent de Développement BP 2309 Bogandé ASI/BF\n",
      "Chargé des Relations Publiques adjoint LANKOANDE\n",
      "Gaston, Cultivateur à Manni, département de Manni, Province\n",
      "de la Gnagna\n",
      "Administrateur NOALI Djambendi, Cultivateur à Dalesma,\n",
      "département de Piela, Province de la Gnagna\n",
      "Administrateur DELISLE Yves, Ingénieur du\n",
      "Développement Rural Spécialisé de Recherche en Etudes du\n",
      "Développement, BP 2309, Bogandé ASI/BF\n",
      "Administrateur CONDAMINE Jean Luc, Docteur en méde-\n",
      "cine, 5 rue Lehon 75017, Pari, France.\n",
      "Récépissé de déclaration d’existence n°2005-\n",
      "490/MATD/SG/DGLPAP/DOASOC du 20 septembre 2005.\n",
      "Le Ministre de l’administration territoriale et de la\n",
      "Décentralisation, donne aux personnes ci-après désignées\n",
      "récépissé de déclaration d’existence pour l’association régie\n",
      "par la loi n° 10/92/ADP du 15 décembre 1992.\n",
      "Dénomination AMICALE DES FEMMES DES\n",
      "AGENTS DE L’ASECNA-BURKINA\n"
     ]
    }
   ],
   "source": [
    "for i, association in enumerate(associations):\n",
    "    print(f\"N0: {i}\")\n",
    "    print(association)"
   ]
  },
  {
   "cell_type": "code",
   "execution_count": 75,
   "id": "1d387252-1546-446e-ab30-e519ea039e64",
   "metadata": {},
   "outputs": [],
   "source": [
    "import spacy\n",
    "\n",
    "def extract_associations_with_ner(text):\n",
    "    nlp = spacy.load(\"fr_core_news_sm\")\n",
    "    doc = nlp(text)\n",
    "    associations = []\n",
    "    current_association = {}\n",
    "    for ent in doc.ents:\n",
    "        if ent.label_ == \"ORG\":  # Assuming associations are labeled as organizations\n",
    "            if current_association:\n",
    "                associations.append(current_association)\n",
    "                current_association = {}\n",
    "            current_association[\"Association Name\"] = ent.text\n",
    "        elif ent.label_ == \"LOC\":  # Assuming locations are labeled as locations\n",
    "            current_association[\"Location\"] = ent.text\n",
    "    if current_association:\n",
    "        associations.append(current_association)\n",
    "    return associations"
   ]
  },
  {
   "cell_type": "code",
   "execution_count": 76,
   "id": "def3c4da-5539-47d4-928e-7155f69bd168",
   "metadata": {},
   "outputs": [],
   "source": [
    "text = \"\"\"\n",
    "Récépissé de déclaration d’existence n° 2000-\n",
    "337/MATS/SG/DGAT/DLPAP du 23 août 2000 Le Ministre\n",
    "de l’administration territoriale et de la Sécurité, donne aux\n",
    "personnes ci-après désignées récépissé de déclaration pour\n",
    "l’Association régie par la loi n° 10/92/ADP du 15 décembre\n",
    "1992.\n",
    "Dénomination ASSOCIATION INITIATIVES COM-\n",
    "MUNAUTAIRES POUR LE DEVELOPPEMENT en\n",
    "abrégé (I.CO.DEV.)\n",
    "SIEGE SOCIAL Bogandé, Province de la Gnagna\n",
    "Objectifs L’Association Initiatives Comrmfiautaires pour le\n",
    "Développement (I.CODEV.) a pour objectifs de contribuer à\n",
    "l’amélioration des conditions de vie socio-économiques des\n",
    "communautés pour un développement humain durable à tra-\n",
    "vers\n",
    "Le renforcement des capacités organisationnelles, techniques,\n",
    "financières et institutionnelles des structures communautaires;\n",
    "L’implication et la participation de ces structures à tous les\n",
    "niveaux d’orientation, de décision et d’action.\n",
    "Les axes de réalisation sont\n",
    "L’esprit d’apport mutuel\n",
    "L’auto promotion en vue d’une réelle autonomie.\n",
    "\"\"\""
   ]
  },
  {
   "cell_type": "code",
   "execution_count": 77,
   "id": "9589ae75-f737-4cf9-9b8b-39efabfd1cf1",
   "metadata": {},
   "outputs": [
    {
     "name": "stdout",
     "output_type": "stream",
     "text": [
      "N0: 0\n",
      "{'Association Name': 'Sécurité'}\n",
      "N0: 1\n",
      "{'Association Name': 'l’Association'}\n",
      "N0: 2\n",
      "{'Association Name': 'MUNAUTAIRES'}\n",
      "N0: 3\n",
      "{'Association Name': 'DEVELOPPEMENT'}\n",
      "N0: 4\n",
      "{'Association Name': 'I.CO.DEV'}\n",
      "N0: 5\n",
      "{'Association Name': 'SIEGE', 'Location': 'Province de la Gnagna'}\n",
      "N0: 6\n",
      "{'Association Name': 'Objectifs', 'Location': 'l’'}\n",
      "N0: 7\n",
      "{'Association Name': 'L’'}\n",
      "N0: 8\n",
      "{'Association Name': 'L’'}\n"
     ]
    }
   ],
   "source": [
    "\n",
    "associations = extract_associations_with_ner(text)\n",
    "for i, association in enumerate(associations):\n",
    "    print(f\"N0: {i}\")\n",
    "    print(association)"
   ]
  },
  {
   "cell_type": "code",
   "execution_count": 80,
   "id": "d630d5a8-0483-4a58-9ae3-0f453a8cb2dc",
   "metadata": {},
   "outputs": [
    {
     "ename": "TypeError",
     "evalue": "add() takes exactly 2 positional arguments (3 given)",
     "output_type": "error",
     "traceback": [
      "\u001b[0;31m---------------------------------------------------------------------------\u001b[0m",
      "\u001b[0;31mTypeError\u001b[0m                                 Traceback (most recent call last)",
      "Cell \u001b[0;32mIn[80], line 51\u001b[0m\n\u001b[1;32m     45\u001b[0m \u001b[38;5;66;03m# Add patterns to matcher\u001b[39;00m\n\u001b[1;32m     46\u001b[0m \u001b[38;5;66;03m# for pattern in patterns:\u001b[39;00m\n\u001b[1;32m     47\u001b[0m \u001b[38;5;66;03m#     matcher.add(\"PATTERN\", None, pattern)\u001b[39;00m\n\u001b[1;32m     48\u001b[0m \n\u001b[1;32m     49\u001b[0m \u001b[38;5;66;03m# Add patterns to matcher\u001b[39;00m\n\u001b[1;32m     50\u001b[0m \u001b[38;5;28;01mfor\u001b[39;00m i, pattern \u001b[38;5;129;01min\u001b[39;00m \u001b[38;5;28menumerate\u001b[39m(patterns):\n\u001b[0;32m---> 51\u001b[0m     \u001b[43mmatcher\u001b[49m\u001b[38;5;241;43m.\u001b[39;49m\u001b[43madd\u001b[49m\u001b[43m(\u001b[49m\u001b[38;5;124;43mf\u001b[39;49m\u001b[38;5;124;43m\"\u001b[39;49m\u001b[38;5;124;43mPATTERN_\u001b[39;49m\u001b[38;5;132;43;01m{\u001b[39;49;00m\u001b[43mi\u001b[49m\u001b[38;5;132;43;01m}\u001b[39;49;00m\u001b[38;5;124;43m\"\u001b[39;49m\u001b[43m,\u001b[49m\u001b[43m \u001b[49m\u001b[38;5;28;43;01mNone\u001b[39;49;00m\u001b[43m,\u001b[49m\u001b[43m \u001b[49m\u001b[43mpattern\u001b[49m\u001b[43m)\u001b[49m\n\u001b[1;32m     53\u001b[0m \u001b[38;5;66;03m# Extract matches\u001b[39;00m\n\u001b[1;32m     54\u001b[0m matches \u001b[38;5;241m=\u001b[39m matcher(doc)\n",
      "File \u001b[0;32m~/.virtualenvs/data-challenge-journaux-bf/lib/python3.10/site-packages/spacy/matcher/matcher.pyx:79\u001b[0m, in \u001b[0;36mspacy.matcher.matcher.Matcher.add\u001b[0;34m()\u001b[0m\n",
      "\u001b[0;31mTypeError\u001b[0m: add() takes exactly 2 positional arguments (3 given)"
     ]
    }
   ],
   "source": [
    "import spacy\n",
    "from spacy.matcher import Matcher\n",
    "\n",
    "# Load the French language model\n",
    "nlp = spacy.load(\"fr_core_news_sm\")\n",
    "\n",
    "# Sample text\n",
    "text = \"\"\"\n",
    "Récépissé de déclaration d’existence n° 2006-\n",
    "0046/MA TD/R CE N/P K A D/H C/S G/DA SE du 23 mars 2006.\n",
    "Le Haut-Commissaire de la Province de la Kadiogo, donne\n",
    "aux personnes ci-après désignées récépissé de déclaration\n",
    "d’existence pour l’Association régie par la loi n° 10/92/ADP\n",
    "du 15 décembre 1992.\n",
    "Dénomination ASSOCIATION TUM-N-BAO-\n",
    "BEOOGO»\n",
    "SIEGE SOCIAL Ouagadougou, secteur 10,\n",
    "Arrondissement de Baskuy\n",
    "OBJETIFS L’association a pour objectifs\n",
    "De créer un cadre de concertation et d’échanges entre ses\n",
    "membres\n",
    "De créer la solidarité et l’entraide entre ses membres\n",
    "...\n",
    "Commissaires aux comptes\n",
    "KOLA W. Théophile, tél. 70 76 86 47 51\n",
    "KABORE Issaka, domicilié au secteur 10, S/C 8297, tél. 76 67\n",
    "16 70\n",
    "\"\"\"\n",
    "\n",
    "# Process the text\n",
    "doc = nlp(text)\n",
    "\n",
    "# Initialize matcher\n",
    "matcher = Matcher(nlp.vocab)\n",
    "\n",
    "# Define patterns\n",
    "patterns = [\n",
    "    [{\"LOWER\": \"récépissé\"}, {\"LOWER\": \"de\"}, {\"LOWER\": \"déclaration\"}, {\"LOWER\": \"d’existence\"}, {\"SHAPE\": \"ddd\"}],  # Match receipt number\n",
    "    [{\"LOWER\": \"dénomination\"}, {\"POS\": \"PROPN\", \"OP\": \"+\"}],  # Match association name\n",
    "    [{\"LOWER\": \"siège\"}, {\"LOWER\": \"social\"}, {\"POS\": \"PROPN\", \"OP\": \"+\"}],  # Match headquarters\n",
    "    [{\"LOWER\": \"objectifs\"}, {\"POS\": \"NOUN\", \"OP\": \"+\"}],  # Match objectives\n",
    "    [{\"POS\": \"PROPN\"}, {\"POS\": \"PROPN\", \"OP\": \"+\"}, {\"POS\": \"PROPN\", \"OP\": \"?\"}, {\"POS\": \"PROPN\", \"OP\": \"?\"}, {\"POS\": \"PROPN\", \"OP\": \"?\"}, {\"POS\": \"PROPN\", \"OP\": \"?\"}, {\"POS\": \"PROPN\", \"OP\": \"?\"}, {\"POS\": \"PROPN\", \"OP\": \"?\"}, {\"POS\": \"PROPN\", \"OP\": \"?\"}, {\"POS\": \"PROPN\", \"OP\": \"?\"}, {\"POS\": \"PROPN\", \"OP\": \"?\"}, {\"POS\": \"PROPN\", \"OP\": \"?\"}, {\"POS\": \"PROPN\", \"OP\": \"?\"}, {\"POS\": \"PROPN\", \"OP\": \"?\"}, {\"POS\": \"PROPN\", \"OP\": \"?\"}],  # Match personnel information\n",
    "]\n",
    "\n",
    "# Add patterns to matcher\n",
    "# for pattern in patterns:\n",
    "#     matcher.add(\"PATTERN\", None, pattern)\n",
    "\n",
    "# Add patterns to matcher\n",
    "for i, pattern in enumerate(patterns):\n",
    "    matcher.add(f\"PATTERN_{i}\", None, pattern)\n",
    "\n",
    "# Extract matches\n",
    "matches = matcher(doc)\n",
    "\n",
    "# Initialize dictionary to store extracted information\n",
    "extracted_info = {}\n",
    "\n",
    "# Process matches\n",
    "for match_id, start, end in matches:\n",
    "    match_id_str = nlp.vocab.strings[match_id]\n",
    "    span = doc[start:end]\n",
    "    if match_id_str not in extracted_info:\n",
    "        extracted_info[match_id_str] = [span.text.strip()]\n",
    "    else:\n",
    "        extracted_info[match_id_str].append(span.text.strip())\n",
    "\n",
    "# Print extracted information\n",
    "for key, value in extracted_info.items():\n",
    "    print(key + \": \" + \", \".join(value))\n"
   ]
  },
  {
   "cell_type": "markdown",
   "id": "2c2e446a-6f0f-4e5a-b656-90e86894798a",
   "metadata": {},
   "source": [
    "## Gemini"
   ]
  },
  {
   "cell_type": "code",
   "execution_count": 89,
   "id": "40b7fe4b-3a63-4105-aee8-674a6669f646",
   "metadata": {},
   "outputs": [],
   "source": [
    "import spacy\n",
    "from spacy.matcher import Matcher\n",
    "\n",
    "def extract_association_info(text):\n",
    "  \"\"\"\n",
    "  Extracts information about declarations of existence for associations from a French text.\n",
    "\n",
    "  Args:\n",
    "      text: The French text to process.\n",
    "\n",
    "  Returns:\n",
    "      A dictionary containing extracted information. Keys are labels like\n",
    "      \"déclaration d’existence n°\", \"Dénomination\", etc. Values are lists of strings\n",
    "      containing the corresponding information for each association found.\n",
    "  \"\"\"\n",
    "  nlp = spacy.load(\"fr_core_news_sm\")\n",
    "  doc = nlp(text)\n",
    "\n",
    "  # Define patterns\n",
    "  patterns = [\n",
    "      # Declaration number\n",
    "      [{\"LOWER\": \"récépissé\"}, {\"LOWER\": \"de\"}, {\"LOWER\": \"déclaration\"}, {\"LOWER\": \"d’existence\"}, {\"SHAPE\": \"ddd\"}],\n",
    "      # Association name\n",
    "      [{\"LOWER\": \"dénomination\"}, {\"POS\": \"PROPN\", \"OP\": \"+\"}, {\"LOWER\": \"en\"}, {\"LOWER\": \"abrégé\"}, {\"LOWER\": \"(\", \"OP\": \"?\"}, {\"LOWER\": \"abbr\", \"OP\": \"?\"}, {\")\": \"OP\", \"OP\": \"?\"}],  # Optional abbreviation in parenthesis\n",
    "      [{\"LOWER\": \"dénomination\"}, {\"POS\": \"PROPN\", \"OP\": \"+\"}, {\"OP\": \"?\"}],  # Name without abbreviation\n",
    "      # Headquarters\n",
    "      [{\"LOWER\": \"siège\"}, {\"LOWER\": \"social\"}, {\"POS\": \"PROPN\", \"OP\": \"+\"}, {\"OP\": \"?\"}],  # Optional additional location info\n",
    "      # Objectives - Capture multiple lines with \"&#8226;\" (bullet point symbol)\n",
    "      [{\"LEMMA\": \"être\"}, {\"POS\": \"AUX\"}, {\"LOWER\": \"chargé\"}, {\"POS\": \"VERB\"}],  # Start of objectives section (heuristic)\n",
    "      [{\"TEXT\": \"&#8226;\"}, {\"POS\": \".\", \"OP\": \"?\"}],  # Bullet point (optional period)\n",
    "      [{\"POS\": \"VERB\", \"OP\": \"+\"}, {\"POS\": \"NOUN\", \"OP\": \"+\"}, {\"OP\": \"?\"}],  # Verbs and nouns describing objectives\n",
    "  ]\n",
    "\n",
    "  # Create matcher\n",
    "  matcher = Matcher(nlp.vocab)\n",
    "  for pattern in patterns:\n",
    "      matcher.add(f\"PATTERN_{patterns.index(pattern)}\", None, pattern)\n",
    "\n",
    "  # Extract matches\n",
    "  matches = matcher(doc)\n",
    "  extracted_info = {}\n",
    "\n",
    "  # Process matches by group\n",
    "  for match_id, start, end in matches:\n",
    "      group_id = int(match_id.split(\"_\")[-1])\n",
    "      span = doc[start:end]\n",
    "      if group_id not in extracted_info:\n",
    "          extracted_info[patterns[group_id][0][\"LOWER\"]] = []\n",
    "      # Handle objectives with potential multiple lines\n",
    "      if group_id == 4:\n",
    "          if span.text.strip() == \"&#8226;\":\n",
    "              continue  # Skip empty bullet points\n",
    "          if \"Objectifs\" not in extracted_info:\n",
    "              extracted_info[\"Objectifs\"] = []\n",
    "          extracted_info[\"Objectifs\"].append(span.text.strip())\n",
    "      else:\n",
    "          extracted_info[patterns[group_id][0][\"LOWER\"]].append(span.text.strip())\n",
    "\n",
    "  return extracted_info"
   ]
  },
  {
   "cell_type": "code",
   "execution_count": 90,
   "id": "57fa7369-37d8-43fd-98d4-ce7dfa062f5e",
   "metadata": {},
   "outputs": [
    {
     "ename": "TypeError",
     "evalue": "add() takes exactly 2 positional arguments (3 given)",
     "output_type": "error",
     "traceback": [
      "\u001b[0;31m---------------------------------------------------------------------------\u001b[0m",
      "\u001b[0;31mTypeError\u001b[0m                                 Traceback (most recent call last)",
      "Cell \u001b[0;32mIn[90], line 27\u001b[0m\n\u001b[1;32m      1\u001b[0m \u001b[38;5;66;03m# Example usage\u001b[39;00m\n\u001b[1;32m      2\u001b[0m text \u001b[38;5;241m=\u001b[39m \u001b[38;5;124m\"\"\"\u001b[39m\n\u001b[1;32m      3\u001b[0m \u001b[38;5;124mRécépissé de déclaration d’existence n° 2000-\u001b[39m\n\u001b[1;32m      4\u001b[0m \u001b[38;5;124m337/MATS/SG/DGAT/DLPAP du 23 août 2000 Le Ministre\u001b[39m\n\u001b[0;32m   (...)\u001b[0m\n\u001b[1;32m     24\u001b[0m \u001b[38;5;124mL’auto promotion en vue d’une réelle autonomie.\u001b[39m\n\u001b[1;32m     25\u001b[0m \u001b[38;5;124m\"\"\"\u001b[39m\n\u001b[0;32m---> 27\u001b[0m association_info \u001b[38;5;241m=\u001b[39m \u001b[43mextract_association_info\u001b[49m\u001b[43m(\u001b[49m\u001b[43mtext\u001b[49m\u001b[43m)\u001b[49m\n\u001b[1;32m     29\u001b[0m \u001b[38;5;66;03m# Print extracted information\u001b[39;00m\n\u001b[1;32m     30\u001b[0m \u001b[38;5;28;01mfor\u001b[39;00m key, value \u001b[38;5;129;01min\u001b[39;00m association_info\u001b[38;5;241m.\u001b[39mitems():\n",
      "Cell \u001b[0;32mIn[89], line 37\u001b[0m, in \u001b[0;36mextract_association_info\u001b[0;34m(text)\u001b[0m\n\u001b[1;32m     35\u001b[0m matcher \u001b[38;5;241m=\u001b[39m Matcher(nlp\u001b[38;5;241m.\u001b[39mvocab)\n\u001b[1;32m     36\u001b[0m \u001b[38;5;28;01mfor\u001b[39;00m pattern \u001b[38;5;129;01min\u001b[39;00m patterns:\n\u001b[0;32m---> 37\u001b[0m     \u001b[43mmatcher\u001b[49m\u001b[38;5;241;43m.\u001b[39;49m\u001b[43madd\u001b[49m\u001b[43m(\u001b[49m\u001b[38;5;124;43mf\u001b[39;49m\u001b[38;5;124;43m\"\u001b[39;49m\u001b[38;5;124;43mPATTERN_\u001b[39;49m\u001b[38;5;132;43;01m{\u001b[39;49;00m\u001b[43mpatterns\u001b[49m\u001b[38;5;241;43m.\u001b[39;49m\u001b[43mindex\u001b[49m\u001b[43m(\u001b[49m\u001b[43mpattern\u001b[49m\u001b[43m)\u001b[49m\u001b[38;5;132;43;01m}\u001b[39;49;00m\u001b[38;5;124;43m\"\u001b[39;49m\u001b[43m,\u001b[49m\u001b[43m \u001b[49m\u001b[38;5;28;43;01mNone\u001b[39;49;00m\u001b[43m,\u001b[49m\u001b[43m \u001b[49m\u001b[43mpattern\u001b[49m\u001b[43m)\u001b[49m\n\u001b[1;32m     39\u001b[0m \u001b[38;5;66;03m# Extract matches\u001b[39;00m\n\u001b[1;32m     40\u001b[0m matches \u001b[38;5;241m=\u001b[39m matcher(doc)\n",
      "File \u001b[0;32m~/.virtualenvs/data-challenge-journaux-bf/lib/python3.10/site-packages/spacy/matcher/matcher.pyx:79\u001b[0m, in \u001b[0;36mspacy.matcher.matcher.Matcher.add\u001b[0;34m()\u001b[0m\n",
      "\u001b[0;31mTypeError\u001b[0m: add() takes exactly 2 positional arguments (3 given)"
     ]
    }
   ],
   "source": [
    "# Example usage\n",
    "text = \"\"\"\n",
    "Récépissé de déclaration d’existence n° 2000-\n",
    "337/MATS/SG/DGAT/DLPAP du 23 août 2000 Le Ministre\n",
    "de l’administration territoriale et de la Sécurité, donne aux\n",
    "personnes ci-après désignées récépissé de déclaration pour\n",
    "l’Association régie par la loi n° 10/92/ADP du 15 décembre\n",
    "1992.\n",
    "Dénomination ASSOCIATION INITIATIVES COM-\n",
    "MUNAUTAIRES POUR LE DEVELOPPEMENT en\n",
    "abrégé (I.CO.DEV.)\n",
    "SIEGE SOCIAL Bogandé, Province de la Gnagna\n",
    "Objectifs L’Association Initiatives Comrmfiautaires pour le\n",
    "Développement (I.CODEV.) a pour objectifs de contribuer à\n",
    "l’amélioration des conditions de vie socio-économiques des\n",
    "communautés pour un développement humain durable à tra-\n",
    "vers\n",
    "Le renforcement des capacités organisationnelles, techniques,\n",
    "financières et institutionnelles des structures communautaires;\n",
    "L’implication et la participation de ces structures à tous les\n",
    "niveaux d’orientation, de décision et d’action.\n",
    "Les axes de réalisation sont\n",
    "L’esprit d’apport mutuel\n",
    "L’auto promotion en vue d’une réelle autonomie.\n",
    "\"\"\"\n",
    "\n",
    "association_info = extract_association_info(text)\n",
    "\n",
    "# Print extracted information\n",
    "for key, value in association_info.items():\n",
    "  print(key + \": \" + \", \".join(value))\n"
   ]
  },
  {
   "cell_type": "code",
   "execution_count": 84,
   "id": "9999e818-eb29-487e-aad2-bd255add6a76",
   "metadata": {},
   "outputs": [
    {
     "ename": "TypeError",
     "evalue": "add() takes exactly 2 positional arguments (3 given)",
     "output_type": "error",
     "traceback": [
      "\u001b[0;31m---------------------------------------------------------------------------\u001b[0m",
      "\u001b[0;31mTypeError\u001b[0m                                 Traceback (most recent call last)",
      "Cell \u001b[0;32mIn[84], line 87\u001b[0m\n\u001b[1;32m     61\u001b[0m \u001b[38;5;66;03m# Example usage\u001b[39;00m\n\u001b[1;32m     62\u001b[0m text \u001b[38;5;241m=\u001b[39m \u001b[38;5;124m\"\"\"\u001b[39m\n\u001b[1;32m     63\u001b[0m \u001b[38;5;124mRécépissé de déclaration d’existence n° 2000-\u001b[39m\n\u001b[1;32m     64\u001b[0m \u001b[38;5;124m337/MATS/SG/DGAT/DLPAP du 23 août 2000 Le Ministre\u001b[39m\n\u001b[0;32m   (...)\u001b[0m\n\u001b[1;32m     84\u001b[0m \u001b[38;5;124mL’auto promotion en vue d’une réelle autonomie.\u001b[39m\n\u001b[1;32m     85\u001b[0m \u001b[38;5;124m\"\"\"\u001b[39m\n\u001b[0;32m---> 87\u001b[0m association_info \u001b[38;5;241m=\u001b[39m \u001b[43mextract_association_info\u001b[49m\u001b[43m(\u001b[49m\u001b[43mtext\u001b[49m\u001b[43m)\u001b[49m\n\u001b[1;32m     89\u001b[0m \u001b[38;5;66;03m# Print extracted information\u001b[39;00m\n\u001b[1;32m     90\u001b[0m \u001b[38;5;28;01mfor\u001b[39;00m key, value \u001b[38;5;129;01min\u001b[39;00m association_info\u001b[38;5;241m.\u001b[39mitems():\n",
      "Cell \u001b[0;32mIn[84], line 37\u001b[0m, in \u001b[0;36mextract_association_info\u001b[0;34m(text)\u001b[0m\n\u001b[1;32m     35\u001b[0m matcher \u001b[38;5;241m=\u001b[39m Matcher(nlp\u001b[38;5;241m.\u001b[39mvocab)\n\u001b[1;32m     36\u001b[0m \u001b[38;5;28;01mfor\u001b[39;00m i, pattern \u001b[38;5;129;01min\u001b[39;00m \u001b[38;5;28menumerate\u001b[39m(patterns):\n\u001b[0;32m---> 37\u001b[0m     \u001b[43mmatcher\u001b[49m\u001b[38;5;241;43m.\u001b[39;49m\u001b[43madd\u001b[49m\u001b[43m(\u001b[49m\u001b[38;5;124;43mf\u001b[39;49m\u001b[38;5;124;43m\"\u001b[39;49m\u001b[38;5;124;43mPATTERN_\u001b[39;49m\u001b[38;5;132;43;01m{\u001b[39;49;00m\u001b[43mi\u001b[49m\u001b[38;5;132;43;01m}\u001b[39;49;00m\u001b[38;5;124;43m\"\u001b[39;49m\u001b[43m,\u001b[49m\u001b[43m \u001b[49m\u001b[38;5;28;43;01mNone\u001b[39;49;00m\u001b[43m,\u001b[49m\u001b[43m \u001b[49m\u001b[43mpattern\u001b[49m\u001b[43m)\u001b[49m\n\u001b[1;32m     39\u001b[0m \u001b[38;5;66;03m# Extract matches\u001b[39;00m\n\u001b[1;32m     40\u001b[0m matches \u001b[38;5;241m=\u001b[39m matcher(doc)\n",
      "File \u001b[0;32m~/.virtualenvs/data-challenge-journaux-bf/lib/python3.10/site-packages/spacy/matcher/matcher.pyx:79\u001b[0m, in \u001b[0;36mspacy.matcher.matcher.Matcher.add\u001b[0;34m()\u001b[0m\n",
      "\u001b[0;31mTypeError\u001b[0m: add() takes exactly 2 positional arguments (3 given)"
     ]
    }
   ],
   "source": [
    "import spacy\n",
    "from spacy.matcher import Matcher\n",
    "\n",
    "def extract_association_info(text):\n",
    "    \"\"\"\n",
    "    Extracts information about declarations of existence for associations from a French text.\n",
    "\n",
    "    Args:\n",
    "        text: The French text to process.\n",
    "\n",
    "    Returns:\n",
    "        A dictionary containing extracted information. Keys are labels like\n",
    "        \"déclaration d’existence n°\", \"Dénomination\", etc. Values are lists of strings\n",
    "        containing the corresponding information for each association found.\n",
    "    \"\"\"\n",
    "    nlp = spacy.load(\"fr_core_news_sm\")\n",
    "    doc = nlp(text)\n",
    "\n",
    "    # Define patterns\n",
    "    patterns = [\n",
    "        # Declaration number\n",
    "        [{\"LOWER\": \"récépissé\"}, {\"LOWER\": \"de\"}, {\"LOWER\": \"déclaration\"}, {\"LOWER\": \"d’existence\"}, {\"SHAPE\": \"ddd\"}],\n",
    "        # Association name\n",
    "        [{\"LOWER\": \"dénomination\"}, {\"POS\": \"PROPN\", \"OP\": \"+\"}, {\"LOWER\": \"en\"}, {\"LOWER\": \"abrégé\"}, {\"LOWER\": \"(\", \"OP\": \"?\"}, {\"LOWER\": \"abbr\", \"OP\": \"?\"}, {\")\": \"OP\", \"OP\": \"?\"}],  # Optional abbreviation in parenthesis\n",
    "        [{\"LOWER\": \"dénomination\"}, {\"POS\": \"PROPN\", \"OP\": \"+\"}, {\"OP\": \"?\"}],  # Name without abbreviation\n",
    "        # Headquarters\n",
    "        [{\"LOWER\": \"siège\"}, {\"LOWER\": \"social\"}, {\"POS\": \"PROPN\", \"OP\": \"+\"}, {\"OP\": \"?\"}],  # Optional additional location info\n",
    "        # Objectives - Capture multiple lines with \"&#8226;\" (bullet point symbol)\n",
    "        [{\"LEMMA\": \"être\"}, {\"POS\": \"AUX\"}, {\"LOWER\": \"chargé\"}, {\"POS\": \"VERB\"}],  # Start of objectives section (heuristic)\n",
    "        [{\"TEXT\": \"&#8226;\"}, {\"POS\": \".\", \"OP\": \"?\"}],  # Bullet point (optional period)\n",
    "        [{\"POS\": \"VERB\", \"OP\": \"+\"}, {\"POS\": \"NOUN\", \"OP\": \"+\"}, {\"OP\": \"?\"}],  # Verbs and nouns describing objectives\n",
    "    ]\n",
    "\n",
    "    # Create matcher\n",
    "    matcher = Matcher(nlp.vocab)\n",
    "    for i, pattern in enumerate(patterns):\n",
    "        matcher.add(f\"PATTERN_{i}\", None, pattern)\n",
    "\n",
    "    # Extract matches\n",
    "    matches = matcher(doc)\n",
    "    extracted_info = {}\n",
    "\n",
    "    # Process matches by group\n",
    "    for match_id, start, end in matches:\n",
    "        group_id = int(match_id.split(\"_\")[-1])\n",
    "        span = doc[start:end]\n",
    "        if group_id not in extracted_info:\n",
    "            extracted_info[patterns[group_id][0][\"LOWER\"]] = []\n",
    "        # Handle objectives with potential multiple lines\n",
    "        if group_id == 4:\n",
    "            if span.text.strip() == \"&#8226;\":\n",
    "                continue  # Skip empty bullet points\n",
    "            if \"Objectifs\" not in extracted_info:\n",
    "                extracted_info[\"Objectifs\"] = []\n",
    "            extracted_info[\"Objectifs\"].append(span.text.strip())\n",
    "        else:\n",
    "            extracted_info[patterns[group_id][0][\"LOWER\"]].append(span.text.strip())\n",
    "\n",
    "    return extracted_info\n",
    "\n",
    "# Example usage\n",
    "text = \"\"\"\n",
    "Récépissé de déclaration d’existence n° 2000-\n",
    "337/MATS/SG/DGAT/DLPAP du 23 août 2000 Le Ministre\n",
    "de l’administration territoriale et de la Sécurité, donne aux\n",
    "personnes ci-après désignées récépissé de déclaration pour\n",
    "l’Association régie par la loi n° 10/92/ADP du 15 décembre\n",
    "1992.\n",
    "Dénomination ASSOCIATION INITIATIVES COM-\n",
    "MUNAUTAIRES POUR LE DEVELOPPEMENT en\n",
    "abrégé (I.CO.DEV.)\n",
    "SIEGE SOCIAL Bogandé, Province de la Gnagna\n",
    "Objectifs L’Association Initiatives Comrmfiautaires pour le\n",
    "Développement (I.CODEV.) a pour objectifs de contribuer à\n",
    "l’amélioration des conditions de vie socio-économiques des\n",
    "communautés pour un développement humain durable à tra-\n",
    "vers\n",
    "Le renforcement des capacités organisationnelles, techniques,\n",
    "financières et institutionnelles des structures communautaires;\n",
    "L’implication et la participation de ces structures à tous les\n",
    "niveaux d’orientation, de décision et d’action.\n",
    "Les axes de réalisation sont\n",
    "L’esprit d’apport mutuel\n",
    "L’auto promotion en vue d’une réelle autonomie.\n",
    "\"\"\"\n",
    "\n",
    "association_info = extract_association_info(text)\n",
    "\n",
    "# Print extracted information\n",
    "for key, value in association_info.items():\n",
    "    print(key + \": \" + \", \".join(value))\n"
   ]
  },
  {
   "cell_type": "code",
   "execution_count": 93,
   "id": "82512f8c-88ef-4e88-a06f-7fdf94eb48ac",
   "metadata": {},
   "outputs": [],
   "source": [
    "def extract_declaration_existence(text):\n",
    "    associations = []\n",
    "    \n",
    "    # Define the fields and their extraction methods\n",
    "    field_names = [\n",
    "        \"déclaration d’existence n°\",\n",
    "        \"Dénomination\",\n",
    "        \"abrégé\",\n",
    "        \"Siège social\",\n",
    "        \"Objectif\"\n",
    "    ]\n",
    "    \n",
    "    def extract_field(match):\n",
    "        return match.groupdict()['name']\n",
    "        \n",
    "    pattern = re.compile('^(Déclaration d\\'existence |Dénomination) ([\\w\\-]+) : ' + '<(.*?)>')\n",
    "\n",
    "    # Extract each declaration of existence for associations\n",
    "    for match in re.findall(pattern, text):\n",
    "        association_name = extract_field(match)\n",
    "        associations[association_name] = None\n",
    "    \n",
    "    return associations"
   ]
  },
  {
   "cell_type": "code",
   "execution_count": 94,
   "id": "eef24314-4b3e-4329-88e6-0a2f193eb10a",
   "metadata": {},
   "outputs": [
    {
     "name": "stdout",
     "output_type": "stream",
     "text": [
      "Collecting jsonlines\n",
      "  Downloading jsonlines-4.0.0-py3-none-any.whl.metadata (1.6 kB)\n",
      "Requirement already satisfied: attrs>=19.2.0 in /home/bationo/.virtualenvs/data-challenge-journaux-bf/lib/python3.10/site-packages (from jsonlines) (23.2.0)\n",
      "Downloading jsonlines-4.0.0-py3-none-any.whl (8.7 kB)\n",
      "Installing collected packages: jsonlines\n",
      "Successfully installed jsonlines-4.0.0\n",
      "\n",
      "\u001b[38;5;1m✘ No compatible package found for 'fr_core_web_lg' (spaCy v3.7.4)\u001b[0m\n",
      "\n",
      "\n",
      "\u001b[38;5;1m✘ No compatible package found for 'fr_core_web_sm' (spaCy v3.7.4)\u001b[0m\n",
      "\n"
     ]
    }
   ],
   "source": [
    "# !pip install jsonlines\n",
    "# !python -m spacy download en_core_web_lg\n",
    "# !python -m spacy download en_core_web_sm"
   ]
  },
  {
   "cell_type": "code",
   "execution_count": 30,
   "id": "7c6a981c-10aa-422d-8c20-42fb72869a69",
   "metadata": {},
   "outputs": [],
   "source": [
    "# !python -m spacy download fr_core_news_lg  # Installed\n",
    "# !python -m spacy download fr_dep_news_trf  # Installed"
   ]
  },
  {
   "cell_type": "code",
   "execution_count": 36,
   "id": "c96850cf-2169-40d0-bf3f-a237b14c0ceb",
   "metadata": {},
   "outputs": [
    {
     "name": "stdout",
     "output_type": "stream",
     "text": [
      "Imported!\n"
     ]
    }
   ],
   "source": [
    "import spacy\n",
    "from spacy import displacy\n",
    "print(\"Imported!\")"
   ]
  },
  {
   "cell_type": "code",
   "execution_count": 37,
   "id": "39173eb1-95db-4a94-89d8-8ccb4ac5cc19",
   "metadata": {},
   "outputs": [
    {
     "name": "stdout",
     "output_type": "stream",
     "text": [
      "Model loaded!\n"
     ]
    }
   ],
   "source": [
    "nlp = spacy.load(\"fr_core_news_lg\")\n",
    "# nlp = spacy.load(\"fr_dep_news_trf\")\n",
    "print(\"Model loaded!\")"
   ]
  },
  {
   "cell_type": "code",
   "execution_count": 38,
   "id": "3315f599-65de-4366-b424-f53f4a2768fa",
   "metadata": {},
   "outputs": [
    {
     "name": "stdout",
     "output_type": "stream",
     "text": [
      "Imported!\n"
     ]
    }
   ],
   "source": [
    "from transformers import AutoModelForQuestionAnswering, AutoTokenizer, pipeline\n",
    "print(\"Imported!\")"
   ]
  },
  {
   "cell_type": "code",
   "execution_count": 39,
   "id": "55478201-cb40-474c-8901-87f559995715",
   "metadata": {},
   "outputs": [
    {
     "name": "stdout",
     "output_type": "stream",
     "text": [
      "Done.\n"
     ]
    }
   ],
   "source": [
    "model_name = \"deepset/roberta-base-squad2\"\n",
    "\n",
    "hugg = pipeline('question-answering', model=model_name, tokenizer=model_name)\n",
    "print(\"Done.\")"
   ]
  },
  {
   "cell_type": "code",
   "execution_count": 49,
   "id": "5c48078e-73fb-474a-b962-b2e68aa0ce95",
   "metadata": {},
   "outputs": [],
   "source": [
    "text = \"\"\"\n",
    "\n",
    "I lECEPISSE DE DECLA RA TI ON D’ASSOCIA TION\n",
    "fj‘Ç4-74/MAT/PKND/HC/CAB du 27 Septembre 1994\n",
    "Le Haut-Commissaire de la Province du Kénédougou. donne\n",
    "iux personnes ci-après désignées, récépissé de déclaration\n",
    "fAssociation régie par la Loi n° 10/92 du 15 Décembre 1992.\n",
    "DENOMINATION: \"L’EXPERIENCE CLUB\n",
    "bUA-1\n",
    "01,240)*! SIEGE SOCIAL: Commune de Orodara\n",
    "•r;\n",
    "•d> o\n",
    "pn delà\n",
    "d pour,?,\n",
    "CCI après i\n",
    "•d a °go,ï\n",
    "tio i.\n",
    "s Cl- i\n",
    "LSI e les i-\n",
    "Jj\n",
    "Il je la\n",
    "Pogo-\n",
    ",n«\n",
    "est*\n",
    "‘des v'\n",
    "•Miel\n",
    "OBJET: L’Association s’est fixée comme objectifs de\n",
    "rassembler la jeunesse pour une solidarité sans faille,\n",
    "de créer des infrastructures pour permettre l’écoulement des\n",
    "produits fruitiers.\n",
    "•de créer l’emploi pour la jeunesse en vue d’enrailler\n",
    "certains fléaux (mendicité, chômage, alcoolisme etc..)\n",
    "de créer un cadre adéquat pour le regroupement et la distrac-\n",
    "lion des jeunes Auberge populaire, hotêllerie, Ecoles etc...).\n",
    "Les Personnes dont les noms suivent sont chargées de F Admi-\n",
    "lustration et de la Direction de l’Association.\n",
    "PRESIDENT: COULIBALY Seydou\n",
    "VICE-PRESIDENT: TRAORE Seydou\n",
    "SECRETAIRE GENERAL: KONE Seydou\n",
    "SECRETAIRE GENERAL ADJOINT: TRAORE Lassina\n",
    "SECRETAIRE GENERAL A L’ORGANISATION: BARRO\n",
    "S°uleymane\n",
    "SECRETAIRE GENERAL ADJOINT A L’ORGANISATION\n",
    "HONE Mamadou\n",
    "^■SECRETAIRE GENERAL ADJOINT A L’ORGANI-\n",
    "S *TlON: OU ATT ARA Lassina\n",
    "^SORIER GENERAL: BARRO Seydou\n",
    "Revisse de declaration d’association\n",
    "9 4-86/MAT/PKND/HC/CAB du 24 Octobre1994portant\n",
    "^‘tif au Récépissé N° 94/74/MAT/PKND/HC/CAB du 27\n",
    "tyembre 1994: \"L’EXPERIENCE CLUB\n",
    "SIDENT: COULIBALY Seydou\n",
    "VICE-PRESIDENT: TRAORE Seydou\n",
    "SECRETAIRE GENERAL: KONE Seydou\n",
    "SECRETAIRE GENERAL ADJOINT: TRAORE Lassina\n",
    "TRESORIER GENERAL: BARRO Seydou\n",
    "TRESORIER GENERAL ADJOINT: TRAORE Siaka\n",
    "Le reste sans changement.\n",
    "\"\"\"\n",
    "\n",
    "text_1 = \"\"\"\n",
    "RECEPISSE DE DECLARATION D’ASSOCIATION\n",
    "N° 94-013/PSNG/HC du 19 Octobre 1994\n",
    "Le Haut-Commissaire de la Province du Sanguié donne aux\n",
    "personnes ci-après désignées, récépissé de déclaration pour\n",
    "l’Association ci-dessous régie par la Loi n° 10/92/ADP du 15\n",
    "décembre 1992.\n",
    "DENOMINATION: Association SOLIDARITE DES\n",
    "HANDICAPES DE DIDYR en abrégé ASSOHAD\n",
    "SIEGE SOCIAL: DIDYR (département dudit, Province du\n",
    "SANGUIE)\n",
    "OBJET: L’Association a pour but de regrouper les Handica-\n",
    "pés du Département en vue de les sensibiliser, les conscientiser\n",
    "sur leur état, les former et leur apprendre à se prendre en\n",
    "charge.\n",
    "NOM, PRENOMS ET ADRESSE DES PERSONNES AC-\n",
    "TUELLEMENT CHARGEES DE L’ADMINISTRATION\n",
    "OU DE LA DIRECTION DE L’ASSOCIATION.\n",
    "PRESIDENT: BAWAR Badié, cultivateur à Bouldié\n",
    "VICE PRESIDENT: B ADO Ambroise, Cultivateur à Doolo\n",
    "SECRETAIRE GENERAL: B AKO Dominique, Restaurateur\n",
    "à Didyr\n",
    "SECRETAIRE GENERAL ADJOINT: BAKOUAN Marc,\n",
    "Elève au CEG de Didyr\n",
    "TRESORIERE: KANSANE Effo Marie Jeanne, Ménagère à\n",
    "Didyr\n",
    "TRESORIER ADJOINT: BAZIE Bazombié, Cultivateur à\n",
    "Mouzoumou\n",
    "ORGANISATEUR/ BADIEL B. Patrice, cultivateur à Padyr\n",
    "ORGANISATEUR ADJOINT: BAKO Issa, Cultivateur à\n",
    "Bouldié\n",
    "PREMIER CONSEILLER: BAKOUAN Badama, Cultivateur\n",
    "à Kouen\n",
    "DEUXIEME CONSEILLER: BASSANE Nebila, cultivateur\n",
    "à Didyr\n",
    "COMMISSAIRES AUX COMPTES: KANDIEL Eugénie,\n",
    "Ménagère à Didyr.\n",
    "\"\"\""
   ]
  },
  {
   "cell_type": "code",
   "execution_count": 50,
   "id": "e6e4d503-3807-4414-ac10-c92b8a2f0cd5",
   "metadata": {},
   "outputs": [
    {
     "data": {
      "text/plain": [
       "'\\n\\nI lECEPISSE DE DECLA RA TI ON D’ASSOCIA TION\\nfj‘Ç4-74/MAT/PKND/HC/CAB du 27 Septembre 1994\\nLe Haut-Commissaire de la Province du Kénédougou. donne\\niux personnes ci-après désignées, récépissé de déclaration\\nfAssociation régie par la Loi n° 10/92 du 15 Décembre 1992.\\nDENOMINATION: \"L’EXPERIENCE CLUB\\nbUA-1\\n01,240)*! SIEGE SOCIAL: Commune de Orodara\\n•r;\\n•d> o\\npn delà\\nd pour,?,\\nCCI après i\\n•d a °go,ï\\ntio i.\\ns Cl- i\\nLSI e les i-\\nJj\\nIl je la\\nPogo-\\n,n«\\nest*\\n‘des v\\'\\n•Miel\\nOBJET: L’Association s’est fixée comme objectifs de\\nrassembler la jeunesse pour une solidarité sans faille,\\nde créer des infrastructures pour permettre l’écoulement des\\nproduits fruitiers.\\n•de créer l’emploi pour la jeunesse en vue d’enrailler\\ncertains fléaux (mendicité, chômage, alcoolisme etc..)\\nde créer un cadre adéquat pour le regroupement et la distrac-\\nlion des jeunes Auberge populaire, hotêllerie, Ecoles etc...).\\nLes Personnes dont les noms suivent sont chargées de F Admi-\\nlustration et de la Direction de l’Association.\\nPRESIDENT: COULIBALY Seydou\\nVICE-PRESIDENT: TRAORE Seydou\\nSECRETAIRE GENERAL: KONE Seydou\\nSECRETAIRE GENERAL ADJOINT: TRAORE Lassina\\nSECRETAIRE GENERAL A L’ORGANISATION: BARRO\\nS°uleymane\\nSECRETAIRE GENERAL ADJOINT A L’ORGANISATION\\nHONE Mamadou\\n^■SECRETAIRE GENERAL ADJOINT A L’ORGANI-\\nS *TlON: OU ATT ARA Lassina\\n^SORIER GENERAL: BARRO Seydou\\nRevisse de declaration d’association\\n9 4-86/MAT/PKND/HC/CAB du 24 Octobre1994portant\\n^‘tif au Récépissé N° 94/74/MAT/PKND/HC/CAB du 27\\ntyembre 1994: \"L’EXPERIENCE CLUB\\nSIDENT: COULIBALY Seydou\\nVICE-PRESIDENT: TRAORE Seydou\\nSECRETAIRE GENERAL: KONE Seydou\\nSECRETAIRE GENERAL ADJOINT: TRAORE Lassina\\nTRESORIER GENERAL: BARRO Seydou\\nTRESORIER GENERAL ADJOINT: TRAORE Siaka\\nLe reste sans changement.\\n'"
      ]
     },
     "execution_count": 50,
     "metadata": {},
     "output_type": "execute_result"
    }
   ],
   "source": [
    "text"
   ]
  },
  {
   "cell_type": "code",
   "execution_count": 56,
   "id": "fb670a96-5df8-4e31-a6e6-d26372bbfb95",
   "metadata": {},
   "outputs": [],
   "source": [
    "def process_text(text):\n",
    "    # Rule 1: Remove full stop followed by a newline and a lowercase letter\n",
    "    import re\n",
    "    text = re.sub(r'\\.\\n([a-z])', r' \\1', text)\n",
    "\n",
    "    # Rule 2: Remove newline preceded and followed by a lowercase letter\n",
    "    text = re.sub(r'(?<=\\w)\\n(?=\\w)', ' ', text)\n",
    "\n",
    "    # Rule 3: Remove newline preceded by a comma\n",
    "    text = text.replace(\",\\n\", \", \")\n",
    "\n",
    "    return text"
   ]
  },
  {
   "cell_type": "code",
   "execution_count": 63,
   "id": "943c0dee-3ac1-4465-b755-5390664120d6",
   "metadata": {},
   "outputs": [],
   "source": [
    "def clean_text(text):\n",
    "    import re\n",
    "    # Replace special characters with spaces\n",
    "    cleaned_text = re.sub(r'[•*■]', ' ', text)\n",
    "    \n",
    "    # Remove unnecessary newlines and extra spaces\n",
    "    cleaned_text = re.sub(r'\\n+', ' ', cleaned_text)\n",
    "    cleaned_text = re.sub(r'\\s+', ' ', cleaned_text)\n",
    "    \n",
    "    # Correct spacing around punctuation marks\n",
    "    cleaned_text = re.sub(r'\\s([.,:;!?])', r'\\1', cleaned_text)\n",
    "    cleaned_text = re.sub(r'([.,:;!?])\\s', r'\\1 ', cleaned_text)\n",
    "    \n",
    "    return cleaned_text.strip()"
   ]
  },
  {
   "cell_type": "code",
   "execution_count": 66,
   "id": "9a8c4a75-fc55-40d4-9bd9-156a95086d42",
   "metadata": {},
   "outputs": [
    {
     "data": {
      "text/plain": [
       "['',\n",
       " '',\n",
       " 'I lECEPISSE DE DECLA RA TI ON D’ASSOCIA TION fj‘Ç4-74/MAT/PKND/HC/CAB du 27 Septembre 1994 Le Haut-Commissaire de la Province du Kénédougou. donne iux personnes ci-après désignées, récépissé de déclaration fAssociation régie par la Loi n° 10/92 du 15 Décembre 1992.',\n",
       " 'DENOMINATION: \"L’EXPERIENCE CLUB bUA-1 01,240)*! SIEGE SOCIAL: Commune de Orodara',\n",
       " '•r;',\n",
       " '•d> o pn delà d pour,?, CCI après i',\n",
       " '•d a °go,ï tio i s Cl- i LSI e les i-',\n",
       " 'Jj Il je la Pogo-',\n",
       " ',n«',\n",
       " 'est*',\n",
       " \"‘des v'\",\n",
       " '•Miel OBJET: L’Association s’est fixée comme objectifs de rassembler la jeunesse pour une solidarité sans faille, de créer des infrastructures pour permettre l’écoulement des produits fruitiers.',\n",
       " '•de créer l’emploi pour la jeunesse en vue d’enrailler certains fléaux (mendicité, chômage, alcoolisme etc..)',\n",
       " 'de créer un cadre adéquat pour le regroupement et la distrac-',\n",
       " 'lion des jeunes Auberge populaire, hotêllerie, Ecoles etc...).',\n",
       " 'Les Personnes dont les noms suivent sont chargées de F Admi-',\n",
       " 'lustration et de la Direction de l’Association.',\n",
       " 'PRESIDENT: COULIBALY Seydou VICE-PRESIDENT: TRAORE Seydou SECRETAIRE GENERAL: KONE Seydou SECRETAIRE GENERAL ADJOINT: TRAORE Lassina SECRETAIRE GENERAL A L’ORGANISATION: BARRO S°uleymane SECRETAIRE GENERAL ADJOINT A L’ORGANISATION HONE Mamadou',\n",
       " '^■SECRETAIRE GENERAL ADJOINT A L’ORGANI-',\n",
       " 'S *TlON: OU ATT ARA Lassina',\n",
       " '^SORIER GENERAL: BARRO Seydou Revisse de declaration d’association 9 4-86/MAT/PKND/HC/CAB du 24 Octobre1994portant',\n",
       " '^‘tif au Récépissé N° 94/74/MAT/PKND/HC/CAB du 27 tyembre 1994: \"L’EXPERIENCE CLUB SIDENT: COULIBALY Seydou VICE-PRESIDENT: TRAORE Seydou SECRETAIRE GENERAL: KONE Seydou SECRETAIRE GENERAL ADJOINT: TRAORE Lassina TRESORIER GENERAL: BARRO Seydou TRESORIER GENERAL ADJOINT: TRAORE Siaka Le reste sans changement.',\n",
       " '']"
      ]
     },
     "execution_count": 66,
     "metadata": {},
     "output_type": "execute_result"
    }
   ],
   "source": [
    "process_text(text).split(\"\\n\")"
   ]
  },
  {
   "cell_type": "code",
   "execution_count": 67,
   "id": "b6c8edd7-93ab-496d-b251-72bcf694b71c",
   "metadata": {},
   "outputs": [
    {
     "data": {
      "text/plain": [
       "['I lECEPISSE DE DECLA RA TI ON D’ASSOCIA TION fj‘Ç4-74/MAT/PKND/HC/CAB du 27 Septembre 1994 Le Haut-Commissaire de la Province du Kénédougou. donne iux personnes ci-après désignées, récépissé de déclaration fAssociation régie par la Loi n° 10/92 du 15 Décembre 1992. DENOMINATION: \"L’EXPERIENCE CLUB bUA-1 01,240)! SIEGE SOCIAL: Commune de Orodara r; d> o pn delà d pour,?, CCI après i d a °go,ï tio i. s Cl- i LSI e les i- Jj Il je la Pogo-,n« est ‘des v\\' Miel OBJET: L’Association s’est fixée comme objectifs de rassembler la jeunesse pour une solidarité sans faille, de créer des infrastructures pour permettre l’écoulement des produits fruitiers. de créer l’emploi pour la jeunesse en vue d’enrailler certains fléaux (mendicité, chômage, alcoolisme etc..) de créer un cadre adéquat pour le regroupement et la distrac- lion des jeunes Auberge populaire, hotêllerie, Ecoles etc...). Les Personnes dont les noms suivent sont chargées de F Admi- lustration et de la Direction de l’Association. PRESIDENT: COULIBALY Seydou VICE-PRESIDENT: TRAORE Seydou SECRETAIRE GENERAL: KONE Seydou SECRETAIRE GENERAL ADJOINT: TRAORE Lassina SECRETAIRE GENERAL A L’ORGANISATION: BARRO S°uleymane SECRETAIRE GENERAL ADJOINT A L’ORGANISATION HONE Mamadou ^ SECRETAIRE GENERAL ADJOINT A L’ORGANI- S TlON: OU ATT ARA Lassina ^SORIER GENERAL: BARRO Seydou Revisse de declaration d’association 9 4-86/MAT/PKND/HC/CAB du 24 Octobre1994portant ^‘tif au Récépissé N° 94/74/MAT/PKND/HC/CAB du 27 tyembre 1994: \"L’EXPERIENCE CLUB SIDENT: COULIBALY Seydou VICE-PRESIDENT: TRAORE Seydou SECRETAIRE GENERAL: KONE Seydou SECRETAIRE GENERAL ADJOINT: TRAORE Lassina TRESORIER GENERAL: BARRO Seydou TRESORIER GENERAL ADJOINT: TRAORE Siaka Le reste sans changement.']"
      ]
     },
     "execution_count": 67,
     "metadata": {},
     "output_type": "execute_result"
    }
   ],
   "source": [
    "clean_text(text).split(\"\\n\")"
   ]
  },
  {
   "cell_type": "code",
   "execution_count": 90,
   "id": "08e5b7cf-3aed-4947-ba89-715d4d7713dd",
   "metadata": {},
   "outputs": [],
   "source": [
    "def fix_formatting(text_):\n",
    "\n",
    "    # text_ = process_text(text_)\n",
    "    text_ = clean_text(text_)\n",
    "    \n",
    "\n",
    "    \n",
    "    # Split the text_ into lines\n",
    "    lines = text_.split(\"\\n\")\n",
    "    # Initialize a list to hold the fixed lines\n",
    "    fixed_lines = []\n",
    "    # Iterate over each line\n",
    "    for line in lines:\n",
    "        # If the line is empty or contains only whitespace, skip it\n",
    "        if not line.strip():\n",
    "            continue\n",
    "        # Remove leading and trailing whitespace from the line\n",
    "        line = line.strip()\n",
    "        # Append the fixed line to the list\n",
    "        fixed_lines.append(line)\n",
    "    # Join the fixed lines into a single string with newline characters\n",
    "    fixed_text = \"\\n\".join(fixed_lines)\n",
    "    fixed_text = fixed_text.replace(\"n°\", \"numero\").replace(\"N°\", \"numero\")\n",
    "    return fixed_text"
   ]
  },
  {
   "cell_type": "code",
   "execution_count": 91,
   "id": "0bc7b11b-9f99-4dec-a8b2-b0565db9f51c",
   "metadata": {},
   "outputs": [
    {
     "data": {
      "text/plain": [
       "'recepisse de declaration d’association numero 94-013/psng/hc du 19 octobre 1994 le haut-commissaire de la province du sanguié donne aux personnes ci-après désignées, récépissé de déclaration pour l’association ci-dessous régie par la loi numero 10/92/adp du 15 décembre 1992. denomination: association solidarite des handicapes de didyr en abrégé assohad siege social: didyr (département dudit, province du sanguie) objet: l’association a pour but de regrouper les handica- pés du département en vue de les sensibiliser, les conscientiser sur leur état, les former et leur apprendre à se prendre en charge. nom, prenoms et adresse des personnes ac- tuellement chargees de l’administration ou de la direction de l’association. president: bawar badié, cultivateur à bouldié vice president: b ado ambroise, cultivateur à doolo secretaire general: b ako dominique, restaurateur à didyr secretaire general adjoint: bakouan marc, elève au ceg de didyr tresoriere: kansane effo marie jeanne, ménagère à didyr tresorier adjoint: bazie bazombié, cultivateur à mouzoumou organisateur/ badiel b. patrice, cultivateur à padyr organisateur adjoint: bako issa, cultivateur à bouldié premier conseiller: bakouan badama, cultivateur à kouen deuxieme conseiller: bassane nebila, cultivateur à didyr commissaires aux comptes: kandiel eugénie, ménagère à didyr.'"
      ]
     },
     "execution_count": 91,
     "metadata": {},
     "output_type": "execute_result"
    }
   ],
   "source": [
    "fix_formatting(text_1).lower()"
   ]
  },
  {
   "cell_type": "code",
   "execution_count": 92,
   "id": "5cac11fd-8d8f-4f69-b0ef-d304fc7e0ee9",
   "metadata": {},
   "outputs": [],
   "source": [
    "doc = nlp(fix_formatting(text_1))\n",
    "sent = list(doc.sents)[1]\n",
    "# displacy.render(sent, style=\"dep\", jupyter=True)"
   ]
  },
  {
   "cell_type": "markdown",
   "id": "26fa24cb-60ce-4f3b-ad70-856b27a6dc94",
   "metadata": {},
   "source": [
    "#### Get Label"
   ]
  },
  {
   "cell_type": "code",
   "execution_count": 93,
   "id": "24f46d4c-b0f9-4793-9765-a9972717bf74",
   "metadata": {},
   "outputs": [
    {
     "data": {
      "text/html": [
       "<span class=\"tex2jax_ignore\"><div class=\"entities\" style=\"line-height: 2.5; direction: ltr\">\n",
       "<mark class=\"entity\" style=\"background: #ddd; padding: 0.45em 0.6em; margin: 0 0.25em; line-height: 1; border-radius: 0.35em;\">\n",
       "    RECEPISSE DE DECLARATION\n",
       "    <span style=\"font-size: 0.8em; font-weight: bold; line-height: 1; border-radius: 0.35em; vertical-align: middle; margin-left: 0.5rem\">MISC</span>\n",
       "</mark>\n",
       " D’ASSOCIATION numero 94-013/\n",
       "<mark class=\"entity\" style=\"background: #7aecec; padding: 0.45em 0.6em; margin: 0 0.25em; line-height: 1; border-radius: 0.35em;\">\n",
       "    PSNG\n",
       "    <span style=\"font-size: 0.8em; font-weight: bold; line-height: 1; border-radius: 0.35em; vertical-align: middle; margin-left: 0.5rem\">ORG</span>\n",
       "</mark>\n",
       "/\n",
       "<mark class=\"entity\" style=\"background: #7aecec; padding: 0.45em 0.6em; margin: 0 0.25em; line-height: 1; border-radius: 0.35em;\">\n",
       "    HC du 19 Octobre\n",
       "    <span style=\"font-size: 0.8em; font-weight: bold; line-height: 1; border-radius: 0.35em; vertical-align: middle; margin-left: 0.5rem\">ORG</span>\n",
       "</mark>\n",
       " 1994 Le Haut-Commissaire de la \n",
       "<mark class=\"entity\" style=\"background: #ff9561; padding: 0.45em 0.6em; margin: 0 0.25em; line-height: 1; border-radius: 0.35em;\">\n",
       "    Province du Sanguié\n",
       "    <span style=\"font-size: 0.8em; font-weight: bold; line-height: 1; border-radius: 0.35em; vertical-align: middle; margin-left: 0.5rem\">LOC</span>\n",
       "</mark>\n",
       " donne aux personnes ci-après désignées, récépissé de déclaration pour l’\n",
       "<mark class=\"entity\" style=\"background: #7aecec; padding: 0.45em 0.6em; margin: 0 0.25em; line-height: 1; border-radius: 0.35em;\">\n",
       "    Association\n",
       "    <span style=\"font-size: 0.8em; font-weight: bold; line-height: 1; border-radius: 0.35em; vertical-align: middle; margin-left: 0.5rem\">ORG</span>\n",
       "</mark>\n",
       " ci-dessous régie par la \n",
       "<mark class=\"entity\" style=\"background: #ddd; padding: 0.45em 0.6em; margin: 0 0.25em; line-height: 1; border-radius: 0.35em;\">\n",
       "    Loi\n",
       "    <span style=\"font-size: 0.8em; font-weight: bold; line-height: 1; border-radius: 0.35em; vertical-align: middle; margin-left: 0.5rem\">MISC</span>\n",
       "</mark>\n",
       " numero 10/92/\n",
       "<mark class=\"entity\" style=\"background: #7aecec; padding: 0.45em 0.6em; margin: 0 0.25em; line-height: 1; border-radius: 0.35em;\">\n",
       "    ADP\n",
       "    <span style=\"font-size: 0.8em; font-weight: bold; line-height: 1; border-radius: 0.35em; vertical-align: middle; margin-left: 0.5rem\">ORG</span>\n",
       "</mark>\n",
       " du 15 décembre 1992. DENOMINATION: \n",
       "<mark class=\"entity\" style=\"background: #7aecec; padding: 0.45em 0.6em; margin: 0 0.25em; line-height: 1; border-radius: 0.35em;\">\n",
       "    Association SOLIDARITE DES HANDICAPES DE DIDYR\n",
       "    <span style=\"font-size: 0.8em; font-weight: bold; line-height: 1; border-radius: 0.35em; vertical-align: middle; margin-left: 0.5rem\">ORG</span>\n",
       "</mark>\n",
       " en abrégé \n",
       "<mark class=\"entity\" style=\"background: #7aecec; padding: 0.45em 0.6em; margin: 0 0.25em; line-height: 1; border-radius: 0.35em;\">\n",
       "    ASSOHAD\n",
       "    <span style=\"font-size: 0.8em; font-weight: bold; line-height: 1; border-radius: 0.35em; vertical-align: middle; margin-left: 0.5rem\">ORG</span>\n",
       "</mark>\n",
       " SIEGE SOCIAL: DIDYR (département dudit, \n",
       "<mark class=\"entity\" style=\"background: #ff9561; padding: 0.45em 0.6em; margin: 0 0.25em; line-height: 1; border-radius: 0.35em;\">\n",
       "    Province du SANGUIE\n",
       "    <span style=\"font-size: 0.8em; font-weight: bold; line-height: 1; border-radius: 0.35em; vertical-align: middle; margin-left: 0.5rem\">LOC</span>\n",
       "</mark>\n",
       ") OBJET: L’\n",
       "<mark class=\"entity\" style=\"background: #7aecec; padding: 0.45em 0.6em; margin: 0 0.25em; line-height: 1; border-radius: 0.35em;\">\n",
       "    Association\n",
       "    <span style=\"font-size: 0.8em; font-weight: bold; line-height: 1; border-radius: 0.35em; vertical-align: middle; margin-left: 0.5rem\">ORG</span>\n",
       "</mark>\n",
       " a pour but de regrouper les \n",
       "<mark class=\"entity\" style=\"background: #ff9561; padding: 0.45em 0.6em; margin: 0 0.25em; line-height: 1; border-radius: 0.35em;\">\n",
       "    Handica-\n",
       "    <span style=\"font-size: 0.8em; font-weight: bold; line-height: 1; border-radius: 0.35em; vertical-align: middle; margin-left: 0.5rem\">LOC</span>\n",
       "</mark>\n",
       " pés du \n",
       "<mark class=\"entity\" style=\"background: #ff9561; padding: 0.45em 0.6em; margin: 0 0.25em; line-height: 1; border-radius: 0.35em;\">\n",
       "    Département\n",
       "    <span style=\"font-size: 0.8em; font-weight: bold; line-height: 1; border-radius: 0.35em; vertical-align: middle; margin-left: 0.5rem\">LOC</span>\n",
       "</mark>\n",
       " en vue de les sensibiliser, les conscientiser sur leur état, les former et leur apprendre à se prendre en charge. \n",
       "<mark class=\"entity\" style=\"background: #ddd; padding: 0.45em 0.6em; margin: 0 0.25em; line-height: 1; border-radius: 0.35em;\">\n",
       "    NOM\n",
       "    <span style=\"font-size: 0.8em; font-weight: bold; line-height: 1; border-radius: 0.35em; vertical-align: middle; margin-left: 0.5rem\">MISC</span>\n",
       "</mark>\n",
       ", \n",
       "<mark class=\"entity\" style=\"background: #ddd; padding: 0.45em 0.6em; margin: 0 0.25em; line-height: 1; border-radius: 0.35em;\">\n",
       "    PRENOMS ET ADRESSE DES PERSONNES AC-\n",
       "    <span style=\"font-size: 0.8em; font-weight: bold; line-height: 1; border-radius: 0.35em; vertical-align: middle; margin-left: 0.5rem\">MISC</span>\n",
       "</mark>\n",
       " TUELLEMENT \n",
       "<mark class=\"entity\" style=\"background: #ddd; padding: 0.45em 0.6em; margin: 0 0.25em; line-height: 1; border-radius: 0.35em;\">\n",
       "    CHARGEES DE\n",
       "    <span style=\"font-size: 0.8em; font-weight: bold; line-height: 1; border-radius: 0.35em; vertical-align: middle; margin-left: 0.5rem\">MISC</span>\n",
       "</mark>\n",
       " L’\n",
       "<mark class=\"entity\" style=\"background: #ddd; padding: 0.45em 0.6em; margin: 0 0.25em; line-height: 1; border-radius: 0.35em;\">\n",
       "    ADMINISTRATION OU DE LA DIRECTION DE L’ASSOCIATION\n",
       "    <span style=\"font-size: 0.8em; font-weight: bold; line-height: 1; border-radius: 0.35em; vertical-align: middle; margin-left: 0.5rem\">MISC</span>\n",
       "</mark>\n",
       ". PRESIDENT: \n",
       "<mark class=\"entity\" style=\"background: #ddd; padding: 0.45em 0.6em; margin: 0 0.25em; line-height: 1; border-radius: 0.35em;\">\n",
       "    BAWAR Badié\n",
       "    <span style=\"font-size: 0.8em; font-weight: bold; line-height: 1; border-radius: 0.35em; vertical-align: middle; margin-left: 0.5rem\">PER</span>\n",
       "</mark>\n",
       ", cultivateur à \n",
       "<mark class=\"entity\" style=\"background: #ddd; padding: 0.45em 0.6em; margin: 0 0.25em; line-height: 1; border-radius: 0.35em;\">\n",
       "    Bouldié VICE\n",
       "    <span style=\"font-size: 0.8em; font-weight: bold; line-height: 1; border-radius: 0.35em; vertical-align: middle; margin-left: 0.5rem\">PER</span>\n",
       "</mark>\n",
       " PRESIDENT: \n",
       "<mark class=\"entity\" style=\"background: #ddd; padding: 0.45em 0.6em; margin: 0 0.25em; line-height: 1; border-radius: 0.35em;\">\n",
       "    B ADO Ambroise\n",
       "    <span style=\"font-size: 0.8em; font-weight: bold; line-height: 1; border-radius: 0.35em; vertical-align: middle; margin-left: 0.5rem\">PER</span>\n",
       "</mark>\n",
       ", \n",
       "<mark class=\"entity\" style=\"background: #ddd; padding: 0.45em 0.6em; margin: 0 0.25em; line-height: 1; border-radius: 0.35em;\">\n",
       "    Cultivateur\n",
       "    <span style=\"font-size: 0.8em; font-weight: bold; line-height: 1; border-radius: 0.35em; vertical-align: middle; margin-left: 0.5rem\">PER</span>\n",
       "</mark>\n",
       " à \n",
       "<mark class=\"entity\" style=\"background: #ddd; padding: 0.45em 0.6em; margin: 0 0.25em; line-height: 1; border-radius: 0.35em;\">\n",
       "    Doolo SECRETAIRE GENERAL\n",
       "    <span style=\"font-size: 0.8em; font-weight: bold; line-height: 1; border-radius: 0.35em; vertical-align: middle; margin-left: 0.5rem\">PER</span>\n",
       "</mark>\n",
       ": \n",
       "<mark class=\"entity\" style=\"background: #ddd; padding: 0.45em 0.6em; margin: 0 0.25em; line-height: 1; border-radius: 0.35em;\">\n",
       "    B AKO Dominique\n",
       "    <span style=\"font-size: 0.8em; font-weight: bold; line-height: 1; border-radius: 0.35em; vertical-align: middle; margin-left: 0.5rem\">MISC</span>\n",
       "</mark>\n",
       ", \n",
       "<mark class=\"entity\" style=\"background: #ddd; padding: 0.45em 0.6em; margin: 0 0.25em; line-height: 1; border-radius: 0.35em;\">\n",
       "    Restaurateur\n",
       "    <span style=\"font-size: 0.8em; font-weight: bold; line-height: 1; border-radius: 0.35em; vertical-align: middle; margin-left: 0.5rem\">PER</span>\n",
       "</mark>\n",
       " à \n",
       "<mark class=\"entity\" style=\"background: #ddd; padding: 0.45em 0.6em; margin: 0 0.25em; line-height: 1; border-radius: 0.35em;\">\n",
       "    Didyr SECRETAIRE GENERAL\n",
       "    <span style=\"font-size: 0.8em; font-weight: bold; line-height: 1; border-radius: 0.35em; vertical-align: middle; margin-left: 0.5rem\">PER</span>\n",
       "</mark>\n",
       " ADJOINT: \n",
       "<mark class=\"entity\" style=\"background: #ddd; padding: 0.45em 0.6em; margin: 0 0.25em; line-height: 1; border-radius: 0.35em;\">\n",
       "    BAKOUAN Marc\n",
       "    <span style=\"font-size: 0.8em; font-weight: bold; line-height: 1; border-radius: 0.35em; vertical-align: middle; margin-left: 0.5rem\">PER</span>\n",
       "</mark>\n",
       ", \n",
       "<mark class=\"entity\" style=\"background: #ddd; padding: 0.45em 0.6em; margin: 0 0.25em; line-height: 1; border-radius: 0.35em;\">\n",
       "    Elève\n",
       "    <span style=\"font-size: 0.8em; font-weight: bold; line-height: 1; border-radius: 0.35em; vertical-align: middle; margin-left: 0.5rem\">PER</span>\n",
       "</mark>\n",
       " au CEG de \n",
       "<mark class=\"entity\" style=\"background: #ddd; padding: 0.45em 0.6em; margin: 0 0.25em; line-height: 1; border-radius: 0.35em;\">\n",
       "    Didyr TRESORIERE\n",
       "    <span style=\"font-size: 0.8em; font-weight: bold; line-height: 1; border-radius: 0.35em; vertical-align: middle; margin-left: 0.5rem\">PER</span>\n",
       "</mark>\n",
       ": \n",
       "<mark class=\"entity\" style=\"background: #ddd; padding: 0.45em 0.6em; margin: 0 0.25em; line-height: 1; border-radius: 0.35em;\">\n",
       "    KANSANE Effo Marie Jeanne\n",
       "    <span style=\"font-size: 0.8em; font-weight: bold; line-height: 1; border-radius: 0.35em; vertical-align: middle; margin-left: 0.5rem\">PER</span>\n",
       "</mark>\n",
       ", \n",
       "<mark class=\"entity\" style=\"background: #ddd; padding: 0.45em 0.6em; margin: 0 0.25em; line-height: 1; border-radius: 0.35em;\">\n",
       "    Ménagère\n",
       "    <span style=\"font-size: 0.8em; font-weight: bold; line-height: 1; border-radius: 0.35em; vertical-align: middle; margin-left: 0.5rem\">PER</span>\n",
       "</mark>\n",
       " à \n",
       "<mark class=\"entity\" style=\"background: #ddd; padding: 0.45em 0.6em; margin: 0 0.25em; line-height: 1; border-radius: 0.35em;\">\n",
       "    Didyr TRESORIER\n",
       "    <span style=\"font-size: 0.8em; font-weight: bold; line-height: 1; border-radius: 0.35em; vertical-align: middle; margin-left: 0.5rem\">MISC</span>\n",
       "</mark>\n",
       " ADJOINT: BAZIE \n",
       "<mark class=\"entity\" style=\"background: #ddd; padding: 0.45em 0.6em; margin: 0 0.25em; line-height: 1; border-radius: 0.35em;\">\n",
       "    Bazombié\n",
       "    <span style=\"font-size: 0.8em; font-weight: bold; line-height: 1; border-radius: 0.35em; vertical-align: middle; margin-left: 0.5rem\">MISC</span>\n",
       "</mark>\n",
       ", \n",
       "<mark class=\"entity\" style=\"background: #ddd; padding: 0.45em 0.6em; margin: 0 0.25em; line-height: 1; border-radius: 0.35em;\">\n",
       "    Cultivateur\n",
       "    <span style=\"font-size: 0.8em; font-weight: bold; line-height: 1; border-radius: 0.35em; vertical-align: middle; margin-left: 0.5rem\">PER</span>\n",
       "</mark>\n",
       " à \n",
       "<mark class=\"entity\" style=\"background: #ff9561; padding: 0.45em 0.6em; margin: 0 0.25em; line-height: 1; border-radius: 0.35em;\">\n",
       "    Mouzoumou\n",
       "    <span style=\"font-size: 0.8em; font-weight: bold; line-height: 1; border-radius: 0.35em; vertical-align: middle; margin-left: 0.5rem\">LOC</span>\n",
       "</mark>\n",
       " ORGANISATEUR/ BADIEL \n",
       "<mark class=\"entity\" style=\"background: #ddd; padding: 0.45em 0.6em; margin: 0 0.25em; line-height: 1; border-radius: 0.35em;\">\n",
       "    B. Patrice\n",
       "    <span style=\"font-size: 0.8em; font-weight: bold; line-height: 1; border-radius: 0.35em; vertical-align: middle; margin-left: 0.5rem\">PER</span>\n",
       "</mark>\n",
       ", cultivateur à \n",
       "<mark class=\"entity\" style=\"background: #ddd; padding: 0.45em 0.6em; margin: 0 0.25em; line-height: 1; border-radius: 0.35em;\">\n",
       "    Padyr ORGANISATEUR\n",
       "    <span style=\"font-size: 0.8em; font-weight: bold; line-height: 1; border-radius: 0.35em; vertical-align: middle; margin-left: 0.5rem\">PER</span>\n",
       "</mark>\n",
       " \n",
       "<mark class=\"entity\" style=\"background: #ddd; padding: 0.45em 0.6em; margin: 0 0.25em; line-height: 1; border-radius: 0.35em;\">\n",
       "    ADJOINT\n",
       "    <span style=\"font-size: 0.8em; font-weight: bold; line-height: 1; border-radius: 0.35em; vertical-align: middle; margin-left: 0.5rem\">MISC</span>\n",
       "</mark>\n",
       ": \n",
       "<mark class=\"entity\" style=\"background: #ddd; padding: 0.45em 0.6em; margin: 0 0.25em; line-height: 1; border-radius: 0.35em;\">\n",
       "    BAKO Issa\n",
       "    <span style=\"font-size: 0.8em; font-weight: bold; line-height: 1; border-radius: 0.35em; vertical-align: middle; margin-left: 0.5rem\">PER</span>\n",
       "</mark>\n",
       ", \n",
       "<mark class=\"entity\" style=\"background: #ddd; padding: 0.45em 0.6em; margin: 0 0.25em; line-height: 1; border-radius: 0.35em;\">\n",
       "    Cultivateur\n",
       "    <span style=\"font-size: 0.8em; font-weight: bold; line-height: 1; border-radius: 0.35em; vertical-align: middle; margin-left: 0.5rem\">PER</span>\n",
       "</mark>\n",
       " à \n",
       "<mark class=\"entity\" style=\"background: #ddd; padding: 0.45em 0.6em; margin: 0 0.25em; line-height: 1; border-radius: 0.35em;\">\n",
       "    Bouldié PREMIER CONSEILLER\n",
       "    <span style=\"font-size: 0.8em; font-weight: bold; line-height: 1; border-radius: 0.35em; vertical-align: middle; margin-left: 0.5rem\">PER</span>\n",
       "</mark>\n",
       ": \n",
       "<mark class=\"entity\" style=\"background: #ddd; padding: 0.45em 0.6em; margin: 0 0.25em; line-height: 1; border-radius: 0.35em;\">\n",
       "    BAKOUAN Badama\n",
       "    <span style=\"font-size: 0.8em; font-weight: bold; line-height: 1; border-radius: 0.35em; vertical-align: middle; margin-left: 0.5rem\">MISC</span>\n",
       "</mark>\n",
       ", \n",
       "<mark class=\"entity\" style=\"background: #ff9561; padding: 0.45em 0.6em; margin: 0 0.25em; line-height: 1; border-radius: 0.35em;\">\n",
       "    Cultivateur\n",
       "    <span style=\"font-size: 0.8em; font-weight: bold; line-height: 1; border-radius: 0.35em; vertical-align: middle; margin-left: 0.5rem\">LOC</span>\n",
       "</mark>\n",
       " à \n",
       "<mark class=\"entity\" style=\"background: #ddd; padding: 0.45em 0.6em; margin: 0 0.25em; line-height: 1; border-radius: 0.35em;\">\n",
       "    Kouen DEUXIEME\n",
       "    <span style=\"font-size: 0.8em; font-weight: bold; line-height: 1; border-radius: 0.35em; vertical-align: middle; margin-left: 0.5rem\">PER</span>\n",
       "</mark>\n",
       " CONSEILLER: BASSANE \n",
       "<mark class=\"entity\" style=\"background: #ff9561; padding: 0.45em 0.6em; margin: 0 0.25em; line-height: 1; border-radius: 0.35em;\">\n",
       "    Nebila\n",
       "    <span style=\"font-size: 0.8em; font-weight: bold; line-height: 1; border-radius: 0.35em; vertical-align: middle; margin-left: 0.5rem\">LOC</span>\n",
       "</mark>\n",
       ", cultivateur à \n",
       "<mark class=\"entity\" style=\"background: #ddd; padding: 0.45em 0.6em; margin: 0 0.25em; line-height: 1; border-radius: 0.35em;\">\n",
       "    Didyr COMMISSAIRES\n",
       "    <span style=\"font-size: 0.8em; font-weight: bold; line-height: 1; border-radius: 0.35em; vertical-align: middle; margin-left: 0.5rem\">PER</span>\n",
       "</mark>\n",
       " AUX \n",
       "<mark class=\"entity\" style=\"background: #ddd; padding: 0.45em 0.6em; margin: 0 0.25em; line-height: 1; border-radius: 0.35em;\">\n",
       "    COMPTES\n",
       "    <span style=\"font-size: 0.8em; font-weight: bold; line-height: 1; border-radius: 0.35em; vertical-align: middle; margin-left: 0.5rem\">MISC</span>\n",
       "</mark>\n",
       ": \n",
       "<mark class=\"entity\" style=\"background: #ddd; padding: 0.45em 0.6em; margin: 0 0.25em; line-height: 1; border-radius: 0.35em;\">\n",
       "    KANDIEL Eugénie\n",
       "    <span style=\"font-size: 0.8em; font-weight: bold; line-height: 1; border-radius: 0.35em; vertical-align: middle; margin-left: 0.5rem\">PER</span>\n",
       "</mark>\n",
       ", \n",
       "<mark class=\"entity\" style=\"background: #ddd; padding: 0.45em 0.6em; margin: 0 0.25em; line-height: 1; border-radius: 0.35em;\">\n",
       "    Ménagère\n",
       "    <span style=\"font-size: 0.8em; font-weight: bold; line-height: 1; border-radius: 0.35em; vertical-align: middle; margin-left: 0.5rem\">PER</span>\n",
       "</mark>\n",
       " à \n",
       "<mark class=\"entity\" style=\"background: #ff9561; padding: 0.45em 0.6em; margin: 0 0.25em; line-height: 1; border-radius: 0.35em;\">\n",
       "    Didyr\n",
       "    <span style=\"font-size: 0.8em; font-weight: bold; line-height: 1; border-radius: 0.35em; vertical-align: middle; margin-left: 0.5rem\">LOC</span>\n",
       "</mark>\n",
       ".</div></span>"
      ],
      "text/plain": [
       "<IPython.core.display.HTML object>"
      ]
     },
     "metadata": {},
     "output_type": "display_data"
    }
   ],
   "source": [
    "displacy.render(doc, style=\"ent\", jupyter=True)"
   ]
  },
  {
   "cell_type": "markdown",
   "id": "b96a5a96-a030-4684-afd3-d23002864699",
   "metadata": {},
   "source": [
    "#### Explain label"
   ]
  },
  {
   "cell_type": "code",
   "execution_count": 77,
   "id": "7ea45762-3062-493f-98c6-7b71792a5832",
   "metadata": {},
   "outputs": [
    {
     "data": {
      "text/plain": [
       "'Miscellaneous entities, e.g. events, nationalities, products or works of art'"
      ]
     },
     "execution_count": 77,
     "metadata": {},
     "output_type": "execute_result"
    }
   ],
   "source": [
    "spacy.explain(\"MISC\")"
   ]
  },
  {
   "cell_type": "code",
   "execution_count": 78,
   "id": "84946a7f-08f1-4ebe-b9b0-3e8fae25e569",
   "metadata": {},
   "outputs": [
    {
     "name": "stdout",
     "output_type": "stream",
     "text": [
      "{'score': 0.009816434234380722, 'start': 161, 'end': 166, 'answer': '10/92'}\n"
     ]
    }
   ],
   "source": [
    "QA_input = {\n",
    "    'question': \"Quel est le numero de récépissé de déclaration de l'association?\",\n",
    "    'context': sent.text\n",
    "}\n",
    "res = hugg(QA_input)\n",
    "\n",
    "print(res)"
   ]
  },
  {
   "cell_type": "code",
   "execution_count": 81,
   "id": "bbaba9d3-3338-4d46-a8eb-fbe9c36e4236",
   "metadata": {},
   "outputs": [
    {
     "name": "stdout",
     "output_type": "stream",
     "text": [
      "{'score': 0.06995436549186707, 'start': 0, 'end': 45, 'answer': 'Le Haut-Commissaire de la Province du Sanguié'}\n"
     ]
    }
   ],
   "source": [
    "QA_input = {\n",
    "    'question': \"Quel est le nom  de l'association?\",\n",
    "    'context': sent.text\n",
    "}\n",
    "res = hugg(QA_input)\n",
    "\n",
    "print(res)"
   ]
  },
  {
   "cell_type": "code",
   "execution_count": 80,
   "id": "bd4425ea-ac49-4e18-aa34-18a7d4ea5175",
   "metadata": {},
   "outputs": [
    {
     "name": "stdout",
     "output_type": "stream",
     "text": [
      "{'score': 0.1081160232424736, 'start': 0, 'end': 45, 'answer': 'Le Haut-Commissaire de la Province du Sanguié'}\n"
     ]
    }
   ],
   "source": [
    "QA_input = {\n",
    "    'question': \"What is the name of the association?\",\n",
    "    'context': sent.text\n",
    "}\n",
    "res = hugg(QA_input)\n",
    "\n",
    "print(res)"
   ]
  },
  {
   "cell_type": "markdown",
   "id": "5e5e96f0-b609-4ccc-a449-113c1fe4506b",
   "metadata": {},
   "source": [
    "## Integrate transformer-based model to spacy"
   ]
  },
  {
   "cell_type": "code",
   "execution_count": 33,
   "id": "584a9920-58e1-4bed-b5bd-0e60f524a2f0",
   "metadata": {},
   "outputs": [
    {
     "ename": "OSError",
     "evalue": "dbmdz/bert-large-cased-finetuned-conll03-french is not a local folder and is not a valid model identifier listed on 'https://huggingface.co/models'\nIf this is a private repository, make sure to pass a token having permission to this repo either by logging in with `huggingface-cli login` or by passing `token=<your_token>`",
     "output_type": "error",
     "traceback": [
      "\u001b[0;31m---------------------------------------------------------------------------\u001b[0m",
      "\u001b[0;31mHTTPError\u001b[0m                                 Traceback (most recent call last)",
      "File \u001b[0;32m~/.virtualenvs/data-challenge-journaux-bf/lib/python3.10/site-packages/huggingface_hub/utils/_errors.py:304\u001b[0m, in \u001b[0;36mhf_raise_for_status\u001b[0;34m(response, endpoint_name)\u001b[0m\n\u001b[1;32m    303\u001b[0m \u001b[38;5;28;01mtry\u001b[39;00m:\n\u001b[0;32m--> 304\u001b[0m     \u001b[43mresponse\u001b[49m\u001b[38;5;241;43m.\u001b[39;49m\u001b[43mraise_for_status\u001b[49m\u001b[43m(\u001b[49m\u001b[43m)\u001b[49m\n\u001b[1;32m    305\u001b[0m \u001b[38;5;28;01mexcept\u001b[39;00m HTTPError \u001b[38;5;28;01mas\u001b[39;00m e:\n",
      "File \u001b[0;32m~/.virtualenvs/data-challenge-journaux-bf/lib/python3.10/site-packages/requests/models.py:1021\u001b[0m, in \u001b[0;36mResponse.raise_for_status\u001b[0;34m(self)\u001b[0m\n\u001b[1;32m   1020\u001b[0m \u001b[38;5;28;01mif\u001b[39;00m http_error_msg:\n\u001b[0;32m-> 1021\u001b[0m     \u001b[38;5;28;01mraise\u001b[39;00m HTTPError(http_error_msg, response\u001b[38;5;241m=\u001b[39m\u001b[38;5;28mself\u001b[39m)\n",
      "\u001b[0;31mHTTPError\u001b[0m: 401 Client Error: Unauthorized for url: https://huggingface.co/dbmdz/bert-large-cased-finetuned-conll03-french/resolve/main/tokenizer_config.json",
      "\nThe above exception was the direct cause of the following exception:\n",
      "\u001b[0;31mRepositoryNotFoundError\u001b[0m                   Traceback (most recent call last)",
      "File \u001b[0;32m~/.virtualenvs/data-challenge-journaux-bf/lib/python3.10/site-packages/transformers/utils/hub.py:398\u001b[0m, in \u001b[0;36mcached_file\u001b[0;34m(path_or_repo_id, filename, cache_dir, force_download, resume_download, proxies, token, revision, local_files_only, subfolder, repo_type, user_agent, _raise_exceptions_for_gated_repo, _raise_exceptions_for_missing_entries, _raise_exceptions_for_connection_errors, _commit_hash, **deprecated_kwargs)\u001b[0m\n\u001b[1;32m    396\u001b[0m \u001b[38;5;28;01mtry\u001b[39;00m:\n\u001b[1;32m    397\u001b[0m     \u001b[38;5;66;03m# Load from URL or cache if already cached\u001b[39;00m\n\u001b[0;32m--> 398\u001b[0m     resolved_file \u001b[38;5;241m=\u001b[39m \u001b[43mhf_hub_download\u001b[49m\u001b[43m(\u001b[49m\n\u001b[1;32m    399\u001b[0m \u001b[43m        \u001b[49m\u001b[43mpath_or_repo_id\u001b[49m\u001b[43m,\u001b[49m\n\u001b[1;32m    400\u001b[0m \u001b[43m        \u001b[49m\u001b[43mfilename\u001b[49m\u001b[43m,\u001b[49m\n\u001b[1;32m    401\u001b[0m \u001b[43m        \u001b[49m\u001b[43msubfolder\u001b[49m\u001b[38;5;241;43m=\u001b[39;49m\u001b[38;5;28;43;01mNone\u001b[39;49;00m\u001b[43m \u001b[49m\u001b[38;5;28;43;01mif\u001b[39;49;00m\u001b[43m \u001b[49m\u001b[38;5;28;43mlen\u001b[39;49m\u001b[43m(\u001b[49m\u001b[43msubfolder\u001b[49m\u001b[43m)\u001b[49m\u001b[43m \u001b[49m\u001b[38;5;241;43m==\u001b[39;49m\u001b[43m \u001b[49m\u001b[38;5;241;43m0\u001b[39;49m\u001b[43m \u001b[49m\u001b[38;5;28;43;01melse\u001b[39;49;00m\u001b[43m \u001b[49m\u001b[43msubfolder\u001b[49m\u001b[43m,\u001b[49m\n\u001b[1;32m    402\u001b[0m \u001b[43m        \u001b[49m\u001b[43mrepo_type\u001b[49m\u001b[38;5;241;43m=\u001b[39;49m\u001b[43mrepo_type\u001b[49m\u001b[43m,\u001b[49m\n\u001b[1;32m    403\u001b[0m \u001b[43m        \u001b[49m\u001b[43mrevision\u001b[49m\u001b[38;5;241;43m=\u001b[39;49m\u001b[43mrevision\u001b[49m\u001b[43m,\u001b[49m\n\u001b[1;32m    404\u001b[0m \u001b[43m        \u001b[49m\u001b[43mcache_dir\u001b[49m\u001b[38;5;241;43m=\u001b[39;49m\u001b[43mcache_dir\u001b[49m\u001b[43m,\u001b[49m\n\u001b[1;32m    405\u001b[0m \u001b[43m        \u001b[49m\u001b[43muser_agent\u001b[49m\u001b[38;5;241;43m=\u001b[39;49m\u001b[43muser_agent\u001b[49m\u001b[43m,\u001b[49m\n\u001b[1;32m    406\u001b[0m \u001b[43m        \u001b[49m\u001b[43mforce_download\u001b[49m\u001b[38;5;241;43m=\u001b[39;49m\u001b[43mforce_download\u001b[49m\u001b[43m,\u001b[49m\n\u001b[1;32m    407\u001b[0m \u001b[43m        \u001b[49m\u001b[43mproxies\u001b[49m\u001b[38;5;241;43m=\u001b[39;49m\u001b[43mproxies\u001b[49m\u001b[43m,\u001b[49m\n\u001b[1;32m    408\u001b[0m \u001b[43m        \u001b[49m\u001b[43mresume_download\u001b[49m\u001b[38;5;241;43m=\u001b[39;49m\u001b[43mresume_download\u001b[49m\u001b[43m,\u001b[49m\n\u001b[1;32m    409\u001b[0m \u001b[43m        \u001b[49m\u001b[43mtoken\u001b[49m\u001b[38;5;241;43m=\u001b[39;49m\u001b[43mtoken\u001b[49m\u001b[43m,\u001b[49m\n\u001b[1;32m    410\u001b[0m \u001b[43m        \u001b[49m\u001b[43mlocal_files_only\u001b[49m\u001b[38;5;241;43m=\u001b[39;49m\u001b[43mlocal_files_only\u001b[49m\u001b[43m,\u001b[49m\n\u001b[1;32m    411\u001b[0m \u001b[43m    \u001b[49m\u001b[43m)\u001b[49m\n\u001b[1;32m    412\u001b[0m \u001b[38;5;28;01mexcept\u001b[39;00m GatedRepoError \u001b[38;5;28;01mas\u001b[39;00m e:\n",
      "File \u001b[0;32m~/.virtualenvs/data-challenge-journaux-bf/lib/python3.10/site-packages/huggingface_hub/utils/_validators.py:119\u001b[0m, in \u001b[0;36mvalidate_hf_hub_args.<locals>._inner_fn\u001b[0;34m(*args, **kwargs)\u001b[0m\n\u001b[1;32m    117\u001b[0m     kwargs \u001b[38;5;241m=\u001b[39m smoothly_deprecate_use_auth_token(fn_name\u001b[38;5;241m=\u001b[39mfn\u001b[38;5;241m.\u001b[39m\u001b[38;5;18m__name__\u001b[39m, has_token\u001b[38;5;241m=\u001b[39mhas_token, kwargs\u001b[38;5;241m=\u001b[39mkwargs)\n\u001b[0;32m--> 119\u001b[0m \u001b[38;5;28;01mreturn\u001b[39;00m \u001b[43mfn\u001b[49m\u001b[43m(\u001b[49m\u001b[38;5;241;43m*\u001b[39;49m\u001b[43margs\u001b[49m\u001b[43m,\u001b[49m\u001b[43m \u001b[49m\u001b[38;5;241;43m*\u001b[39;49m\u001b[38;5;241;43m*\u001b[39;49m\u001b[43mkwargs\u001b[49m\u001b[43m)\u001b[49m\n",
      "File \u001b[0;32m~/.virtualenvs/data-challenge-journaux-bf/lib/python3.10/site-packages/huggingface_hub/file_download.py:1403\u001b[0m, in \u001b[0;36mhf_hub_download\u001b[0;34m(repo_id, filename, subfolder, repo_type, revision, library_name, library_version, cache_dir, local_dir, local_dir_use_symlinks, user_agent, force_download, force_filename, proxies, etag_timeout, resume_download, token, local_files_only, headers, legacy_cache_layout, endpoint)\u001b[0m\n\u001b[1;32m   1401\u001b[0m \u001b[38;5;28;01melif\u001b[39;00m \u001b[38;5;28misinstance\u001b[39m(head_call_error, RepositoryNotFoundError) \u001b[38;5;129;01mor\u001b[39;00m \u001b[38;5;28misinstance\u001b[39m(head_call_error, GatedRepoError):\n\u001b[1;32m   1402\u001b[0m     \u001b[38;5;66;03m# Repo not found or gated => let's raise the actual error\u001b[39;00m\n\u001b[0;32m-> 1403\u001b[0m     \u001b[38;5;28;01mraise\u001b[39;00m head_call_error\n\u001b[1;32m   1404\u001b[0m \u001b[38;5;28;01melse\u001b[39;00m:\n\u001b[1;32m   1405\u001b[0m     \u001b[38;5;66;03m# Otherwise: most likely a connection issue or Hub downtime => let's warn the user\u001b[39;00m\n",
      "File \u001b[0;32m~/.virtualenvs/data-challenge-journaux-bf/lib/python3.10/site-packages/huggingface_hub/file_download.py:1261\u001b[0m, in \u001b[0;36mhf_hub_download\u001b[0;34m(repo_id, filename, subfolder, repo_type, revision, library_name, library_version, cache_dir, local_dir, local_dir_use_symlinks, user_agent, force_download, force_filename, proxies, etag_timeout, resume_download, token, local_files_only, headers, legacy_cache_layout, endpoint)\u001b[0m\n\u001b[1;32m   1260\u001b[0m \u001b[38;5;28;01mtry\u001b[39;00m:\n\u001b[0;32m-> 1261\u001b[0m     metadata \u001b[38;5;241m=\u001b[39m \u001b[43mget_hf_file_metadata\u001b[49m\u001b[43m(\u001b[49m\n\u001b[1;32m   1262\u001b[0m \u001b[43m        \u001b[49m\u001b[43murl\u001b[49m\u001b[38;5;241;43m=\u001b[39;49m\u001b[43murl\u001b[49m\u001b[43m,\u001b[49m\n\u001b[1;32m   1263\u001b[0m \u001b[43m        \u001b[49m\u001b[43mtoken\u001b[49m\u001b[38;5;241;43m=\u001b[39;49m\u001b[43mtoken\u001b[49m\u001b[43m,\u001b[49m\n\u001b[1;32m   1264\u001b[0m \u001b[43m        \u001b[49m\u001b[43mproxies\u001b[49m\u001b[38;5;241;43m=\u001b[39;49m\u001b[43mproxies\u001b[49m\u001b[43m,\u001b[49m\n\u001b[1;32m   1265\u001b[0m \u001b[43m        \u001b[49m\u001b[43mtimeout\u001b[49m\u001b[38;5;241;43m=\u001b[39;49m\u001b[43metag_timeout\u001b[49m\u001b[43m,\u001b[49m\n\u001b[1;32m   1266\u001b[0m \u001b[43m        \u001b[49m\u001b[43mlibrary_name\u001b[49m\u001b[38;5;241;43m=\u001b[39;49m\u001b[43mlibrary_name\u001b[49m\u001b[43m,\u001b[49m\n\u001b[1;32m   1267\u001b[0m \u001b[43m        \u001b[49m\u001b[43mlibrary_version\u001b[49m\u001b[38;5;241;43m=\u001b[39;49m\u001b[43mlibrary_version\u001b[49m\u001b[43m,\u001b[49m\n\u001b[1;32m   1268\u001b[0m \u001b[43m        \u001b[49m\u001b[43muser_agent\u001b[49m\u001b[38;5;241;43m=\u001b[39;49m\u001b[43muser_agent\u001b[49m\u001b[43m,\u001b[49m\n\u001b[1;32m   1269\u001b[0m \u001b[43m    \u001b[49m\u001b[43m)\u001b[49m\n\u001b[1;32m   1270\u001b[0m \u001b[38;5;28;01mexcept\u001b[39;00m EntryNotFoundError \u001b[38;5;28;01mas\u001b[39;00m http_error:\n\u001b[1;32m   1271\u001b[0m     \u001b[38;5;66;03m# Cache the non-existence of the file and raise\u001b[39;00m\n",
      "File \u001b[0;32m~/.virtualenvs/data-challenge-journaux-bf/lib/python3.10/site-packages/huggingface_hub/utils/_validators.py:119\u001b[0m, in \u001b[0;36mvalidate_hf_hub_args.<locals>._inner_fn\u001b[0;34m(*args, **kwargs)\u001b[0m\n\u001b[1;32m    117\u001b[0m     kwargs \u001b[38;5;241m=\u001b[39m smoothly_deprecate_use_auth_token(fn_name\u001b[38;5;241m=\u001b[39mfn\u001b[38;5;241m.\u001b[39m\u001b[38;5;18m__name__\u001b[39m, has_token\u001b[38;5;241m=\u001b[39mhas_token, kwargs\u001b[38;5;241m=\u001b[39mkwargs)\n\u001b[0;32m--> 119\u001b[0m \u001b[38;5;28;01mreturn\u001b[39;00m \u001b[43mfn\u001b[49m\u001b[43m(\u001b[49m\u001b[38;5;241;43m*\u001b[39;49m\u001b[43margs\u001b[49m\u001b[43m,\u001b[49m\u001b[43m \u001b[49m\u001b[38;5;241;43m*\u001b[39;49m\u001b[38;5;241;43m*\u001b[39;49m\u001b[43mkwargs\u001b[49m\u001b[43m)\u001b[49m\n",
      "File \u001b[0;32m~/.virtualenvs/data-challenge-journaux-bf/lib/python3.10/site-packages/huggingface_hub/file_download.py:1674\u001b[0m, in \u001b[0;36mget_hf_file_metadata\u001b[0;34m(url, token, proxies, timeout, library_name, library_version, user_agent, headers)\u001b[0m\n\u001b[1;32m   1673\u001b[0m \u001b[38;5;66;03m# Retrieve metadata\u001b[39;00m\n\u001b[0;32m-> 1674\u001b[0m r \u001b[38;5;241m=\u001b[39m \u001b[43m_request_wrapper\u001b[49m\u001b[43m(\u001b[49m\n\u001b[1;32m   1675\u001b[0m \u001b[43m    \u001b[49m\u001b[43mmethod\u001b[49m\u001b[38;5;241;43m=\u001b[39;49m\u001b[38;5;124;43m\"\u001b[39;49m\u001b[38;5;124;43mHEAD\u001b[39;49m\u001b[38;5;124;43m\"\u001b[39;49m\u001b[43m,\u001b[49m\n\u001b[1;32m   1676\u001b[0m \u001b[43m    \u001b[49m\u001b[43murl\u001b[49m\u001b[38;5;241;43m=\u001b[39;49m\u001b[43murl\u001b[49m\u001b[43m,\u001b[49m\n\u001b[1;32m   1677\u001b[0m \u001b[43m    \u001b[49m\u001b[43mheaders\u001b[49m\u001b[38;5;241;43m=\u001b[39;49m\u001b[43mheaders\u001b[49m\u001b[43m,\u001b[49m\n\u001b[1;32m   1678\u001b[0m \u001b[43m    \u001b[49m\u001b[43mallow_redirects\u001b[49m\u001b[38;5;241;43m=\u001b[39;49m\u001b[38;5;28;43;01mFalse\u001b[39;49;00m\u001b[43m,\u001b[49m\n\u001b[1;32m   1679\u001b[0m \u001b[43m    \u001b[49m\u001b[43mfollow_relative_redirects\u001b[49m\u001b[38;5;241;43m=\u001b[39;49m\u001b[38;5;28;43;01mTrue\u001b[39;49;00m\u001b[43m,\u001b[49m\n\u001b[1;32m   1680\u001b[0m \u001b[43m    \u001b[49m\u001b[43mproxies\u001b[49m\u001b[38;5;241;43m=\u001b[39;49m\u001b[43mproxies\u001b[49m\u001b[43m,\u001b[49m\n\u001b[1;32m   1681\u001b[0m \u001b[43m    \u001b[49m\u001b[43mtimeout\u001b[49m\u001b[38;5;241;43m=\u001b[39;49m\u001b[43mtimeout\u001b[49m\u001b[43m,\u001b[49m\n\u001b[1;32m   1682\u001b[0m \u001b[43m\u001b[49m\u001b[43m)\u001b[49m\n\u001b[1;32m   1683\u001b[0m hf_raise_for_status(r)\n",
      "File \u001b[0;32m~/.virtualenvs/data-challenge-journaux-bf/lib/python3.10/site-packages/huggingface_hub/file_download.py:369\u001b[0m, in \u001b[0;36m_request_wrapper\u001b[0;34m(method, url, follow_relative_redirects, **params)\u001b[0m\n\u001b[1;32m    368\u001b[0m \u001b[38;5;28;01mif\u001b[39;00m follow_relative_redirects:\n\u001b[0;32m--> 369\u001b[0m     response \u001b[38;5;241m=\u001b[39m \u001b[43m_request_wrapper\u001b[49m\u001b[43m(\u001b[49m\n\u001b[1;32m    370\u001b[0m \u001b[43m        \u001b[49m\u001b[43mmethod\u001b[49m\u001b[38;5;241;43m=\u001b[39;49m\u001b[43mmethod\u001b[49m\u001b[43m,\u001b[49m\n\u001b[1;32m    371\u001b[0m \u001b[43m        \u001b[49m\u001b[43murl\u001b[49m\u001b[38;5;241;43m=\u001b[39;49m\u001b[43murl\u001b[49m\u001b[43m,\u001b[49m\n\u001b[1;32m    372\u001b[0m \u001b[43m        \u001b[49m\u001b[43mfollow_relative_redirects\u001b[49m\u001b[38;5;241;43m=\u001b[39;49m\u001b[38;5;28;43;01mFalse\u001b[39;49;00m\u001b[43m,\u001b[49m\n\u001b[1;32m    373\u001b[0m \u001b[43m        \u001b[49m\u001b[38;5;241;43m*\u001b[39;49m\u001b[38;5;241;43m*\u001b[39;49m\u001b[43mparams\u001b[49m\u001b[43m,\u001b[49m\n\u001b[1;32m    374\u001b[0m \u001b[43m    \u001b[49m\u001b[43m)\u001b[49m\n\u001b[1;32m    376\u001b[0m     \u001b[38;5;66;03m# If redirection, we redirect only relative paths.\u001b[39;00m\n\u001b[1;32m    377\u001b[0m     \u001b[38;5;66;03m# This is useful in case of a renamed repository.\u001b[39;00m\n",
      "File \u001b[0;32m~/.virtualenvs/data-challenge-journaux-bf/lib/python3.10/site-packages/huggingface_hub/file_download.py:393\u001b[0m, in \u001b[0;36m_request_wrapper\u001b[0;34m(method, url, follow_relative_redirects, **params)\u001b[0m\n\u001b[1;32m    392\u001b[0m response \u001b[38;5;241m=\u001b[39m get_session()\u001b[38;5;241m.\u001b[39mrequest(method\u001b[38;5;241m=\u001b[39mmethod, url\u001b[38;5;241m=\u001b[39murl, \u001b[38;5;241m*\u001b[39m\u001b[38;5;241m*\u001b[39mparams)\n\u001b[0;32m--> 393\u001b[0m \u001b[43mhf_raise_for_status\u001b[49m\u001b[43m(\u001b[49m\u001b[43mresponse\u001b[49m\u001b[43m)\u001b[49m\n\u001b[1;32m    394\u001b[0m \u001b[38;5;28;01mreturn\u001b[39;00m response\n",
      "File \u001b[0;32m~/.virtualenvs/data-challenge-journaux-bf/lib/python3.10/site-packages/huggingface_hub/utils/_errors.py:352\u001b[0m, in \u001b[0;36mhf_raise_for_status\u001b[0;34m(response, endpoint_name)\u001b[0m\n\u001b[1;32m    344\u001b[0m     message \u001b[38;5;241m=\u001b[39m (\n\u001b[1;32m    345\u001b[0m         \u001b[38;5;124mf\u001b[39m\u001b[38;5;124m\"\u001b[39m\u001b[38;5;132;01m{\u001b[39;00mresponse\u001b[38;5;241m.\u001b[39mstatus_code\u001b[38;5;132;01m}\u001b[39;00m\u001b[38;5;124m Client Error.\u001b[39m\u001b[38;5;124m\"\u001b[39m\n\u001b[1;32m    346\u001b[0m         \u001b[38;5;241m+\u001b[39m \u001b[38;5;124m\"\u001b[39m\u001b[38;5;130;01m\\n\u001b[39;00m\u001b[38;5;130;01m\\n\u001b[39;00m\u001b[38;5;124m\"\u001b[39m\n\u001b[0;32m   (...)\u001b[0m\n\u001b[1;32m    350\u001b[0m         \u001b[38;5;124m\"\u001b[39m\u001b[38;5;124m make sure you are authenticated.\u001b[39m\u001b[38;5;124m\"\u001b[39m\n\u001b[1;32m    351\u001b[0m     )\n\u001b[0;32m--> 352\u001b[0m     \u001b[38;5;28;01mraise\u001b[39;00m RepositoryNotFoundError(message, response) \u001b[38;5;28;01mfrom\u001b[39;00m \u001b[38;5;21;01me\u001b[39;00m\n\u001b[1;32m    354\u001b[0m \u001b[38;5;28;01melif\u001b[39;00m response\u001b[38;5;241m.\u001b[39mstatus_code \u001b[38;5;241m==\u001b[39m \u001b[38;5;241m400\u001b[39m:\n",
      "\u001b[0;31mRepositoryNotFoundError\u001b[0m: 401 Client Error. (Request ID: Root=1-660e9718-0d5e881b246ab490617c2cc2;197b17a9-9cc0-4c6a-b65e-a81f60f9d6cb)\n\nRepository Not Found for url: https://huggingface.co/dbmdz/bert-large-cased-finetuned-conll03-french/resolve/main/tokenizer_config.json.\nPlease make sure you specified the correct `repo_id` and `repo_type`.\nIf you are trying to access a private or gated repo, make sure you are authenticated.\nInvalid username or password.",
      "\nThe above exception was the direct cause of the following exception:\n",
      "\u001b[0;31mOSError\u001b[0m                                   Traceback (most recent call last)",
      "Cell \u001b[0;32mIn[33], line 9\u001b[0m\n\u001b[1;32m      7\u001b[0m \u001b[38;5;66;03m# Load the transformer-based model and tokenizer\u001b[39;00m\n\u001b[1;32m      8\u001b[0m model_name \u001b[38;5;241m=\u001b[39m \u001b[38;5;124m\"\u001b[39m\u001b[38;5;124mdbmdz/bert-large-cased-finetuned-conll03-french\u001b[39m\u001b[38;5;124m\"\u001b[39m\n\u001b[0;32m----> 9\u001b[0m tokenizer \u001b[38;5;241m=\u001b[39m \u001b[43mAutoTokenizer\u001b[49m\u001b[38;5;241;43m.\u001b[39;49m\u001b[43mfrom_pretrained\u001b[49m\u001b[43m(\u001b[49m\u001b[43mmodel_name\u001b[49m\u001b[43m)\u001b[49m\n\u001b[1;32m     10\u001b[0m transformer_model \u001b[38;5;241m=\u001b[39m AutoModelForTokenClassification\u001b[38;5;241m.\u001b[39mfrom_pretrained(model_name)\n\u001b[1;32m     12\u001b[0m \u001b[38;5;66;03m# Define a custom SpaCy component to perform NER using the transformer model\u001b[39;00m\n",
      "File \u001b[0;32m~/.virtualenvs/data-challenge-journaux-bf/lib/python3.10/site-packages/transformers/models/auto/tokenization_auto.py:779\u001b[0m, in \u001b[0;36mAutoTokenizer.from_pretrained\u001b[0;34m(cls, pretrained_model_name_or_path, *inputs, **kwargs)\u001b[0m\n\u001b[1;32m    776\u001b[0m     \u001b[38;5;28;01mreturn\u001b[39;00m tokenizer_class\u001b[38;5;241m.\u001b[39mfrom_pretrained(pretrained_model_name_or_path, \u001b[38;5;241m*\u001b[39minputs, \u001b[38;5;241m*\u001b[39m\u001b[38;5;241m*\u001b[39mkwargs)\n\u001b[1;32m    778\u001b[0m \u001b[38;5;66;03m# Next, let's try to use the tokenizer_config file to get the tokenizer class.\u001b[39;00m\n\u001b[0;32m--> 779\u001b[0m tokenizer_config \u001b[38;5;241m=\u001b[39m \u001b[43mget_tokenizer_config\u001b[49m\u001b[43m(\u001b[49m\u001b[43mpretrained_model_name_or_path\u001b[49m\u001b[43m,\u001b[49m\u001b[43m \u001b[49m\u001b[38;5;241;43m*\u001b[39;49m\u001b[38;5;241;43m*\u001b[39;49m\u001b[43mkwargs\u001b[49m\u001b[43m)\u001b[49m\n\u001b[1;32m    780\u001b[0m \u001b[38;5;28;01mif\u001b[39;00m \u001b[38;5;124m\"\u001b[39m\u001b[38;5;124m_commit_hash\u001b[39m\u001b[38;5;124m\"\u001b[39m \u001b[38;5;129;01min\u001b[39;00m tokenizer_config:\n\u001b[1;32m    781\u001b[0m     kwargs[\u001b[38;5;124m\"\u001b[39m\u001b[38;5;124m_commit_hash\u001b[39m\u001b[38;5;124m\"\u001b[39m] \u001b[38;5;241m=\u001b[39m tokenizer_config[\u001b[38;5;124m\"\u001b[39m\u001b[38;5;124m_commit_hash\u001b[39m\u001b[38;5;124m\"\u001b[39m]\n",
      "File \u001b[0;32m~/.virtualenvs/data-challenge-journaux-bf/lib/python3.10/site-packages/transformers/models/auto/tokenization_auto.py:612\u001b[0m, in \u001b[0;36mget_tokenizer_config\u001b[0;34m(pretrained_model_name_or_path, cache_dir, force_download, resume_download, proxies, token, revision, local_files_only, subfolder, **kwargs)\u001b[0m\n\u001b[1;32m    609\u001b[0m     token \u001b[38;5;241m=\u001b[39m use_auth_token\n\u001b[1;32m    611\u001b[0m commit_hash \u001b[38;5;241m=\u001b[39m kwargs\u001b[38;5;241m.\u001b[39mget(\u001b[38;5;124m\"\u001b[39m\u001b[38;5;124m_commit_hash\u001b[39m\u001b[38;5;124m\"\u001b[39m, \u001b[38;5;28;01mNone\u001b[39;00m)\n\u001b[0;32m--> 612\u001b[0m resolved_config_file \u001b[38;5;241m=\u001b[39m \u001b[43mcached_file\u001b[49m\u001b[43m(\u001b[49m\n\u001b[1;32m    613\u001b[0m \u001b[43m    \u001b[49m\u001b[43mpretrained_model_name_or_path\u001b[49m\u001b[43m,\u001b[49m\n\u001b[1;32m    614\u001b[0m \u001b[43m    \u001b[49m\u001b[43mTOKENIZER_CONFIG_FILE\u001b[49m\u001b[43m,\u001b[49m\n\u001b[1;32m    615\u001b[0m \u001b[43m    \u001b[49m\u001b[43mcache_dir\u001b[49m\u001b[38;5;241;43m=\u001b[39;49m\u001b[43mcache_dir\u001b[49m\u001b[43m,\u001b[49m\n\u001b[1;32m    616\u001b[0m \u001b[43m    \u001b[49m\u001b[43mforce_download\u001b[49m\u001b[38;5;241;43m=\u001b[39;49m\u001b[43mforce_download\u001b[49m\u001b[43m,\u001b[49m\n\u001b[1;32m    617\u001b[0m \u001b[43m    \u001b[49m\u001b[43mresume_download\u001b[49m\u001b[38;5;241;43m=\u001b[39;49m\u001b[43mresume_download\u001b[49m\u001b[43m,\u001b[49m\n\u001b[1;32m    618\u001b[0m \u001b[43m    \u001b[49m\u001b[43mproxies\u001b[49m\u001b[38;5;241;43m=\u001b[39;49m\u001b[43mproxies\u001b[49m\u001b[43m,\u001b[49m\n\u001b[1;32m    619\u001b[0m \u001b[43m    \u001b[49m\u001b[43mtoken\u001b[49m\u001b[38;5;241;43m=\u001b[39;49m\u001b[43mtoken\u001b[49m\u001b[43m,\u001b[49m\n\u001b[1;32m    620\u001b[0m \u001b[43m    \u001b[49m\u001b[43mrevision\u001b[49m\u001b[38;5;241;43m=\u001b[39;49m\u001b[43mrevision\u001b[49m\u001b[43m,\u001b[49m\n\u001b[1;32m    621\u001b[0m \u001b[43m    \u001b[49m\u001b[43mlocal_files_only\u001b[49m\u001b[38;5;241;43m=\u001b[39;49m\u001b[43mlocal_files_only\u001b[49m\u001b[43m,\u001b[49m\n\u001b[1;32m    622\u001b[0m \u001b[43m    \u001b[49m\u001b[43msubfolder\u001b[49m\u001b[38;5;241;43m=\u001b[39;49m\u001b[43msubfolder\u001b[49m\u001b[43m,\u001b[49m\n\u001b[1;32m    623\u001b[0m \u001b[43m    \u001b[49m\u001b[43m_raise_exceptions_for_gated_repo\u001b[49m\u001b[38;5;241;43m=\u001b[39;49m\u001b[38;5;28;43;01mFalse\u001b[39;49;00m\u001b[43m,\u001b[49m\n\u001b[1;32m    624\u001b[0m \u001b[43m    \u001b[49m\u001b[43m_raise_exceptions_for_missing_entries\u001b[49m\u001b[38;5;241;43m=\u001b[39;49m\u001b[38;5;28;43;01mFalse\u001b[39;49;00m\u001b[43m,\u001b[49m\n\u001b[1;32m    625\u001b[0m \u001b[43m    \u001b[49m\u001b[43m_raise_exceptions_for_connection_errors\u001b[49m\u001b[38;5;241;43m=\u001b[39;49m\u001b[38;5;28;43;01mFalse\u001b[39;49;00m\u001b[43m,\u001b[49m\n\u001b[1;32m    626\u001b[0m \u001b[43m    \u001b[49m\u001b[43m_commit_hash\u001b[49m\u001b[38;5;241;43m=\u001b[39;49m\u001b[43mcommit_hash\u001b[49m\u001b[43m,\u001b[49m\n\u001b[1;32m    627\u001b[0m \u001b[43m\u001b[49m\u001b[43m)\u001b[49m\n\u001b[1;32m    628\u001b[0m \u001b[38;5;28;01mif\u001b[39;00m resolved_config_file \u001b[38;5;129;01mis\u001b[39;00m \u001b[38;5;28;01mNone\u001b[39;00m:\n\u001b[1;32m    629\u001b[0m     logger\u001b[38;5;241m.\u001b[39minfo(\u001b[38;5;124m\"\u001b[39m\u001b[38;5;124mCould not locate the tokenizer configuration file, will try to use the model config instead.\u001b[39m\u001b[38;5;124m\"\u001b[39m)\n",
      "File \u001b[0;32m~/.virtualenvs/data-challenge-journaux-bf/lib/python3.10/site-packages/transformers/utils/hub.py:421\u001b[0m, in \u001b[0;36mcached_file\u001b[0;34m(path_or_repo_id, filename, cache_dir, force_download, resume_download, proxies, token, revision, local_files_only, subfolder, repo_type, user_agent, _raise_exceptions_for_gated_repo, _raise_exceptions_for_missing_entries, _raise_exceptions_for_connection_errors, _commit_hash, **deprecated_kwargs)\u001b[0m\n\u001b[1;32m    416\u001b[0m     \u001b[38;5;28;01mraise\u001b[39;00m \u001b[38;5;167;01mEnvironmentError\u001b[39;00m(\n\u001b[1;32m    417\u001b[0m         \u001b[38;5;124m\"\u001b[39m\u001b[38;5;124mYou are trying to access a gated repo.\u001b[39m\u001b[38;5;130;01m\\n\u001b[39;00m\u001b[38;5;124mMake sure to have access to it at \u001b[39m\u001b[38;5;124m\"\u001b[39m\n\u001b[1;32m    418\u001b[0m         \u001b[38;5;124mf\u001b[39m\u001b[38;5;124m\"\u001b[39m\u001b[38;5;124mhttps://huggingface.co/\u001b[39m\u001b[38;5;132;01m{\u001b[39;00mpath_or_repo_id\u001b[38;5;132;01m}\u001b[39;00m\u001b[38;5;124m.\u001b[39m\u001b[38;5;130;01m\\n\u001b[39;00m\u001b[38;5;132;01m{\u001b[39;00m\u001b[38;5;28mstr\u001b[39m(e)\u001b[38;5;132;01m}\u001b[39;00m\u001b[38;5;124m\"\u001b[39m\n\u001b[1;32m    419\u001b[0m     ) \u001b[38;5;28;01mfrom\u001b[39;00m \u001b[38;5;21;01me\u001b[39;00m\n\u001b[1;32m    420\u001b[0m \u001b[38;5;28;01mexcept\u001b[39;00m RepositoryNotFoundError \u001b[38;5;28;01mas\u001b[39;00m e:\n\u001b[0;32m--> 421\u001b[0m     \u001b[38;5;28;01mraise\u001b[39;00m \u001b[38;5;167;01mEnvironmentError\u001b[39;00m(\n\u001b[1;32m    422\u001b[0m         \u001b[38;5;124mf\u001b[39m\u001b[38;5;124m\"\u001b[39m\u001b[38;5;132;01m{\u001b[39;00mpath_or_repo_id\u001b[38;5;132;01m}\u001b[39;00m\u001b[38;5;124m is not a local folder and is not a valid model identifier \u001b[39m\u001b[38;5;124m\"\u001b[39m\n\u001b[1;32m    423\u001b[0m         \u001b[38;5;124m\"\u001b[39m\u001b[38;5;124mlisted on \u001b[39m\u001b[38;5;124m'\u001b[39m\u001b[38;5;124mhttps://huggingface.co/models\u001b[39m\u001b[38;5;124m'\u001b[39m\u001b[38;5;130;01m\\n\u001b[39;00m\u001b[38;5;124mIf this is a private repository, make sure to pass a token \u001b[39m\u001b[38;5;124m\"\u001b[39m\n\u001b[1;32m    424\u001b[0m         \u001b[38;5;124m\"\u001b[39m\u001b[38;5;124mhaving permission to this repo either by logging in with `huggingface-cli login` or by passing \u001b[39m\u001b[38;5;124m\"\u001b[39m\n\u001b[1;32m    425\u001b[0m         \u001b[38;5;124m\"\u001b[39m\u001b[38;5;124m`token=<your_token>`\u001b[39m\u001b[38;5;124m\"\u001b[39m\n\u001b[1;32m    426\u001b[0m     ) \u001b[38;5;28;01mfrom\u001b[39;00m \u001b[38;5;21;01me\u001b[39;00m\n\u001b[1;32m    427\u001b[0m \u001b[38;5;28;01mexcept\u001b[39;00m RevisionNotFoundError \u001b[38;5;28;01mas\u001b[39;00m e:\n\u001b[1;32m    428\u001b[0m     \u001b[38;5;28;01mraise\u001b[39;00m \u001b[38;5;167;01mEnvironmentError\u001b[39;00m(\n\u001b[1;32m    429\u001b[0m         \u001b[38;5;124mf\u001b[39m\u001b[38;5;124m\"\u001b[39m\u001b[38;5;132;01m{\u001b[39;00mrevision\u001b[38;5;132;01m}\u001b[39;00m\u001b[38;5;124m is not a valid git identifier (branch name, tag name or commit id) that exists \u001b[39m\u001b[38;5;124m\"\u001b[39m\n\u001b[1;32m    430\u001b[0m         \u001b[38;5;124m\"\u001b[39m\u001b[38;5;124mfor this model name. Check the model page at \u001b[39m\u001b[38;5;124m\"\u001b[39m\n\u001b[1;32m    431\u001b[0m         \u001b[38;5;124mf\u001b[39m\u001b[38;5;124m\"\u001b[39m\u001b[38;5;124m'\u001b[39m\u001b[38;5;124mhttps://huggingface.co/\u001b[39m\u001b[38;5;132;01m{\u001b[39;00mpath_or_repo_id\u001b[38;5;132;01m}\u001b[39;00m\u001b[38;5;124m'\u001b[39m\u001b[38;5;124m for available revisions.\u001b[39m\u001b[38;5;124m\"\u001b[39m\n\u001b[1;32m    432\u001b[0m     ) \u001b[38;5;28;01mfrom\u001b[39;00m \u001b[38;5;21;01me\u001b[39;00m\n",
      "\u001b[0;31mOSError\u001b[0m: dbmdz/bert-large-cased-finetuned-conll03-french is not a local folder and is not a valid model identifier listed on 'https://huggingface.co/models'\nIf this is a private repository, make sure to pass a token having permission to this repo either by logging in with `huggingface-cli login` or by passing `token=<your_token>`"
     ]
    }
   ],
   "source": [
    "import spacy\n",
    "from transformers import AutoModelForTokenClassification, AutoTokenizer\n",
    "\n",
    "# Load the SpaCy French language model\n",
    "nlp = spacy.blank(\"fr\")\n",
    "\n",
    "# Load the transformer-based model and tokenizer\n",
    "model_name = \"dbmdz/bert-large-cased-finetuned-conll03-french\"\n",
    "tokenizer = AutoTokenizer.from_pretrained(model_name)\n",
    "transformer_model = AutoModelForTokenClassification.from_pretrained(model_name)\n",
    "\n",
    "# Define a custom SpaCy component to perform NER using the transformer model\n",
    "@spacy.Language.factory(\"transformer_ner\")\n",
    "def create_transformer_ner_component(nlp, name, model=transformer_model, tokenizer=tokenizer):\n",
    "    return TransformerNER(model, tokenizer)\n",
    "\n",
    "class TransformerNER:\n",
    "    def __init__(self, model, tokenizer):\n",
    "        self.model = model\n",
    "        self.tokenizer = tokenizer\n",
    "\n",
    "    def __call__(self, doc):\n",
    "        # Tokenize input text\n",
    "        tokens = self.tokenizer.tokenize(doc.text)\n",
    "        tokenized_input = self.tokenizer(doc.text, return_tensors=\"pt\")\n",
    "\n",
    "        # Perform token classification with the transformer model\n",
    "        with torch.no_grad():\n",
    "            outputs = self.model(**tokenized_input)\n",
    "            predictions = outputs.logits.argmax(dim=-1)\n",
    "\n",
    "        # Map predicted labels back to SpaCy entities\n",
    "        entities = []\n",
    "        for token, label_id in zip(tokens, predictions[0]):\n",
    "            label = self.model.config.id2label[label_id.item()]\n",
    "            if label != \"O\":  # Skip tokens labeled as 'O' (outside entity)\n",
    "                entities.append((token, label))\n",
    "\n",
    "        # Add entities to SpaCy Doc\n",
    "        for token, label in entities:\n",
    "            start_char = doc.text.find(token)\n",
    "            end_char = start_char + len(token)\n",
    "            doc.ents += [(start_char, end_char, label)]\n",
    "\n",
    "        return doc\n",
    "\n",
    "# Add the custom component to the SpaCy pipeline\n",
    "nlp.add_pipe(\"transformer_ner\")\n",
    "\n",
    "# Example usage\n",
    "text = \"Emmanuel Macron est le président de la France.\"\n",
    "doc = nlp(text)\n",
    "print([(ent.text, ent.label_) for ent in doc.ents])\n"
   ]
  },
  {
   "cell_type": "code",
   "execution_count": null,
   "id": "c62304be-0aad-4cb8-a7b8-e4af0139cfa0",
   "metadata": {},
   "outputs": [],
   "source": []
  }
 ],
 "metadata": {
  "kernelspec": {
   "display_name": "Python 3 (ipykernel)",
   "language": "python",
   "name": "python3"
  },
  "language_info": {
   "codemirror_mode": {
    "name": "ipython",
    "version": 3
   },
   "file_extension": ".py",
   "mimetype": "text/x-python",
   "name": "python",
   "nbconvert_exporter": "python",
   "pygments_lexer": "ipython3",
   "version": "3.10.12"
  }
 },
 "nbformat": 4,
 "nbformat_minor": 5
}
